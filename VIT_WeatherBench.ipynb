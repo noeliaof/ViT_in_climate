{
 "cells": [
  {
   "cell_type": "markdown",
   "metadata": {},
   "source": [
    "### Vision transformer applied for weather variables predictions \n",
    "#### The model is adapted from two sources: \n",
    "* climatelearn         https://climatelearn.readthedocs.io/en/latest/user-guide/models.html\n",
    "* pytorch-image-models https://github.com/rwightman/pytorch-image-models/blob/main/timm/models/vision_transformer.py\n",
    "\n",
    "#### The data used correspond to \n",
    "* WeatherBech (coarser resolution from ERA5)"
   ]
  },
  {
   "cell_type": "code",
   "execution_count": 1,
   "metadata": {},
   "outputs": [
    {
     "name": "stderr",
     "output_type": "stream",
     "text": [
      "/storage/homefs/no21h426/.conda/envs/pyTT/lib/python3.10/site-packages/tqdm/auto.py:22: TqdmWarning: IProgress not found. Please update jupyter and ipywidgets. See https://ipywidgets.readthedocs.io/en/stable/user_install.html\n",
      "  from .autonotebook import tqdm as notebook_tqdm\n",
      "2023-03-27 13:51:18.289359: I tensorflow/core/platform/cpu_feature_guard.cc:193] This TensorFlow binary is optimized with oneAPI Deep Neural Network Library (oneDNN) to use the following CPU instructions in performance-critical operations:  AVX2 FMA\n",
      "To enable them in other operations, rebuild TensorFlow with the appropriate compiler flags.\n",
      "2023-03-27 13:51:36.761297: W tensorflow/compiler/xla/stream_executor/platform/default/dso_loader.cc:64] Could not load dynamic library 'libnvinfer.so.7'; dlerror: libnvinfer.so.7: cannot open shared object file: No such file or directory; LD_LIBRARY_PATH: /software.el7/software/cuDNN/8.2.1.32-CUDA-11.3.1/lib:/software.el7/software/CUDA/11.3.1/nvvm/lib64:/software.el7/software/CUDA/11.3.1/extras/CUPTI/lib64:/software.el7/software/CUDA/11.3.1/lib:/software.el7/software/Python/3.9.5-GCCcore-10.3.0/lib:/software.el7/software/OpenSSL/1.1/lib:/software.el7/software/libffi/3.3-GCCcore-10.3.0/lib64:/software.el7/software/GMP/6.2.1-GCCcore-10.3.0/lib:/software.el7/software/SQLite/3.35.4-GCCcore-10.3.0/lib:/software.el7/software/Tcl/8.6.11-GCCcore-10.3.0/lib:/software.el7/software/libreadline/8.1-GCCcore-10.3.0/lib:/software.el7/software/ncurses/6.2-GCCcore-10.3.0/lib:/software.el7/software/zlib/1.2.11-GCCcore-10.3.0/lib:/software.el7/software/bzip2/1.0.8-GCCcore-10.3.0/lib:/software.el7/software/HDF5/1.12.1-gompi-2021a/lib:/software.el7/software/Szip/2.1.1-GCCcore-10.3.0/lib:/software.el7/software/ScaLAPACK/2.1.0-gompi-2021a-fb/lib:/software.el7/software/FFTW/3.3.9-gompi-2021a/lib:/software.el7/software/FlexiBLAS/3.0.4-GCC-10.3.0/lib:/software.el7/software/OpenBLAS/0.3.15-GCC-10.3.0/lib:/software.el7/software/OpenMPI/4.1.1-GCC-10.3.0/lib:/software.el7/software/libfabric/1.12.1-GCCcore-10.3.0/lib:/software.el7/software/UCX/1.10.0-GCCcore-10.3.0/lib:/software.el7/software/hwloc/2.4.1-GCCcore-10.3.0/lib:/software.el7/software/libpciaccess/0.16-GCCcore-10.3.0/lib:/software.el7/software/libxml2/2.9.10-GCCcore-10.3.0/lib:/software.el7/software/XZ/5.2.5-GCCcore-10.3.0/lib:/software.el7/software/numactl/2.0.14-GCCcore-10.3.0/lib:/software.el7/software/binutils/2.36.1-GCCcore-10.3.0/lib:/software.el7/software/GCCcore/10.3.0/lib64\n",
      "2023-03-27 13:51:36.761758: W tensorflow/compiler/xla/stream_executor/platform/default/dso_loader.cc:64] Could not load dynamic library 'libnvinfer_plugin.so.7'; dlerror: libnvinfer_plugin.so.7: cannot open shared object file: No such file or directory; LD_LIBRARY_PATH: /software.el7/software/cuDNN/8.2.1.32-CUDA-11.3.1/lib:/software.el7/software/CUDA/11.3.1/nvvm/lib64:/software.el7/software/CUDA/11.3.1/extras/CUPTI/lib64:/software.el7/software/CUDA/11.3.1/lib:/software.el7/software/Python/3.9.5-GCCcore-10.3.0/lib:/software.el7/software/OpenSSL/1.1/lib:/software.el7/software/libffi/3.3-GCCcore-10.3.0/lib64:/software.el7/software/GMP/6.2.1-GCCcore-10.3.0/lib:/software.el7/software/SQLite/3.35.4-GCCcore-10.3.0/lib:/software.el7/software/Tcl/8.6.11-GCCcore-10.3.0/lib:/software.el7/software/libreadline/8.1-GCCcore-10.3.0/lib:/software.el7/software/ncurses/6.2-GCCcore-10.3.0/lib:/software.el7/software/zlib/1.2.11-GCCcore-10.3.0/lib:/software.el7/software/bzip2/1.0.8-GCCcore-10.3.0/lib:/software.el7/software/HDF5/1.12.1-gompi-2021a/lib:/software.el7/software/Szip/2.1.1-GCCcore-10.3.0/lib:/software.el7/software/ScaLAPACK/2.1.0-gompi-2021a-fb/lib:/software.el7/software/FFTW/3.3.9-gompi-2021a/lib:/software.el7/software/FlexiBLAS/3.0.4-GCC-10.3.0/lib:/software.el7/software/OpenBLAS/0.3.15-GCC-10.3.0/lib:/software.el7/software/OpenMPI/4.1.1-GCC-10.3.0/lib:/software.el7/software/libfabric/1.12.1-GCCcore-10.3.0/lib:/software.el7/software/UCX/1.10.0-GCCcore-10.3.0/lib:/software.el7/software/hwloc/2.4.1-GCCcore-10.3.0/lib:/software.el7/software/libpciaccess/0.16-GCCcore-10.3.0/lib:/software.el7/software/libxml2/2.9.10-GCCcore-10.3.0/lib:/software.el7/software/XZ/5.2.5-GCCcore-10.3.0/lib:/software.el7/software/numactl/2.0.14-GCCcore-10.3.0/lib:/software.el7/software/binutils/2.36.1-GCCcore-10.3.0/lib:/software.el7/software/GCCcore/10.3.0/lib64\n",
      "2023-03-27 13:51:36.761775: W tensorflow/compiler/tf2tensorrt/utils/py_utils.cc:38] TF-TRT Warning: Cannot dlopen some TensorRT libraries. If you would like to use Nvidia GPU with TensorRT, please make sure the missing libraries mentioned above are installed properly.\n"
     ]
    }
   ],
   "source": [
    "import torch as T\n",
    "import torch.nn as nn\n",
    "#from torchtext import data, datasets\n",
    "#from torchtext.vocab import Vocab\n",
    "import torch.optim as optim\n",
    "import time\n",
    "import copy\n",
    "import torch\n",
    "import torch.nn.functional as F\n",
    "from torchsummary import summary\n",
    "import math\n",
    "\n",
    "# Common imports\n",
    "import os\n",
    "import glob\n",
    "import numpy as np\n",
    "import pandas as pd\n",
    "import xarray as xr\n",
    "import dask\n",
    "import math\n",
    "import datetime\n",
    "from collections import OrderedDict\n",
    "\n",
    "# Custom imports\n",
    "from utils.datagenerator import *\n",
    "from utils.util_data import * \n",
    "from utils.metrics import *\n",
    "from utils.helpers import *\n",
    "from utils.drop import *"
   ]
  },
  {
   "cell_type": "code",
   "execution_count": 2,
   "metadata": {},
   "outputs": [
    {
     "name": "stdout",
     "output_type": "stream",
     "text": [
      "Cuda Avaliable : True\n",
      "cuda\n"
     ]
    }
   ],
   "source": [
    "print(\"Cuda Avaliable :\", torch.cuda.is_available())\n",
    "\n",
    "device = torch.device('cuda' if torch.cuda.is_available() else 'cpu')\n",
    "print(device)"
   ]
  },
  {
   "cell_type": "code",
   "execution_count": 3,
   "metadata": {},
   "outputs": [],
   "source": [
    "# open data from WeatherBench\n",
    "DATADIR = '/storage/homefs/no21h426/WeatherBench-master/data/WeatherBench/5.625deg/'\n",
    "# Load the entire dataset\n",
    "z500 = xr.open_mfdataset(f'{DATADIR}geopotential/*.nc', combine='by_coords').z\n",
    "t850 = xr.open_mfdataset(f'{DATADIR}temperature/*.nc', combine='by_coords').t.drop('level')\n",
    "ds = xr.merge([z500, t850])"
   ]
  },
  {
   "cell_type": "code",
   "execution_count": 4,
   "metadata": {},
   "outputs": [],
   "source": [
    "# only load a subset of the training data\n",
    "ds_train = ds.sel(time=slice('2015', '2016'))  \n",
    "ds_test = ds.sel(time=slice('2017', '2018'))"
   ]
  },
  {
   "cell_type": "code",
   "execution_count": 5,
   "metadata": {},
   "outputs": [
    {
     "name": "stdout",
     "output_type": "stream",
     "text": [
      "Loading data into RAM\n",
      "Loading data into RAM\n"
     ]
    }
   ],
   "source": [
    "# then we need a dictionary for all the variables and levels we want to extract from the dataset\n",
    "dic = OrderedDict({'z': None, 't': None})\n",
    "lead_time =1\n",
    "bs = 32\n",
    "# Create a training and validation data generator. Use the train mean and std for validation as well.\n",
    "dg_train = DataGenerator(\n",
    "    ds_train.sel(time=slice('2015', '2015')), dic, lead_time, batch_size=bs, load=True)\n",
    "dg_valid = DataGenerator(\n",
    "    ds_train.sel(time=slice('2016', '2016')), dic, lead_time, batch_size=bs, mean=dg_train.mean, std=dg_train.std, shuffle=False)"
   ]
  },
  {
   "cell_type": "code",
   "execution_count": 6,
   "metadata": {},
   "outputs": [
    {
     "name": "stdout",
     "output_type": "stream",
     "text": [
      "(32, 2, 32, 64)\n",
      "torch.Size([32, 2, 32, 64])\n"
     ]
    }
   ],
   "source": [
    "X,y=dg_train[0]\n",
    "print(X.shape)\n",
    "Xt = torch.as_tensor(X)\n",
    "print(Xt.shape)"
   ]
  },
  {
   "cell_type": "code",
   "execution_count": 7,
   "metadata": {},
   "outputs": [
    {
     "data": {
      "text/plain": [
       "<matplotlib.image.AxesImage at 0x7f7fb0613040>"
      ]
     },
     "execution_count": 7,
     "metadata": {},
     "output_type": "execute_result"
    },
    {
     "data": {
      "image/png": "[encoded data removed]",
      "text/plain": [
       "<Figure size 640x480 with 1 Axes>"
      ]
     },
     "metadata": {},
     "output_type": "display_data"
    }
   ],
   "source": [
    "plt.imshow(X[0,1,:,:])"
   ]
  },
  {
   "cell_type": "code",
   "execution_count": 8,
   "metadata": {},
   "outputs": [],
   "source": [
    "class Mlp(nn.Module):\n",
    "    \"\"\" MLP as used in Vision Transformer, MLP-Mixer and related networks\n",
    "    \"\"\"\n",
    "    def __init__(\n",
    "            self,\n",
    "            in_features,\n",
    "            hidden_features=None,\n",
    "            out_features=None,\n",
    "            act_layer=nn.GELU,\n",
    "            bias=True,\n",
    "            drop=0.,\n",
    "            use_conv=False,\n",
    "    ):\n",
    "        super().__init__()\n",
    "        out_features = out_features or in_features\n",
    "        hidden_features = hidden_features or in_features\n",
    "        bias = to_2tuple(bias)\n",
    "        drop_probs = to_2tuple(drop)\n",
    "        linear_layer = partial(nn.Conv2d, kernel_size=1) if use_conv else nn.Linear\n",
    "\n",
    "        self.fc1 = linear_layer(in_features, hidden_features, bias=bias[0])\n",
    "        self.act = act_layer()\n",
    "        self.drop1 = nn.Dropout(drop_probs[0])\n",
    "        self.fc2 = linear_layer(hidden_features, out_features, bias=bias[1])\n",
    "        self.drop2 = nn.Dropout(drop_probs[1])\n",
    "\n",
    "    def forward(self, x):\n",
    "        x = self.fc1(x)\n",
    "        x = self.act(x)\n",
    "        x = self.drop1(x)\n",
    "        x = self.fc2(x)\n",
    "        x = self.drop2(x)\n",
    "        return x"
   ]
  },
  {
   "cell_type": "code",
   "execution_count": 9,
   "metadata": {},
   "outputs": [],
   "source": [
    "\n",
    "class Attention(nn.Module):\n",
    "    def __init__(self, dim, num_heads=8, qkv_bias=False, attn_drop=0., drop=0.):\n",
    "        super().__init__()\n",
    "        assert dim % num_heads == 0, 'dim should be divisible by num_heads'\n",
    "        self.num_heads = num_heads\n",
    "        head_dim = dim // num_heads\n",
    "        self.scale = head_dim ** -0.5\n",
    "\n",
    "        self.qkv = nn.Linear(dim, dim * 3, bias=qkv_bias)\n",
    "        self.attn_drop = nn.Dropout(attn_drop)\n",
    "        self.proj = nn.Linear(dim, dim)\n",
    "        self.proj_drop = nn.Dropout(drop)\n",
    "\n",
    "    def forward(self, x):\n",
    "        B, N, C = x.shape\n",
    "        qkv = self.qkv(x).reshape(B, N, 3, self.num_heads, C // self.num_heads).permute(2, 0, 3, 1, 4)\n",
    "        q, k, v = qkv.unbind(0)   # make torchscript happy (cannot use tensor as tuple)\n",
    "\n",
    "        attn = (q @ k.transpose(-2, -1)) * self.scale\n",
    "        attn = attn.softmax(dim=-1)\n",
    "        attn = self.attn_drop(attn)\n",
    "\n",
    "        x = (attn @ v).transpose(1, 2).reshape(B, N, C)\n",
    "        x = self.proj(x)\n",
    "        x = self.proj_drop(x)\n",
    "        return x\n",
    "\n",
    "\n",
    "class LayerScale(nn.Module):\n",
    "    def __init__(self, dim, init_values=1e-5, inplace=False):\n",
    "        super().__init__()\n",
    "        self.inplace = inplace\n",
    "        self.gamma = nn.Parameter(init_values * torch.ones(dim))\n",
    "\n",
    "    def forward(self, x):\n",
    "        return x.mul_(self.gamma) if self.inplace else x * self.gamma\n",
    "        \n",
    "\n",
    "class Block(nn.Module):\n",
    "\n",
    "    def __init__(\n",
    "            self,\n",
    "            dim,\n",
    "            num_heads,\n",
    "            mlp_ratio=4.,\n",
    "            qkv_bias=False,\n",
    "            drop=0.,\n",
    "            attn_drop=0.,\n",
    "            init_values=None,\n",
    "            drop_path=0.,\n",
    "            act_layer=nn.GELU,\n",
    "            norm_layer=nn.LayerNorm\n",
    "    ):\n",
    "        super().__init__()\n",
    "        self.norm1 = norm_layer(dim)\n",
    "        self.attn = Attention(dim, num_heads=num_heads, qkv_bias=qkv_bias, attn_drop=attn_drop, drop=drop)\n",
    "        self.ls1 = LayerScale(dim, init_values=init_values) if init_values else nn.Identity()\n",
    "        # NOTE: drop path for stochastic depth, we shall see if this is better than dropout here\n",
    "        self.drop_path1 = DropPath(drop_path) if drop_path > 0. else nn.Identity()\n",
    "\n",
    "        self.norm2 = norm_layer(dim)\n",
    "        self.mlp = Mlp(in_features=dim, hidden_features=int(dim * mlp_ratio), act_layer=act_layer, drop=drop)\n",
    "\n",
    "        self.ls2 = LayerScale(dim, init_values=init_values) if init_values else nn.Identity()\n",
    "        self.drop_path2 = DropPath(drop_path) if drop_path > 0. else nn.Identity()\n",
    "\n",
    "    def forward(self, x):\n",
    "        x = x + self.drop_path1(self.ls1(self.attn(self.norm1(x))))\n",
    "        x = x + self.drop_path2(self.ls2(self.mlp(self.norm2(x))))\n",
    "        return x\n"
   ]
  },
  {
   "cell_type": "code",
   "execution_count": 10,
   "metadata": {},
   "outputs": [],
   "source": [
    "class PatchEmbed(nn.Module):\n",
    "    \"\"\" 2D Image to Patch Embedding\n",
    "    \"\"\"\n",
    "    def __init__(\n",
    "            self,\n",
    "            img_size=224,\n",
    "            patch_size=16,\n",
    "            in_chans=3,\n",
    "            embed_dim=768,\n",
    "            norm_layer=None,\n",
    "            flatten=True,\n",
    "            bias=True,\n",
    "    ):\n",
    "        super().__init__()\n",
    "        img_size = to_2tuple(img_size)\n",
    "        patch_size = to_2tuple(patch_size)\n",
    "        self.img_size = img_size\n",
    "        self.patch_size = patch_size\n",
    "        self.grid_size = (img_size[0] // patch_size[0], img_size[1] // patch_size[1])\n",
    "        self.num_patches = self.grid_size[0] * self.grid_size[1]\n",
    "        self.flatten = flatten\n",
    "\n",
    "        self.proj = nn.Conv2d(in_chans, embed_dim, kernel_size=patch_size, stride=patch_size, bias=bias)\n",
    "        self.norm = norm_layer(embed_dim) if norm_layer else nn.Identity()\n",
    "\n",
    "    def forward(self, x):\n",
    "        B, C, H, W = x.shape\n",
    "       # assert(H == self.img_size[0], f\"Input image height ({H}) doesn't match model ({self.img_size[0]}).\")\n",
    "       # assert(W == self.img_size[1], f\"Input image width ({W}) doesn't match model ({self.img_size[1]}).\")\n",
    "        # need to add\n",
    "        #x = torch.as_tensor(x)\n",
    "        x = self.proj(x)\n",
    "        if self.flatten:\n",
    "            x = x.flatten(2).transpose(1, 2)  # BCHW -> BNC\n",
    "        x = self.norm(x)\n",
    "        return x\n"
   ]
  },
  {
   "cell_type": "code",
   "execution_count": 11,
   "metadata": {},
   "outputs": [],
   "source": [
    "# patchE = PatchEmbed( [32,64], [16,16], 2, 64 )"
   ]
  },
  {
   "cell_type": "code",
   "execution_count": 12,
   "metadata": {},
   "outputs": [],
   "source": [
    "# test\n",
    "# test = torch.randn(2, 2, 32, 64)\n",
    "# pt = patchE(test)"
   ]
  },
  {
   "cell_type": "code",
   "execution_count": 13,
   "metadata": {},
   "outputs": [],
   "source": [
    "# --------------------------------------------------------\n",
    "# 2D sine-cosine position embedding\n",
    "# References:\n",
    "# Transformer: https://github.com/tensorflow/models/blob/master/official/nlp/transformer/model_utils.py\n",
    "# MoCo v3: https://github.com/facebookresearch/moco-v3\n",
    "# --------------------------------------------------------\n",
    "def get_2d_sincos_pos_embed(embed_dim, grid_size_h, grid_size_w, cls_token=False):\n",
    "    \"\"\"\n",
    "    grid_size: int of the grid height and width\n",
    "    return:\n",
    "    pos_embed: [grid_size*grid_size, embed_dim] or [1+grid_size*grid_size, embed_dim] (w/ or w/o cls_token)\n",
    "    \"\"\"\n",
    "    grid_h = np.arange(grid_size_h, dtype=np.float32)\n",
    "    grid_w = np.arange(grid_size_w, dtype=np.float32)\n",
    "    grid = np.meshgrid(grid_w, grid_h)  # here w goes first\n",
    "    grid = np.stack(grid, axis=0)\n",
    "\n",
    "    grid = grid.reshape([2, 1, grid_size_h, grid_size_w])\n",
    "    pos_embed = get_2d_sincos_pos_embed_from_grid(embed_dim, grid)\n",
    "    if cls_token:\n",
    "        pos_embed = np.concatenate([np.zeros([1, embed_dim]), pos_embed], axis=0)\n",
    "    return pos_embed\n",
    "\n",
    "\n",
    "def get_2d_sincos_pos_embed_from_grid(embed_dim, grid):\n",
    "    assert embed_dim % 2 == 0\n",
    "\n",
    "    # use half of dimensions to encode grid_h\n",
    "    emb_h = get_1d_sincos_pos_embed_from_grid(embed_dim // 2, grid[0])  # (H*W, D/2)\n",
    "    emb_w = get_1d_sincos_pos_embed_from_grid(embed_dim // 2, grid[1])  # (H*W, D/2)\n",
    "\n",
    "    emb = np.concatenate([emb_h, emb_w], axis=1)  # (H*W, D)\n",
    "    return emb\n",
    "\n",
    "\n",
    "def get_1d_sincos_pos_embed_from_grid(embed_dim, pos):\n",
    "    \"\"\"\n",
    "    embed_dim: output dimension for each position\n",
    "    pos: a list of positions to be encoded: size (M,)\n",
    "    out: (M, D)\n",
    "    \"\"\"\n",
    "    assert embed_dim % 2 == 0\n",
    "    omega = np.arange(embed_dim // 2, dtype=np.float)\n",
    "    omega /= embed_dim / 2.0\n",
    "    omega = 1.0 / 10000**omega  # (D/2,)\n",
    "\n",
    "    pos = pos.reshape(-1)  # (M,)\n",
    "    out = np.einsum(\"m,d->md\", pos, omega)  # (M, D/2), outer product\n",
    "\n",
    "    emb_sin = np.sin(out)  # (M, D/2)\n",
    "    emb_cos = np.cos(out)  # (M, D/2)\n",
    "\n",
    "    emb = np.concatenate([emb_sin, emb_cos], axis=1)  # (M, D)\n",
    "    return emb"
   ]
  },
  {
   "cell_type": "code",
   "execution_count": 14,
   "metadata": {},
   "outputs": [],
   "source": [
    "import warnings\n",
    "from torch.nn.init import _calculate_fan_in_and_fan_out\n",
    "# Ref.:https://github.com/rwightman/pytorch-image-models/\n",
    "\n",
    "\n",
    "def _trunc_normal_(tensor, mean, std, a, b):\n",
    "    # Cut & paste from PyTorch official master until it's in a few official releases - RW\n",
    "    # Method based on https://people.sc.fsu.edu/~jburkardt/presentations/truncated_normal.pdf\n",
    "    def norm_cdf(x):\n",
    "        # Computes standard normal cumulative distribution function\n",
    "        return (1. + math.erf(x / math.sqrt(2.))) / 2.\n",
    "\n",
    "    if (mean < a - 2 * std) or (mean > b + 2 * std):\n",
    "        warnings.warn(\"mean is more than 2 std from [a, b] in nn.init.trunc_normal_. \"\n",
    "                      \"The distribution of values may be incorrect.\",\n",
    "                      stacklevel=2)\n",
    "\n",
    "    # Values are generated by using a truncated uniform distribution and\n",
    "    # then using the inverse CDF for the normal distribution.\n",
    "    # Get upper and lower cdf values\n",
    "    l = norm_cdf((a - mean) / std)\n",
    "    u = norm_cdf((b - mean) / std)\n",
    "\n",
    "    # Uniformly fill tensor with values from [l, u], then translate to\n",
    "    # [2l-1, 2u-1].\n",
    "    tensor.uniform_(2 * l - 1, 2 * u - 1)\n",
    "\n",
    "    # Use inverse cdf transform for normal distribution to get truncated\n",
    "    # standard normal\n",
    "    tensor.erfinv_()\n",
    "\n",
    "    # Transform to proper mean, std\n",
    "    tensor.mul_(std * math.sqrt(2.))\n",
    "    tensor.add_(mean)\n",
    "\n",
    "    # Clamp to ensure it's in the proper range\n",
    "    tensor.clamp_(min=a, max=b)\n",
    "    return tensor\n",
    "\n",
    "\n",
    "def trunc_normal_(tensor, mean=0., std=1., a=-2., b=2.):\n",
    "    # type: (Tensor, float, float, float, float) -> Tensor\n",
    "    r\"\"\"Fills the input Tensor with values drawn from a truncated\n",
    "    normal distribution. The values are effectively drawn from the\n",
    "    normal distribution :math:`\\mathcal{N}(\\text{mean}, \\text{std}^2)`\n",
    "    with values outside :math:`[a, b]` redrawn until they are within\n",
    "    the bounds. The method used for generating the random values works\n",
    "    best when :math:`a \\leq \\text{mean} \\leq b`.\n",
    "    NOTE: this impl is similar to the PyTorch trunc_normal_, the bounds [a, b] are\n",
    "    applied while sampling the normal with mean/std applied, therefore a, b args\n",
    "    should be adjusted to match the range of mean, std args.\n",
    "    Args:\n",
    "        tensor: an n-dimensional `torch.Tensor`\n",
    "        mean: the mean of the normal distribution\n",
    "        std: the standard deviation of the normal distribution\n",
    "        a: the minimum cutoff value\n",
    "        b: the maximum cutoff value\n",
    "    Examples:\n",
    "        >>> w = torch.empty(3, 5)\n",
    "        >>> nn.init.trunc_normal_(w)\n",
    "    \"\"\"\n",
    "    with torch.no_grad():\n",
    "        return _trunc_normal_(tensor, mean, std, a, b)"
   ]
  },
  {
   "cell_type": "code",
   "execution_count": 15,
   "metadata": {},
   "outputs": [],
   "source": [
    "# from climate_learn\n",
    "class VisionTransformer(nn.Module):\n",
    "\n",
    "\n",
    "    def __init__(\n",
    "        self,\n",
    "        img_size,\n",
    "        patch_size,\n",
    "        in_vars, \n",
    "        out_vars,\n",
    "        drop_path=0.1,\n",
    "        drop_rate=0.1,\n",
    "        learn_pos_emb=False,\n",
    "        upsampling=1,\n",
    "        embed_dim=128,\n",
    "        depth=12,\n",
    "        decoder_depth=8,\n",
    "        num_heads=16,\n",
    "        mlp_ratio=4.0,\n",
    "        weight_init = '',\n",
    "    ):\n",
    "    \n",
    "        super().__init__()\n",
    "\n",
    "        self.img_size = img_size\n",
    "        self.upsampling = upsampling\n",
    "\n",
    "        self.img_out_size = [img_size[0] * upsampling, img_size[1] * upsampling]\n",
    "        self.n_channels = in_vars\n",
    "        self.patch_size = patch_size\n",
    "\n",
    "        self.in_vars = in_vars\n",
    "        self.out_vars = out_vars\n",
    "\n",
    "\n",
    "\n",
    "        # --------------------------------------------------------------------------\n",
    "        # ViT encoder\n",
    "        self.patch_embed = PatchEmbed(\n",
    "            img_size, patch_size, in_vars, embed_dim\n",
    "        )\n",
    "        self.num_patches = self.patch_embed.num_patches  # 128\n",
    "\n",
    "        self.pos_embed = nn.Parameter(\n",
    "            torch.zeros(1, self.num_patches, embed_dim), requires_grad=learn_pos_emb\n",
    "        )  # fixed sin-cos embedding\n",
    "        self.pos_drop = nn.Dropout(p=drop_rate)\n",
    "\n",
    "        dpr = [\n",
    "            x.item() for x in torch.linspace(0, drop_path, depth)\n",
    "        ]  # stochastic depth decay rule\n",
    "           \n",
    "        self.blocks = nn.ModuleList(\n",
    "            [\n",
    "                 Block(\n",
    "                    embed_dim,\n",
    "                    num_heads,\n",
    "                    mlp_ratio,\n",
    "                    qkv_bias=True,\n",
    "                    drop_path=dpr[i],\n",
    "                    norm_layer=nn.LayerNorm,\n",
    "                    drop=drop_rate,\n",
    "                )\n",
    "                for i in range(depth)\n",
    "            ]\n",
    "        )\n",
    "        self.norm = nn.LayerNorm(embed_dim)\n",
    "\n",
    "        # --------------------------------------------------------------------------\n",
    "        # Up to here, it's like I did before\n",
    "        # Next part introduces further changes \n",
    "        # --------------------------------------------------------------------------\n",
    "        # ViT prediction head\n",
    "        self.head = nn.ModuleList()\n",
    "        for i in range(decoder_depth):\n",
    "            self.head.append(nn.Linear(embed_dim, embed_dim))\n",
    "            self.head.append(nn.GELU())\n",
    "        self.head.append(\n",
    "            nn.Linear(embed_dim, self.out_vars * patch_size**2 * upsampling**2)\n",
    "        )\n",
    "        self.head = nn.Sequential(*self.head)\n",
    "        # --------------------------------------------------------------------------\n",
    "        if weight_init != 'skip':\n",
    "            self.initialize_weights()\n",
    "\n",
    "    def initialize_weights(self):\n",
    "        # initialization\n",
    "        # initialize (and freeze) pos_embed by sin-cos embedding\n",
    "        pos_embed = get_2d_sincos_pos_embed(\n",
    "            self.pos_embed.shape[-1],\n",
    "            int(self.img_size[0] / self.patch_size),\n",
    "            int(self.img_size[1] / self.patch_size),\n",
    "            cls_token=False,\n",
    "        )\n",
    "        self.pos_embed.data.copy_(torch.from_numpy(pos_embed).float().unsqueeze(0))\n",
    "\n",
    "        # # initialize patch_embed like nn.Linear (instead of nn.Conv2d)\n",
    "        # w = self.patch_embed.proj.weight.data\n",
    "        # trunc_normal_(w.view([w.shape[0], -1]), std=0.02)\n",
    "\n",
    "        # initialize nn.Linear and nn.LayerNorm\n",
    "        self.apply(self._init_weights)\n",
    "\n",
    "    def _init_weights(self, m):\n",
    "        if isinstance(m, nn.Linear):\n",
    "            trunc_normal_(m.weight, std=0.02)\n",
    "            if m.bias is not None:\n",
    "                nn.init.constant_(m.bias, 0)\n",
    "        elif isinstance(m, nn.LayerNorm):\n",
    "            nn.init.constant_(m.bias, 0)\n",
    "            nn.init.constant_(m.weight, 1.0)\n",
    "\n",
    "    def patchify(self, imgs):\n",
    "        \"\"\"\n",
    "        imgs: (N, C, H, W)\n",
    "        x: (N, L, patch_size**2 *3)\n",
    "        \"\"\"\n",
    "        p = self.patch_size\n",
    "        assert imgs.shape[2] % p == 0 and imgs.shape[3] % p == 0\n",
    "\n",
    "        h = self.img_size[0] // p\n",
    "        w = self.img_size[1] // p\n",
    "        c = self.in_vars\n",
    "        x = imgs.reshape(shape=(imgs.shape[0], c, h, p, w, p))\n",
    "        x = torch.einsum(\"nchpwq->nhwpqc\", x)\n",
    "        x = x.reshape(shape=(imgs.shape[0], h * w, p**2 * c))\n",
    "        return x\n",
    "\n",
    "    def unpatchify(self, x):\n",
    "        \"\"\"\n",
    "        x: (N, L, patch_size**2 *3)\n",
    "        imgs: (N, 3, H, W)\n",
    "        \"\"\"\n",
    "        p = self.patch_size * self.upsampling\n",
    "        c = self.out_vars\n",
    "        h = self.img_out_size[0] // p\n",
    "        w = self.img_out_size[1] // p\n",
    "        assert h * w == x.shape[1]\n",
    "\n",
    "        x = x.reshape(shape=(x.shape[0], h, w, p, p, c))\n",
    "        x = torch.einsum(\"nhwpqc->nchpwq\", x)\n",
    "        imgs = x.reshape(shape=(x.shape[0], c, h * p, w * p))\n",
    "        return imgs\n",
    "\n",
    "    def forward_encoder(self, x: torch.Tensor):\n",
    "        \"\"\"\n",
    "        x: B, C, H, W\n",
    "        \"\"\"\n",
    "        # embed patches\n",
    "        x = self.patch_embed(x)  # B, L, D\n",
    "\n",
    "        # add pos embed\n",
    "        x = x + self.pos_embed\n",
    "\n",
    "        # dropout\n",
    "        x = self.pos_drop(x)\n",
    "\n",
    "        # apply Transformer blocks\n",
    "        for blk in self.blocks:\n",
    "            x = blk(x)\n",
    "        x = self.norm(x)\n",
    "\n",
    "        return x\n",
    "\n",
    "    #def forward_loss(self, y, pred, out_variables, metric, lat):  # metric is a list\n",
    "    def forward_loss(self, pred):  # metric is a list\n",
    "        \"\"\"\n",
    "        y: [N, 3, H, W]\n",
    "        pred: [N, L, p*p*3]\n",
    "        \"\"\"\n",
    "        pred = self.unpatchify(pred)\n",
    "        return pred\n",
    "        #return ([m(pred, y, out_variables, lat=lat) for m in metric], pred)\n",
    "\n",
    "   # def forward(self, x, y):\n",
    "       # def forward(self, x, y, out_variables, metric, lat):\n",
    "   #     embeddings = self.forward_encoder(x)  # B, L, D\n",
    "   #     preds = self.head(embeddings)\n",
    "       # print(preds.shape)\n",
    "   #     loss = self.forward_loss(preds)\n",
    "        \n",
    "        # loss, preds = self.forward_loss(y, preds, out_variables, metric, lat)\n",
    "   #     return preds\n",
    "    def forward(self, x):\n",
    "       # def forward(self, x, y, out_variables, metric, lat):\n",
    "        embeddings = self.forward_encoder(x)  # B, L, D\n",
    "        x = self.head(embeddings)\n",
    "        x = self.unpatchify(x)\n",
    "        return x\n",
    "    \n",
    "\n",
    "    def predict(self, x):\n",
    "        with torch.no_grad():\n",
    "            embeddings = self.forward_encoder(x)\n",
    "            pred = self.head(embeddings)\n",
    "        return self.unpatchify(pred)\n"
   ]
  },
  {
   "cell_type": "code",
   "execution_count": 16,
   "metadata": {},
   "outputs": [],
   "source": [
    "torch.cuda.empty_cache()"
   ]
  },
  {
   "cell_type": "code",
   "execution_count": 17,
   "metadata": {},
   "outputs": [
    {
     "name": "stderr",
     "output_type": "stream",
     "text": [
      "/scratch/local/51273287/ipykernel_3737/2479062441.py:43: DeprecationWarning: `np.float` is a deprecated alias for the builtin `float`. To silence this warning, use `float` by itself. Doing this will not modify any behavior and is safe. If you specifically wanted the numpy scalar type, use `np.float64` here.\n",
      "Deprecated in NumPy 1.20; for more details and guidance: https://numpy.org/devdocs/release/1.20.0-notes.html#deprecations\n",
      "  omega = np.arange(embed_dim // 2, dtype=np.float)\n"
     ]
    }
   ],
   "source": [
    "# Test\n",
    "model = VisionTransformer(img_size=[32, 64], embed_dim=1024, patch_size=2, in_vars = 2, out_vars = 2, depth=8, upsampling=1).to(device)\n",
    "#x, y = torch.randn(2, 2, 32, 64), torch.randn(2, 2, 32, 64)"
   ]
  },
  {
   "cell_type": "code",
   "execution_count": 23,
   "metadata": {},
   "outputs": [],
   "source": [
    "Xt = Xt.to(device)"
   ]
  },
  {
   "cell_type": "code",
   "execution_count": 24,
   "metadata": {},
   "outputs": [
    {
     "data": {
      "text/plain": [
       "torch.Size([32, 2, 32, 64])"
      ]
     },
     "execution_count": 24,
     "metadata": {},
     "output_type": "execute_result"
    }
   ],
   "source": [
    "Xt.shape"
   ]
  },
  {
   "cell_type": "code",
   "execution_count": 25,
   "metadata": {},
   "outputs": [],
   "source": [
    "#pred = model.predict(Xt).to(device)\n",
    "#pred.shape"
   ]
  },
  {
   "cell_type": "code",
   "execution_count": 26,
   "metadata": {},
   "outputs": [],
   "source": [
    "#yt = torch.as_tensor(y).to(device)"
   ]
  },
  {
   "cell_type": "code",
   "execution_count": 27,
   "metadata": {},
   "outputs": [],
   "source": [
    "# Train \n",
    "#learning_rate = 0.0008\n",
    "#weight_decay = 0.001\n",
    "learning_rate =  0.0001\n",
    "weight_decay = 1e-4\n",
    "batch_size = 32\n",
    "num_epochs = 10\n",
    "#warmup_start_lr = 1e-8\n",
    "#eta_min = 1e-8\n",
    "\n",
    "loss_fn = torch.nn.MSELoss()\n",
    "optimizer = torch.optim.Adam(params = model.parameters(), lr = learning_rate, weight_decay = weight_decay)\n",
    "#optimizer = torch.optim.SGD(params = model.parameters(), lr = learning_rate, weight_decay = weight_decay)\n"
   ]
  },
  {
   "cell_type": "code",
   "execution_count": 28,
   "metadata": {
    "tags": []
   },
   "outputs": [
    {
     "name": "stdout",
     "output_type": "stream",
     "text": [
      "Starting epoch 1\n",
      "Starting epoch 2\n",
      "Starting epoch 3\n",
      "Starting epoch 4\n",
      "Starting epoch 5\n",
      "Starting epoch 6\n",
      "Starting epoch 7\n",
      "Starting epoch 8\n",
      "Starting epoch 9\n",
      "Starting epoch 10\n"
     ]
    }
   ],
   "source": [
    "train_loss = 0.0\n",
    "val_loss = 0.0\n",
    "\n",
    "trainingEpoch_loss = []\n",
    "validationEpoch_loss = []\n",
    "\n",
    "size = len(dg_train.data)\n",
    "\n",
    "  # Run the training loop\n",
    "for epoch in range(0, num_epochs): # 5 epochs at maximum\n",
    "    \n",
    "    # Print epoch\n",
    "    print(f'Starting epoch {epoch+1}')\n",
    "    \n",
    "    # Set current loss value\n",
    "    current_loss = []\n",
    "    \n",
    "    # Iterate over the DataLoader for training data\n",
    "    for batch, (X,y) in enumerate(dg_train):\n",
    "        \n",
    "        Xt = torch.as_tensor(X).to(device)\n",
    "        yt = torch.as_tensor(y).to(device)\n",
    "\n",
    "        # Zero the gradients\n",
    "        optimizer.zero_grad()\n",
    "        \n",
    "        pred = model(Xt).to(device)\n",
    "        # compute loss \n",
    "        #loss = model(Xt,yt).to(device)\n",
    "        #loss = torch.as_tensor(loss.mean())\n",
    "        \n",
    "        loss = loss_fn(pred, yt).to(device)\n",
    "\n",
    "        # Perform backward pass\n",
    "        loss.backward()\n",
    "        \n",
    "        # Perform optimization\n",
    "        optimizer.step()\n",
    "      \n",
    "        # Print statistics\n",
    "        current_loss.append(loss.item())\n",
    "        \n",
    "    trainingEpoch_loss.append(np.array(current_loss).mean())\n",
    "        \n",
    "\n",
    "    # Validation\n",
    "    with torch.no_grad():\n",
    "        for batch, (X,y) in enumerate(dg_valid):\n",
    "            \n",
    "                validationStep_loss = []\n",
    "                \n",
    "                Xt = torch.as_tensor(X).to(device)\n",
    "                yt = torch.as_tensor(y).to(device)\n",
    "\n",
    "                # Zero the gradients\n",
    "                optimizer.zero_grad()\n",
    "                    \n",
    "                # pred_val = model.predict(Xt).to(device)\n",
    "                # compute loss \n",
    "                #print('calculate validation loss')\n",
    "                # val_loss = model(Xt,yt).to(device)\n",
    "                #validation_loss = torch.as_tensor(val_loss.mean())\n",
    "                #validationStep_loss.append(validation_loss.item())\n",
    "                \n",
    "                pred_val = model(Xt).to(device)\n",
    "                # compute loss \n",
    "                validation_loss = loss_fn(pred_val, yt).to(device)\n",
    "                validationStep_loss.append(validation_loss.item())\n",
    "\n",
    "            \n",
    "        validationEpoch_loss.append(np.array(validationStep_loss).mean())\n"
   ]
  },
  {
   "cell_type": "code",
   "execution_count": 29,
   "metadata": {},
   "outputs": [
    {
     "data": {
      "text/plain": [
       "[<matplotlib.lines.Line2D at 0x7f37392d9840>]"
      ]
     },
     "execution_count": 29,
     "metadata": {},
     "output_type": "execute_result"
    },
    {
     "data": {
      "image/png": "[encoded data removed]",
      "text/plain": [
       "<Figure size 1000x800 with 1 Axes>"
      ]
     },
     "metadata": {},
     "output_type": "display_data"
    }
   ],
   "source": [
    "# Plot results\n",
    "fig = plt.figure(figsize=(10,8))\n",
    "plt.plot(range(1,len(trainingEpoch_loss)+1),trainingEpoch_loss, label='Training Loss')\n",
    "plt.plot(range(1,len(validationEpoch_loss)+1),validationEpoch_loss,label='Validation Loss')"
   ]
  },
  {
   "cell_type": "code",
   "execution_count": null,
   "metadata": {},
   "outputs": [],
   "source": [
    "# Predictions"
   ]
  },
  {
   "cell_type": "code",
   "execution_count": null,
   "metadata": {},
   "outputs": [],
   "source": [
    "preds = []\n",
    "for batch, (X,y) in enumerate(dg_valid):\n",
    "    Xt = torch.as_tensor(X).to(device)\n",
    "    yt = torch.as_tensor(y).to(device)\n",
    "    pred_val = model1(Xt)\n",
    "    preds.append(pred_val.cpu().detach().numpy())"
   ]
  }
 ],
 "metadata": {
  "kernelspec": {
   "display_name": "pyTT",
   "language": "python",
   "name": "pytt"
  },
  "language_info": {
   "codemirror_mode": {
    "name": "ipython",
    "version": 3
   },
   "file_extension": ".py",
   "mimetype": "text/x-python",
   "name": "python",
   "nbconvert_exporter": "python",
   "pygments_lexer": "ipython3",
   "version": "3.10.8"
  },
  "vscode": {
   "interpreter": {
    "hash": "89acc57343a2b9c233d3a03eb936ce8fe371fffead8157434df0be7232f9cdb8"
   }
  }
 },
 "nbformat": 4,
 "nbformat_minor": 4
}
