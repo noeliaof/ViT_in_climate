{
 "cells": [
  {
   "cell_type": "code",
   "execution_count": 1,
   "metadata": {},
   "outputs": [
    {
     "name": "stdout",
     "output_type": "stream",
     "text": [
      "3.10.8\n"
     ]
    }
   ],
   "source": [
    "# Check python version\n",
    "from platform import python_version\n",
    "print(python_version())"
   ]
  },
  {
   "cell_type": "code",
   "execution_count": 2,
   "metadata": {},
   "outputs": [],
   "source": [
    "import warnings\n",
    "warnings.filterwarnings('ignore')"
   ]
  },
  {
   "cell_type": "code",
   "execution_count": 3,
   "metadata": {},
   "outputs": [],
   "source": [
    "import torch as T\n",
    "import torch.nn as nn\n",
    "#from torchtext import data, datasets\n",
    "#from torchtext.vocab import Vocab\n",
    "import torch.optim as optim\n",
    "import time\n",
    "import copy\n",
    "import torch\n",
    "import torch.nn.functional as F\n",
    "from torchsummary import summary\n",
    "import math\n",
    "\n",
    "# Common imports\n",
    "import os\n",
    "import glob\n",
    "import numpy as np\n",
    "import pandas as pd\n",
    "import xarray as xr\n",
    "import dask\n",
    "import math\n",
    "import datetime\n",
    "from collections import OrderedDict\n",
    "from utils.datagenerator import *\n",
    "from utils.util_data import * \n",
    "from utils.train import * "
   ]
  },
  {
   "cell_type": "code",
   "execution_count": 4,
   "metadata": {},
   "outputs": [
    {
     "name": "stdout",
     "output_type": "stream",
     "text": [
      "Cuda Avaliable : True\n",
      "cuda\n"
     ]
    }
   ],
   "source": [
    "print(\"Cuda Avaliable :\", torch.cuda.is_available())\n",
    "\n",
    "device = torch.device('cuda' if torch.cuda.is_available() else 'cpu')\n",
    "print(device)"
   ]
  },
  {
   "cell_type": "code",
   "execution_count": 5,
   "metadata": {},
   "outputs": [],
   "source": [
    "# open data from WeatherBench\n",
    "DATADIR = '/storage/homefs/no21h426/WeatherBench-master/data/WeatherBench/5.625deg/'\n",
    "# Load the entire dataset\n",
    "z500 = xr.open_mfdataset(f'{DATADIR}geopotential_500/*.nc', combine='by_coords').z\n",
    "t850 = xr.open_mfdataset(f'{DATADIR}temperature_850/*.nc', combine='by_coords').t.drop('level')\n",
    "ds = xr.merge([z500, t850])"
   ]
  },
  {
   "cell_type": "code",
   "execution_count": 6,
   "metadata": {},
   "outputs": [],
   "source": [
    "# only load a subset of the training data\n",
    "ds_train = ds.sel(time=slice('2015', '2016'))  \n",
    "ds_test = ds.sel(time=slice('2017', '2018'))"
   ]
  },
  {
   "cell_type": "code",
   "execution_count": 7,
   "metadata": {},
   "outputs": [
    {
     "name": "stdout",
     "output_type": "stream",
     "text": [
      "Loading data into RAM\n",
      "Loading data into RAM\n"
     ]
    }
   ],
   "source": [
    "\n",
    "# then we need a dictionary for all the variables and levels we want to extract from the dataset\n",
    "dic = OrderedDict({'z': None, 't': None})\n",
    "lead_time =1\n",
    "bs = 32\n",
    "# Create a training and validation data generator. Use the train mean and std for validation as well.\n",
    "dg_train = DataGenerator(\n",
    "    ds_train.sel(time=slice('2015', '2015')), dic, lead_time, batch_size=bs, load=True)\n",
    "dg_valid = DataGenerator(\n",
    "    ds_train.sel(time=slice('2016', '2016')), dic, lead_time, batch_size=bs, mean=dg_train.mean, std=dg_train.std, shuffle=False)\n"
   ]
  },
  {
   "cell_type": "code",
   "execution_count": 8,
   "metadata": {},
   "outputs": [
    {
     "name": "stdout",
     "output_type": "stream",
     "text": [
      "(32, 2, 32, 64)\n"
     ]
    }
   ],
   "source": [
    "X,y=dg_train[0]\n",
    "print(X.shape)"
   ]
  },
  {
   "cell_type": "code",
   "execution_count": 9,
   "metadata": {},
   "outputs": [
    {
     "data": {
      "text/plain": [
       "<matplotlib.image.AxesImage at 0x7fe5d1f8ea40>"
      ]
     },
     "execution_count": 9,
     "metadata": {},
     "output_type": "execute_result"
    },
    {
     "data": {
      "image/png": "[encoded data removed]",
      "text/plain": [
       "<Figure size 640x480 with 1 Axes>"
      ]
     },
     "metadata": {},
     "output_type": "display_data"
    }
   ],
   "source": [
    "plt.imshow(X[0,1,:,:])"
   ]
  },
  {
   "cell_type": "code",
   "execution_count": 10,
   "metadata": {
    "jupyter": {
     "source_hidden": true
    },
    "tags": []
   },
   "outputs": [],
   "source": [
    "# First step: create patches and embeding\n",
    "# I won't use this, but PatchEmbedding**\n",
    "class PatchesCreate(torch.nn.Module):\n",
    "    def __init__(self, batch_size = 32, img_size=(32, 64), patch_size=(4, 8), in_chans=2, embed_dim=64):\n",
    "        super(PatchesCreate, self).__init__()\n",
    "        self.patch_size = patch_size\n",
    "        self.batch_size = batch_size\n",
    "        self.img_size = img_size\n",
    "        self.in_channel = in_chans\n",
    "        self.num_patches =  (img_size[0] // patch_size[0]) * (img_size[1] // patch_size[1])\n",
    "        \n",
    "    def forward(self, images):\n",
    "        print('need to convert to tensor')\n",
    "        images = torch.as_tensor(images)\n",
    "       \n",
    "        grid_size1 = int(self.img_size[0]/self.patch_size[0])\n",
    "        grid_size2 = int(self.img_size[1]/self.patch_size[1])\n",
    "        \n",
    "        Patches_Mask = torch.zeros(self.batch_size , self.in_channel*self.patch_size[0]*self.patch_size[1], grid_size1, grid_size2)\n",
    "        \n",
    "        for index, image in enumerate(images):\n",
    "            for i in range(grid_size1):\n",
    "                for j in range(grid_size2):\n",
    "                    patch_image = image[:,i*self.patch_size[0]:(i+1)*self.patch_size[0], j*self.patch_size[1]:(j+1)*self.patch_size[1]]\n",
    "                    Patches_Mask[index, :,  i, j ] = torch.flatten(patch_image)\n",
    "                    Patches = torch.reshape(Patches_Mask, (self.batch_size, -1, self.in_channel*self.patch_size[0]*self.patch_size[1]))\n",
    "                     \n",
    "        #Patches = Patches.to(device)\n",
    "        return Patches\n"
   ]
  },
  {
   "cell_type": "code",
   "execution_count": 11,
   "metadata": {},
   "outputs": [],
   "source": [
    "class PatchEmbedding(nn.Module):\n",
    "    \"\"\"Split image into patches and then embed them.\n",
    "    Parameters\n",
    "    ----------\n",
    "    img_size :  Size of the image (my case: it is not a square).\n",
    "    patch_size : Size of the patch (my case: it is not a square).\n",
    "    in_chans : int Number of input channels.\n",
    "    embed_dim : int The emmbedding dimension. Embedding stays constant across entire network # patch_size * patch_size * in_chans\n",
    "    Attributes\n",
    "    ----------\n",
    "    n_patches : int\n",
    "        Number of patches inside of our image.\n",
    "    proj : nn.Conv2d\n",
    "        Convolutional layer that does both the splitting into patches\n",
    "        and their embedding.\n",
    "    \"\"\"\n",
    "    def __init__(self, img_size=(32, 64), patch_size=(4, 8), in_chans=2, embed_dim=64):\n",
    "        super().__init__()\n",
    "        def _make_tuple(x):\n",
    "            if not isinstance(x, (list, tuple)):\n",
    "                return (x, x)\n",
    "            return x\n",
    "        img_size, patch_size = _make_tuple(img_size), _make_tuple(patch_size)\n",
    "       # print(patch_size)\n",
    "        self.n_patches = (img_size[0] // patch_size[0]) * (\n",
    "            img_size[1] // patch_size[1])\n",
    "        self.proj = nn.Conv2d(in_chans, embed_dim, kernel_size=patch_size, stride=patch_size)\n",
    "              \n",
    "\n",
    "    def forward(self, X):\n",
    "        # Output shape: (batch size, no. of patches, no. of channels)\n",
    "        x = torch.as_tensor(X)\n",
    "        x = self.proj(x) # (n_samples, embed_dim, n_patches ** 0.5, n_patches ** 0.5)\n",
    "        x = x.flatten(2)  # (n_samples, embed_dim, n_patches)\n",
    "        x = x.transpose(1, 2)  # (n_samples, n_patches, embed_dim)\n",
    "\n",
    "        \n",
    "        return x "
   ]
  },
  {
   "cell_type": "code",
   "execution_count": 12,
   "metadata": {},
   "outputs": [],
   "source": [
    "x = torch.randn(128, 2, 4)"
   ]
  },
  {
   "cell_type": "code",
   "execution_count": 13,
   "metadata": {},
   "outputs": [],
   "source": [
    "#PatchEmbed = PatchEmbedding(img_size=(32, 64), patch_size=(4, 2),in_chans=2, embed_dim=64)\n",
    "#patch_image = PatchEmbed(x)\n",
    "#patch_image.shape"
   ]
  },
  {
   "cell_type": "code",
   "execution_count": 14,
   "metadata": {},
   "outputs": [],
   "source": [
    "# Apatated: https://github.com/mjy8086/ViT_UNet/blob/main/ViT_UNet.py\n",
    "# https://github.com/kv8-A/DL_reproducibility_TransUNet/blob/c9c62341f52a1d98778fbe6a14a568d7e281e947/model/transformers.py"
   ]
  },
  {
   "cell_type": "code",
   "execution_count": 12,
   "metadata": {},
   "outputs": [],
   "source": [
    "class Attention(nn.Module):\n",
    "    \"\"\"Attention mechanism.\n",
    "    Parameters\n",
    "    ----------\n",
    "    dim : int\n",
    "        The input and out dimension of per token features.\n",
    "    n_heads : int\n",
    "        Number of attention heads.\n",
    "    qkv_bias : bool\n",
    "        If True then we include bias to the query, key and value projections.\n",
    "    attn_p : float\n",
    "        Dropout probability applied to the query, key and value tensors.\n",
    "    proj_p : float\n",
    "        Dropout probability applied to the output tensor.\n",
    "    Attributes\n",
    "    ----------\n",
    "    scale : float\n",
    "        Normalizing consant for the dot product.\n",
    "    qkv : nn.Linear\n",
    "        Linear projection for the query, key and value.\n",
    "    proj : nn.Linear\n",
    "        Linear mapping that takes in the concatenated output of all attention\n",
    "        heads and maps it into a new space.\n",
    "    attn_drop, proj_drop : nn.Dropout\n",
    "        Dropout layers.\n",
    "    \"\"\"\n",
    "    def __init__(self, dim=64, n_heads=8, qkv_bias=True, attn_p=0., proj_p=0.):\n",
    "        super().__init__()\n",
    "        self.n_heads = n_heads\n",
    "        self.dim = dim\n",
    "        self.head_dim = dim // n_heads\n",
    "        self.scale = self.head_dim ** -0.5\n",
    "\n",
    "        self.qkv = nn.Linear(dim, dim * 3, bias=qkv_bias)\n",
    "        self.attn_drop = nn.Dropout(attn_p)\n",
    "        self.proj = nn.Linear(dim, dim)\n",
    "        self.proj_drop = nn.Dropout(proj_p)\n",
    "\n",
    "    def forward(self, x):\n",
    "        \"\"\"Run forward pass.\n",
    "        Parameters\n",
    "        ----------\n",
    "        x : torch.Tensor\n",
    "            Shape `(n_samples, n_patches + 1, dim)`.\n",
    "        Returns\n",
    "        -------\n",
    "        torch.Tensor\n",
    "            Shape `(n_samples, n_patches + 1, dim)`.\n",
    "        \"\"\"\n",
    "        n_samples, n_tokens, dim = x.shape\n",
    "    \n",
    "\n",
    "        if dim != self.dim:\n",
    "            raise ValueError\n",
    "\n",
    "        qkv = self.qkv(x)  # (n_samples, n_patches + 1, 3 * dim)\n",
    "        qkv = qkv.reshape(\n",
    "                n_samples, n_tokens, 3, self.n_heads, self.head_dim\n",
    "        ) \n",
    "        # (n_smaples, n_patches + 1, 3, n_heads, head_dim)\n",
    "        qkv = qkv.permute(\n",
    "                2, 0, 3, 1, 4\n",
    "        )  # (3, n_samples, n_heads, n_patches + 1, head_dim)\n",
    "       \n",
    "        q, k , v = qkv[0], qkv[1], qkv[2]\n",
    "        \n",
    "        k_t = k.transpose(-2, -1)  # (n_samples, n_heads, head_dim, n_patches + 1)\n",
    "      \n",
    "        dp = (\n",
    "           q @ k_t\n",
    "        ) * self.scale # (n_samples, n_heads, n_patches + 1, n_patches + 1)\n",
    "        attn = dp.softmax(dim=-1)  # (n_samples, n_heads, n_patches + 1, n_patches + 1)\n",
    "        attn = self.attn_drop(attn)\n",
    "\n",
    "        weighted_avg = attn @ v  # (n_samples, n_heads, n_patches +1, head_dim)\n",
    "        weighted_avg = weighted_avg.transpose(\n",
    "                1, 2\n",
    "        )  # (n_samples, n_patches + 1, n_heads, head_dim)\n",
    "        weighted_avg = weighted_avg.flatten(2)  # (n_samples, n_patches + 1, dim)\n",
    "\n",
    "        x = self.proj(weighted_avg)  # (n_samples, n_patches + 1, dim)\n",
    "        x = self.proj_drop(x)  # (n_samples, n_patches + 1, dim)\n",
    "\n",
    "        return x"
   ]
  },
  {
   "cell_type": "code",
   "execution_count": 13,
   "metadata": {},
   "outputs": [],
   "source": [
    "# One hidden layer, Gaussion linear unnit activation functiuon GELU will be used\n",
    "class MLP(nn.Module):\n",
    "    \"\"\"Multilayer perceptron.\n",
    "    Parameters\n",
    "    ----------\n",
    "    in_features : int\n",
    "        Number of input features.\n",
    "    hidden_features : int\n",
    "        Number of nodes in the hidden layer.\n",
    "    out_features : int\n",
    "        Number of output features.\n",
    "    p : float\n",
    "        Dropout probability.\n",
    "    Attributes\n",
    "    ----------\n",
    "    fc : nn.Linear\n",
    "        The First linear layer.\n",
    "    act : nn.GELU\n",
    "        GELU activation function.\n",
    "    fc2 : nn.Linear\n",
    "        The second linear layer.\n",
    "    drop : nn.Dropout\n",
    "        Dropout layer.\n",
    "    \"\"\"\n",
    "    def __init__(self, in_features, hidden_features, out_features, p=0.):\n",
    "        super().__init__()\n",
    "        self.fc1 = nn.Linear(in_features, hidden_features)\n",
    "        self.act = nn.GELU()\n",
    "        self.fc2 = nn.Linear(hidden_features, out_features)\n",
    "        self.drop = nn.Dropout(p)\n",
    "\n",
    "    def forward(self, x):\n",
    "        \"\"\"Run forward pass.\n",
    "        Parameters\n",
    "        ----------\n",
    "        x : torch.Tensor\n",
    "            Shape `(n_samples, n_patches + 1, in_features)`.\n",
    "        Returns\n",
    "        -------\n",
    "        torch.Tensor\n",
    "            Shape `(n_samples, n_patches +1, out_features)`\n",
    "        \"\"\"\n",
    "        x = self.fc1(\n",
    "                x\n",
    "        ) # (n_samples, n_patches + 1, hidden_features)\n",
    "        x = self.act(x)  # (n_samples, n_patches + 1, hidden_features)\n",
    "        x = self.drop(x)  # (n_samples, n_patches + 1, hidden_features)\n",
    "        x = self.fc2(x)  # (n_samples, n_patches + 1, hidden_features)\n",
    "        x = self.drop(x)  # (n_samples, n_patches + 1, hidden_features)\n",
    "\n",
    "        return x"
   ]
  },
  {
   "cell_type": "code",
   "execution_count": 14,
   "metadata": {},
   "outputs": [],
   "source": [
    "class Block(nn.Module):\n",
    "    \"\"\"Transformer block.\n",
    "    Parameters\n",
    "    ----------\n",
    "    dim : int\n",
    "        Embeddinig dimension.\n",
    "    n_heads : int\n",
    "        Number of attention heads.\n",
    "    mlp_ratio : float\n",
    "        Determines the hidden dimension size of the `MLP` module with respect\n",
    "        to `dim`.\n",
    "    qkv_bias : bool\n",
    "        If True then we include bias to the query, key and value projections.\n",
    "    p, attn_p : float\n",
    "        Dropout probability.\n",
    "    Attributes\n",
    "    ----------\n",
    "    norm1, norm2 : LayerNorm\n",
    "        Layer normalization.\n",
    "    attn : Attention\n",
    "        Attention module.\n",
    "    mlp : MLP\n",
    "        MLP module.\n",
    "    \"\"\"\n",
    "    def __init__(self, dim = 64, n_heads = 8, mlp_ratio=4.0, qkv_bias=True, p=0., attn_p=0.):\n",
    "        super().__init__()\n",
    "        self.norm1 = nn.LayerNorm(dim, eps=1e-6)    #This is the first layer norm\n",
    "        # This is the MSA \n",
    "        self.attn = Attention(\n",
    "                dim,\n",
    "                n_heads=n_heads,\n",
    "                qkv_bias=qkv_bias,\n",
    "                attn_p=attn_p,\n",
    "                proj_p=p\n",
    "        )\n",
    "        self.norm2 = nn.LayerNorm(dim, eps=1e-6)   # second layer norm\n",
    "        hidden_features = int(dim * mlp_ratio)\n",
    "        # This is where the MLP layer comes in \n",
    "        self.mlp = MLP(\n",
    "                in_features=dim,\n",
    "                hidden_features=hidden_features,\n",
    "                out_features=dim,\n",
    "        )\n",
    "\n",
    "    def forward(self, x):\n",
    "        \"\"\"Run forward pass.\n",
    "        Parameters\n",
    "        ----------\n",
    "        x : torch.Tensor\n",
    "            Shape `(n_samples, n_patches + 1, dim)`.\n",
    "        Returns\n",
    "        -------\n",
    "        torch.Tensor\n",
    "            Shape `(n_samples, n_patches + 1, dim)`.\n",
    "        \"\"\"\n",
    "        x = x + self.attn(self.norm1(x))\n",
    "        x = x + self.mlp(self.norm2(x))\n",
    "\n",
    "        return x\n"
   ]
  },
  {
   "cell_type": "code",
   "execution_count": 15,
   "metadata": {},
   "outputs": [],
   "source": [
    "class ViTencoder(nn.Module):\n",
    "    def __init__(self, embed_dim, depth = 12):\n",
    "        super().__init__()\n",
    "        self.embed_dim = embed_dim\n",
    "        self.depth = depth\n",
    "        self.layer = nn.ModuleList()\n",
    "        self.encoder_norm = nn.LayerNorm(self.embed_dim, eps=1e-6)\n",
    "        for _ in range(self.depth):\n",
    "            layer = Block()\n",
    "            self.layer.append(copy.deepcopy(layer))\n",
    "\n",
    "    def forward(self, hidden_states):\n",
    "\n",
    "\n",
    "        for layer_block in self.layer:\n",
    "            hidden_states = layer_block(hidden_states)\n",
    "\n",
    "        encoded = self.encoder_norm(hidden_states)\n",
    "        return encoded"
   ]
  },
  {
   "cell_type": "code",
   "execution_count": 16,
   "metadata": {},
   "outputs": [],
   "source": [
    "class Conv2dReLU(nn.Sequential):\n",
    "    def __init__(\n",
    "            self,\n",
    "            in_channels,\n",
    "            out_channels,\n",
    "            kernel_size,\n",
    "            padding=0,\n",
    "            stride=2,\n",
    "            use_batchnorm=True,\n",
    "    ):\n",
    "        conv = nn.Conv2d(\n",
    "            in_channels,\n",
    "            out_channels,\n",
    "            kernel_size,\n",
    "            stride=stride,\n",
    "            padding=padding,\n",
    "            bias=not (use_batchnorm),\n",
    "        )\n",
    "        relu = nn.ReLU(inplace=True)\n",
    "\n",
    "        bn = nn.BatchNorm2d(out_channels)\n",
    "\n",
    "        super(Conv2dReLU, self).__init__(conv, bn, relu)"
   ]
  },
  {
   "cell_type": "code",
   "execution_count": 17,
   "metadata": {},
   "outputs": [],
   "source": [
    "# now merge everything \n",
    "class ViT(nn.Module):\n",
    "    def __init__(\n",
    "            self,\n",
    "            img_size,\n",
    "            embed_dim,       #64,\n",
    "            patch_size=(1,2),\n",
    "            in_chans = 128, #(4,8),\n",
    "            depth=12,           #This is 12 for TransUNet\n",
    "           # n_heads=12,\n",
    "    ):\n",
    "        super(ViT, self).__init__()\n",
    "        self.img_size = img_size\n",
    "        self.patch_size = patch_size\n",
    "        self.embed_dim = embed_dim\n",
    "        self.in_chans = in_chans\n",
    "        self.depth = depth\n",
    "        self.patch_embed = PatchEmbedding(\n",
    "                img_size=self.img_size,\n",
    "                patch_size=self.patch_size,\n",
    "                in_chans=self.in_chans,\n",
    "                embed_dim=self.embed_dim,\n",
    "        )\n",
    "       \n",
    "        #print(self.patch_embed)\n",
    "        self.encoder = ViTencoder(self.embed_dim)\n",
    "        \n",
    "        self.down_factor = 4\n",
    "        self.conv_more = Conv2dReLU(self.embed_dim, 128, kernel_size=1, use_batchnorm=True)\n",
    "\n",
    "    def forward(self, input_ids):\n",
    "        # embedding_output, features = self.embeddings(input_ids)\n",
    "        # encoded, attn_weights = self.encoder(embedding_output)  # (B, n_patch, hidden)\n",
    "        # return encoded, attn_weights, features\n",
    "\n",
    "        embedding_output = self.patch_embed(input_ids)\n",
    "        encoded = self.encoder(embedding_output)  # (B, n_patch, hidden)\n",
    "       # print(encoded.shape)\n",
    "        B, n_patch, hidden = encoded.size()\n",
    "        l, h = (self.img_size[0] // 2**self.down_factor // self.patch_size[0]), (self.img_size[1] // 2**self.down_factor // self.patch_size[1])\n",
    "    \n",
    "        x = encoded.permute(0, 2, 1)\n",
    "       # print(x.shape)\n",
    "        x = x.contiguous().view(B, hidden, l, h)\n",
    "\n",
    "        x = self.conv_more(x)\n",
    "        return x"
   ]
  },
  {
   "cell_type": "code",
   "execution_count": 21,
   "metadata": {
    "tags": []
   },
   "outputs": [],
   "source": [
    "# Just for checking\n",
    "p = PatchEmbedding((32,64), (2,4), 128, 128)\n",
    "img_size = (32,64)\n",
    "patch_size = (2,4)\n",
    "#encoder = ViTencoder(embed_dim=128)\n",
    "#conv_more = Conv2dReLU(128, 128, kernel_size=1, use_batchnorm=True)"
   ]
  },
  {
   "cell_type": "code",
   "execution_count": 22,
   "metadata": {},
   "outputs": [],
   "source": [
    "#pt = p(test)\n",
    "#encoder(pt).shape"
   ]
  },
  {
   "cell_type": "code",
   "execution_count": 23,
   "metadata": {},
   "outputs": [],
   "source": [
    "#encoder = ViT(img_size=(32,64), patch_size=(2,4), in_chans=128, embed_dim=128)\n",
    "#y= encoder(test)\n"
   ]
  },
  {
   "cell_type": "code",
   "execution_count": 27,
   "metadata": {},
   "outputs": [],
   "source": [
    "#class BlockU(nn.Module):\n",
    "#    def __init__(self, in_ch, out_ch,  kernel_size, padding):\n",
    "#        super().__init__()\n",
    "#        self.conv1 = nn.Conv2d(in_ch, out_ch, kernel_size=kernel_size, stride=1, padding=padding)\n",
    "#        self.relu  = nn.ReLU()\n",
    "#        self.conv2 = nn.Conv2d(out_ch, out_ch, kernel_size=kernel_size, stride=1, padding=padding)\n",
    "#    \n",
    "#    def forward(self, x):\n",
    "#        return self.relu(self.conv2(self.relu(self.conv1(x))))"
   ]
  },
  {
   "cell_type": "code",
   "execution_count": 28,
   "metadata": {},
   "outputs": [],
   "source": [
    "#class Encoder(nn.Module):\n",
    "#    def __init__(self, chs=(2,64,128,256,512,1024)):\n",
    "#        super().__init__()\n",
    "#        self.enc_blocks = nn.ModuleList([BlockU(chs[i], chs[i+1], 3, 1) for i in range(len(chs)-1)])\n",
    "#        self.pool       = nn.MaxPool2d(2)\n",
    "    \n",
    "#    def forward(self, x):\n",
    "#        ftrs = []\n",
    "#        for block in self.enc_blocks:\n",
    "#            x = block(x)\n",
    "#            ftrs.append(x)\n",
    "#            x = self.pool(x)\n",
    "#        return ftrs"
   ]
  },
  {
   "cell_type": "code",
   "execution_count": 29,
   "metadata": {},
   "outputs": [],
   "source": [
    "#encoder = Encoder()\n",
    "# input image\n",
    "#Xt = torch.as_tensor(X)\n",
    "#x    = torch.randn(32, 2,32, 64)\n",
    "#ftrs = encoder(Xt)\n",
    "#for ftr in ftrs: print(ftr.shape)"
   ]
  },
  {
   "cell_type": "code",
   "execution_count": 18,
   "metadata": {},
   "outputs": [],
   "source": [
    "def match_size(x, size):\n",
    "    _, h1, w1, d1 = x.shape\n",
    "    h2, w2, d2 = size\n",
    "    #print(size)\n",
    "\n",
    "    while d1 != d2:\n",
    "        if d1 < d2:\n",
    "            x = nn.functional.pad(x, (0, 1), mode='constant', value=0)\n",
    "            d1 += 1\n",
    "        else:\n",
    "            x = x[ :, :, :, :d2]\n",
    "            break\n",
    "    while w1 != w2:\n",
    "        if w1 < w2:\n",
    "            x = nn.functional.pad(x, (0, 0, 0, 1), mode='constant', value=0)\n",
    "            w1 += 1\n",
    "        else:\n",
    "            x = x[ :, :, :w2, :]\n",
    "            break\n",
    "    while h1 != h2:\n",
    "        if h1 < h2:\n",
    "            x = nn.functional.pad(x, (0, 0, 0, 0, 1), mode='constant', value=0)\n",
    "            h1 += 1\n",
    "        else:\n",
    "            x = x[ :, :h2, :, :]\n",
    "            break\n",
    "    return x"
   ]
  },
  {
   "cell_type": "code",
   "execution_count": 19,
   "metadata": {},
   "outputs": [],
   "source": [
    "\n",
    "class CNNencoder(nn.Module):\n",
    "    def __init__(self, channel_in, channel_out):\n",
    "        super().__init__()\n",
    "        self.channel_in = channel_in\n",
    "        self.channel_out = channel_out\n",
    "        self.model = nn.Sequential(\n",
    "            nn.Conv2d(self.channel_in , self.channel_out, kernel_size=3, stride=1, padding=1),\n",
    "            nn.LeakyReLU(inplace=True))\n",
    "\n",
    "    def forward(self, x):\n",
    "        out = self.model(x)\n",
    "        return out\n",
    "\n",
    "class CNNdecoder(nn.Module):\n",
    "    def __init__(self, channel_in, channel_out):\n",
    "        super().__init__()\n",
    "        self.channel_in = channel_in\n",
    "        self.channel_out = channel_out\n",
    "        self.model = nn.Sequential(\n",
    "            nn.ConvTranspose2d(self.channel_in , self.channel_out, kernel_size=3, stride=1, padding=1),\n",
    "            nn.LeakyReLU(inplace=True)\n",
    "        )\n",
    "\n",
    "    def forward(self, x, skip_x):\n",
    "        x = self.model(x)\n",
    "        if x.size() != skip_x.size():\n",
    "            x = match_size(x, skip_x.shape[1:])\n",
    "\n",
    "        x = torch.cat((x, skip_x), 1)\n",
    "        return x"
   ]
  },
  {
   "cell_type": "code",
   "execution_count": 20,
   "metadata": {},
   "outputs": [],
   "source": [
    "def padding_block( x, factor):\n",
    "        h, w = x.size()[2:4]\n",
    "        dh = 0\n",
    "        dw = 0\n",
    "        if h % factor > 0:\n",
    "            dh = factor - h % factor\n",
    "        if w % factor > 0:\n",
    "            dw = factor - w % factor\n",
    "        if dh > 0 or dw > 0:\n",
    "            top_pad = dh//2\n",
    "            bottom_pad = dh//2 + dh%2\n",
    "            left_pad = dw//2\n",
    "            right_pad = dw//2 + dw%2\n",
    "            x = nn.ZeroPad2d(padding=((top_pad, bottom_pad), (left_pad, right_pad)))(x)\n",
    "        \n",
    "        return x"
   ]
  },
  {
   "cell_type": "code",
   "execution_count": 21,
   "metadata": {},
   "outputs": [],
   "source": [
    "class Generator(nn.Module):\n",
    "    def __init__(self, in_channels, out_channels, img_size, patch_size, embed_dim):\n",
    "        super().__init__()\n",
    "\n",
    "        nf = 16\n",
    "        self.in_chans = in_channels \n",
    "        self.out_channels = out_channels\n",
    "        self.img_size = img_size\n",
    "        self.patch_size = patch_size\n",
    "        self.embed_dim = embed_dim\n",
    "\n",
    "        self.pooling = nn.MaxPool2d(kernel_size=2)\n",
    "\n",
    "        self.conv1 = CNNencoder(self.in_chans, nf)\n",
    "        self.conv2 = CNNencoder(nf, nf*2)\n",
    "        self.conv3 = CNNencoder(nf*2, nf*4)\n",
    "        self.conv4 = CNNencoder(nf*4, nf*8)\n",
    "        self.conv5 = CNNencoder(nf*8, nf*8)\n",
    "        # get the right shapes\n",
    "        \n",
    "        self.vit = ViT(img_size=self.img_size, embed_dim = self.embed_dim, patch_size = self.patch_size)\n",
    "\n",
    "        self.up1 = CNNdecoder(nf*8, nf*8)\n",
    "        self.up2 = CNNdecoder(nf*8*2, nf*4)\n",
    "        self.up3 = CNNdecoder(nf*4*2, nf*2)\n",
    "        self.up4 = CNNdecoder(nf*2*2, nf)\n",
    "\n",
    "        self.out = nn.Sequential(\n",
    "            nn.Conv2d(nf*2, out_channels, kernel_size=1, stride=1, bias=False),\n",
    "            nn.LeakyReLU(inplace=True)\n",
    "        )\n",
    "  \n",
    "\n",
    "    def forward(self, x):\n",
    "            c1 = self.conv1(x)\n",
    "            p1 = self.pooling(c1)\n",
    "\n",
    "            c2 = self.conv2(p1)\n",
    "            p2 = self.pooling(c2)\n",
    "\n",
    "            c3 = self.conv3(p2)\n",
    "            p3 = self.pooling(c3)\n",
    "\n",
    "            c4 = self.conv4(p3)\n",
    "            p4 = self.pooling(c4)\n",
    "\n",
    "            c5 = self.conv5(p4)\n",
    "            #print(c5.shape)\n",
    "            v1 = self.vit(c5)\n",
    "            \n",
    "            u1 = self.up1(v1, c4)\n",
    "            u2 = self.up2(u1, c3)\n",
    "            u3 = self.up3(u2, c2)\n",
    "            u4 = self.up4(u3, c1)\n",
    "            out = self.out(u4)\n",
    "            if x.size() != out.size():\n",
    "                out = match_size(out, x.shape[1:])\n",
    "\n",
    "\n",
    "\n",
    "            return out"
   ]
  },
  {
   "cell_type": "code",
   "execution_count": 22,
   "metadata": {},
   "outputs": [],
   "source": [
    "model1 = Generator(in_channels=2, out_channels=2,img_size=(32,64), patch_size = (1,2), embed_dim = 64).to(device)\n",
    "#print(list(model1.parameters()))\n"
   ]
  },
  {
   "cell_type": "code",
   "execution_count": 23,
   "metadata": {
    "tags": []
   },
   "outputs": [
    {
     "name": "stdout",
     "output_type": "stream",
     "text": [
      "----------------------------------------------------------------\n",
      "        Layer (type)               Output Shape         Param #\n",
      "================================================================\n",
      "            Conv2d-1           [-1, 16, 32, 64]             304\n",
      "         LeakyReLU-2           [-1, 16, 32, 64]               0\n",
      "        CNNencoder-3           [-1, 16, 32, 64]               0\n",
      "         MaxPool2d-4           [-1, 16, 16, 32]               0\n",
      "            Conv2d-5           [-1, 32, 16, 32]           4,640\n",
      "         LeakyReLU-6           [-1, 32, 16, 32]               0\n",
      "        CNNencoder-7           [-1, 32, 16, 32]               0\n",
      "         MaxPool2d-8            [-1, 32, 8, 16]               0\n",
      "            Conv2d-9            [-1, 64, 8, 16]          18,496\n",
      "        LeakyReLU-10            [-1, 64, 8, 16]               0\n",
      "       CNNencoder-11            [-1, 64, 8, 16]               0\n",
      "        MaxPool2d-12             [-1, 64, 4, 8]               0\n",
      "           Conv2d-13            [-1, 128, 4, 8]          73,856\n",
      "        LeakyReLU-14            [-1, 128, 4, 8]               0\n",
      "       CNNencoder-15            [-1, 128, 4, 8]               0\n",
      "        MaxPool2d-16            [-1, 128, 2, 4]               0\n",
      "           Conv2d-17            [-1, 128, 2, 4]         147,584\n",
      "        LeakyReLU-18            [-1, 128, 2, 4]               0\n",
      "       CNNencoder-19            [-1, 128, 2, 4]               0\n",
      "           Conv2d-20             [-1, 64, 2, 2]          16,448\n",
      "   PatchEmbedding-21                [-1, 4, 64]               0\n",
      "        LayerNorm-22                [-1, 4, 64]             128\n",
      "           Linear-23               [-1, 4, 192]          12,480\n",
      "          Dropout-24              [-1, 8, 4, 4]               0\n",
      "           Linear-25                [-1, 4, 64]           4,160\n",
      "          Dropout-26                [-1, 4, 64]               0\n",
      "        Attention-27                [-1, 4, 64]               0\n",
      "        LayerNorm-28                [-1, 4, 64]             128\n",
      "           Linear-29               [-1, 4, 256]          16,640\n",
      "             GELU-30               [-1, 4, 256]               0\n",
      "          Dropout-31               [-1, 4, 256]               0\n",
      "           Linear-32                [-1, 4, 64]          16,448\n",
      "          Dropout-33                [-1, 4, 64]               0\n",
      "              MLP-34                [-1, 4, 64]               0\n",
      "            Block-35                [-1, 4, 64]               0\n",
      "        LayerNorm-36                [-1, 4, 64]             128\n",
      "           Linear-37               [-1, 4, 192]          12,480\n",
      "          Dropout-38              [-1, 8, 4, 4]               0\n",
      "           Linear-39                [-1, 4, 64]           4,160\n",
      "          Dropout-40                [-1, 4, 64]               0\n",
      "        Attention-41                [-1, 4, 64]               0\n",
      "        LayerNorm-42                [-1, 4, 64]             128\n",
      "           Linear-43               [-1, 4, 256]          16,640\n",
      "             GELU-44               [-1, 4, 256]               0\n",
      "          Dropout-45               [-1, 4, 256]               0\n",
      "           Linear-46                [-1, 4, 64]          16,448\n",
      "          Dropout-47                [-1, 4, 64]               0\n",
      "              MLP-48                [-1, 4, 64]               0\n",
      "            Block-49                [-1, 4, 64]               0\n",
      "        LayerNorm-50                [-1, 4, 64]             128\n",
      "           Linear-51               [-1, 4, 192]          12,480\n",
      "          Dropout-52              [-1, 8, 4, 4]               0\n",
      "           Linear-53                [-1, 4, 64]           4,160\n",
      "          Dropout-54                [-1, 4, 64]               0\n",
      "        Attention-55                [-1, 4, 64]               0\n",
      "        LayerNorm-56                [-1, 4, 64]             128\n",
      "           Linear-57               [-1, 4, 256]          16,640\n",
      "             GELU-58               [-1, 4, 256]               0\n",
      "          Dropout-59               [-1, 4, 256]               0\n",
      "           Linear-60                [-1, 4, 64]          16,448\n",
      "          Dropout-61                [-1, 4, 64]               0\n",
      "              MLP-62                [-1, 4, 64]               0\n",
      "            Block-63                [-1, 4, 64]               0\n",
      "        LayerNorm-64                [-1, 4, 64]             128\n",
      "           Linear-65               [-1, 4, 192]          12,480\n",
      "          Dropout-66              [-1, 8, 4, 4]               0\n",
      "           Linear-67                [-1, 4, 64]           4,160\n",
      "          Dropout-68                [-1, 4, 64]               0\n",
      "        Attention-69                [-1, 4, 64]               0\n",
      "        LayerNorm-70                [-1, 4, 64]             128\n",
      "           Linear-71               [-1, 4, 256]          16,640\n",
      "             GELU-72               [-1, 4, 256]               0\n",
      "          Dropout-73               [-1, 4, 256]               0\n",
      "           Linear-74                [-1, 4, 64]          16,448\n",
      "          Dropout-75                [-1, 4, 64]               0\n",
      "              MLP-76                [-1, 4, 64]               0\n",
      "            Block-77                [-1, 4, 64]               0\n",
      "        LayerNorm-78                [-1, 4, 64]             128\n",
      "           Linear-79               [-1, 4, 192]          12,480\n",
      "          Dropout-80              [-1, 8, 4, 4]               0\n",
      "           Linear-81                [-1, 4, 64]           4,160\n",
      "          Dropout-82                [-1, 4, 64]               0\n",
      "        Attention-83                [-1, 4, 64]               0\n",
      "        LayerNorm-84                [-1, 4, 64]             128\n",
      "           Linear-85               [-1, 4, 256]          16,640\n",
      "             GELU-86               [-1, 4, 256]               0\n",
      "          Dropout-87               [-1, 4, 256]               0\n",
      "           Linear-88                [-1, 4, 64]          16,448\n",
      "          Dropout-89                [-1, 4, 64]               0\n",
      "              MLP-90                [-1, 4, 64]               0\n",
      "            Block-91                [-1, 4, 64]               0\n",
      "        LayerNorm-92                [-1, 4, 64]             128\n",
      "           Linear-93               [-1, 4, 192]          12,480\n",
      "          Dropout-94              [-1, 8, 4, 4]               0\n",
      "           Linear-95                [-1, 4, 64]           4,160\n",
      "          Dropout-96                [-1, 4, 64]               0\n",
      "        Attention-97                [-1, 4, 64]               0\n",
      "        LayerNorm-98                [-1, 4, 64]             128\n",
      "           Linear-99               [-1, 4, 256]          16,640\n",
      "            GELU-100               [-1, 4, 256]               0\n",
      "         Dropout-101               [-1, 4, 256]               0\n",
      "          Linear-102                [-1, 4, 64]          16,448\n",
      "         Dropout-103                [-1, 4, 64]               0\n",
      "             MLP-104                [-1, 4, 64]               0\n",
      "           Block-105                [-1, 4, 64]               0\n",
      "       LayerNorm-106                [-1, 4, 64]             128\n",
      "          Linear-107               [-1, 4, 192]          12,480\n",
      "         Dropout-108              [-1, 8, 4, 4]               0\n",
      "          Linear-109                [-1, 4, 64]           4,160\n",
      "         Dropout-110                [-1, 4, 64]               0\n",
      "       Attention-111                [-1, 4, 64]               0\n",
      "       LayerNorm-112                [-1, 4, 64]             128\n",
      "          Linear-113               [-1, 4, 256]          16,640\n",
      "            GELU-114               [-1, 4, 256]               0\n",
      "         Dropout-115               [-1, 4, 256]               0\n",
      "          Linear-116                [-1, 4, 64]          16,448\n",
      "         Dropout-117                [-1, 4, 64]               0\n",
      "             MLP-118                [-1, 4, 64]               0\n",
      "           Block-119                [-1, 4, 64]               0\n",
      "       LayerNorm-120                [-1, 4, 64]             128\n",
      "          Linear-121               [-1, 4, 192]          12,480\n",
      "         Dropout-122              [-1, 8, 4, 4]               0\n",
      "          Linear-123                [-1, 4, 64]           4,160\n",
      "         Dropout-124                [-1, 4, 64]               0\n",
      "       Attention-125                [-1, 4, 64]               0\n",
      "       LayerNorm-126                [-1, 4, 64]             128\n",
      "          Linear-127               [-1, 4, 256]          16,640\n",
      "            GELU-128               [-1, 4, 256]               0\n",
      "         Dropout-129               [-1, 4, 256]               0\n",
      "          Linear-130                [-1, 4, 64]          16,448\n",
      "         Dropout-131                [-1, 4, 64]               0\n",
      "             MLP-132                [-1, 4, 64]               0\n",
      "           Block-133                [-1, 4, 64]               0\n",
      "       LayerNorm-134                [-1, 4, 64]             128\n",
      "          Linear-135               [-1, 4, 192]          12,480\n",
      "         Dropout-136              [-1, 8, 4, 4]               0\n",
      "          Linear-137                [-1, 4, 64]           4,160\n",
      "         Dropout-138                [-1, 4, 64]               0\n",
      "       Attention-139                [-1, 4, 64]               0\n",
      "       LayerNorm-140                [-1, 4, 64]             128\n",
      "          Linear-141               [-1, 4, 256]          16,640\n",
      "            GELU-142               [-1, 4, 256]               0\n",
      "         Dropout-143               [-1, 4, 256]               0\n",
      "          Linear-144                [-1, 4, 64]          16,448\n",
      "         Dropout-145                [-1, 4, 64]               0\n",
      "             MLP-146                [-1, 4, 64]               0\n",
      "           Block-147                [-1, 4, 64]               0\n",
      "       LayerNorm-148                [-1, 4, 64]             128\n",
      "          Linear-149               [-1, 4, 192]          12,480\n",
      "         Dropout-150              [-1, 8, 4, 4]               0\n",
      "          Linear-151                [-1, 4, 64]           4,160\n",
      "         Dropout-152                [-1, 4, 64]               0\n",
      "       Attention-153                [-1, 4, 64]               0\n",
      "       LayerNorm-154                [-1, 4, 64]             128\n",
      "          Linear-155               [-1, 4, 256]          16,640\n",
      "            GELU-156               [-1, 4, 256]               0\n",
      "         Dropout-157               [-1, 4, 256]               0\n",
      "          Linear-158                [-1, 4, 64]          16,448\n",
      "         Dropout-159                [-1, 4, 64]               0\n",
      "             MLP-160                [-1, 4, 64]               0\n",
      "           Block-161                [-1, 4, 64]               0\n",
      "       LayerNorm-162                [-1, 4, 64]             128\n",
      "          Linear-163               [-1, 4, 192]          12,480\n",
      "         Dropout-164              [-1, 8, 4, 4]               0\n",
      "          Linear-165                [-1, 4, 64]           4,160\n",
      "         Dropout-166                [-1, 4, 64]               0\n",
      "       Attention-167                [-1, 4, 64]               0\n",
      "       LayerNorm-168                [-1, 4, 64]             128\n",
      "          Linear-169               [-1, 4, 256]          16,640\n",
      "            GELU-170               [-1, 4, 256]               0\n",
      "         Dropout-171               [-1, 4, 256]               0\n",
      "          Linear-172                [-1, 4, 64]          16,448\n",
      "         Dropout-173                [-1, 4, 64]               0\n",
      "             MLP-174                [-1, 4, 64]               0\n",
      "           Block-175                [-1, 4, 64]               0\n",
      "       LayerNorm-176                [-1, 4, 64]             128\n",
      "          Linear-177               [-1, 4, 192]          12,480\n",
      "         Dropout-178              [-1, 8, 4, 4]               0\n",
      "          Linear-179                [-1, 4, 64]           4,160\n",
      "         Dropout-180                [-1, 4, 64]               0\n",
      "       Attention-181                [-1, 4, 64]               0\n",
      "       LayerNorm-182                [-1, 4, 64]             128\n",
      "          Linear-183               [-1, 4, 256]          16,640\n",
      "            GELU-184               [-1, 4, 256]               0\n",
      "         Dropout-185               [-1, 4, 256]               0\n",
      "          Linear-186                [-1, 4, 64]          16,448\n",
      "         Dropout-187                [-1, 4, 64]               0\n",
      "             MLP-188                [-1, 4, 64]               0\n",
      "           Block-189                [-1, 4, 64]               0\n",
      "       LayerNorm-190                [-1, 4, 64]             128\n",
      "      ViTencoder-191                [-1, 4, 64]               0\n",
      "          Conv2d-192            [-1, 128, 1, 1]           8,192\n",
      "     BatchNorm2d-193            [-1, 128, 1, 1]             256\n",
      "            ReLU-194            [-1, 128, 1, 1]               0\n",
      "             ViT-195            [-1, 128, 1, 1]               0\n",
      " ConvTranspose2d-196            [-1, 128, 1, 1]         147,584\n",
      "       LeakyReLU-197            [-1, 128, 1, 1]               0\n",
      "      CNNdecoder-198            [-1, 256, 4, 8]               0\n",
      " ConvTranspose2d-199             [-1, 64, 4, 8]         147,520\n",
      "       LeakyReLU-200             [-1, 64, 4, 8]               0\n",
      "      CNNdecoder-201           [-1, 128, 8, 16]               0\n",
      " ConvTranspose2d-202            [-1, 32, 8, 16]          36,896\n",
      "       LeakyReLU-203            [-1, 32, 8, 16]               0\n",
      "      CNNdecoder-204           [-1, 64, 16, 32]               0\n",
      " ConvTranspose2d-205           [-1, 16, 16, 32]           9,232\n",
      "       LeakyReLU-206           [-1, 16, 16, 32]               0\n",
      "      CNNdecoder-207           [-1, 32, 32, 64]               0\n",
      "          Conv2d-208            [-1, 2, 32, 64]              64\n",
      "       LeakyReLU-209            [-1, 2, 32, 64]               0\n",
      "================================================================\n",
      "Total params: 1,211,008\n",
      "Trainable params: 1,211,008\n",
      "Non-trainable params: 0\n",
      "----------------------------------------------------------------\n",
      "Input size (MB): 0.02\n",
      "Forward/backward pass size (MB): 3.35\n",
      "Params size (MB): 4.62\n",
      "Estimated Total Size (MB): 7.99\n",
      "----------------------------------------------------------------\n"
     ]
    }
   ],
   "source": [
    "summary(model1, (2,32,64))"
   ]
  },
  {
   "cell_type": "code",
   "execution_count": 24,
   "metadata": {},
   "outputs": [
    {
     "name": "stdout",
     "output_type": "stream",
     "text": [
      "torch.Size([32, 2, 32, 64])\n"
     ]
    }
   ],
   "source": [
    "Xt = torch.as_tensor(X)\n",
    "print(Xt.shape)"
   ]
  },
  {
   "cell_type": "code",
   "execution_count": 25,
   "metadata": {},
   "outputs": [],
   "source": [
    "# Checks\n",
    "Xt = Xt.to(device)\n",
    "test= model1(Xt)"
   ]
  },
  {
   "cell_type": "code",
   "execution_count": 26,
   "metadata": {},
   "outputs": [
    {
     "data": {
      "text/plain": [
       "torch.Size([32, 2, 32, 64])"
      ]
     },
     "execution_count": 26,
     "metadata": {},
     "output_type": "execute_result"
    }
   ],
   "source": [
    "test.shape"
   ]
  },
  {
   "cell_type": "code",
   "execution_count": 27,
   "metadata": {},
   "outputs": [],
   "source": [
    "learning_rate = 0.001\n",
    "weight_decay = 0.0001\n",
    "batch_size = 32\n",
    "num_epochs = 10\n",
    "\n",
    "loss_fn = torch.nn.MSELoss()\n",
    "optimizer = torch.optim.AdamW(params = model1.parameters(), lr = learning_rate, weight_decay = weight_decay)\n",
    "#optimizer = torch.optim.SGD(params = model1.parameters(), lr = learning_rate, weight_decay = weight_decay)"
   ]
  },
  {
   "cell_type": "code",
   "execution_count": 28,
   "metadata": {
    "tags": []
   },
   "outputs": [
    {
     "name": "stdout",
     "output_type": "stream",
     "text": [
      "cuda\n",
      "cuda\n",
      "Epoch 0,Train MSE: 4.7159 Test MSE: 3.753\n",
      "cuda\n",
      "cuda\n",
      "Epoch 1,Train MSE: 3.5878 Test MSE: 2.879\n",
      "cuda\n",
      "cuda\n",
      "Epoch 2,Train MSE: 3.0920 Test MSE: 2.598\n",
      "cuda\n",
      "cuda\n",
      "Epoch 3,Train MSE: 2.4099 Test MSE: 1.651\n",
      "cuda\n",
      "cuda\n",
      "Epoch 4,Train MSE: 1.2417 Test MSE: 0.715\n",
      "cuda\n",
      "cuda\n",
      "Epoch 5,Train MSE: 0.5114 Test MSE: 0.365\n",
      "cuda\n",
      "cuda\n",
      "Epoch 6,Train MSE: 0.3235 Test MSE: 0.320\n",
      "cuda\n",
      "cuda\n",
      "Epoch 7,Train MSE: 0.2933 Test MSE: 0.293\n",
      "cuda\n",
      "cuda\n",
      "Epoch 8,Train MSE: 0.2720 Test MSE: 0.304\n",
      "cuda\n",
      "cuda\n",
      "Epoch 9,Train MSE: 0.2650 Test MSE: 0.321\n"
     ]
    }
   ],
   "source": [
    "# training for 10 epochs\n",
    "train_loss=[]\n",
    "test_loss=[]\n",
    "for epoch in range(num_epochs):    \n",
    "    # run validation loop on training to compute training loss\n",
    "    train_loss_epoch = train_one_epoch(model1, dg_train, optimizer, loss_fn)\n",
    "    # run validation loop on testing to compute test loss\n",
    "    test_loss_epoch = validate_one_epoch(model1, dg_valid, optimizer,loss_fn)\n",
    "    \n",
    "    print(f\"Epoch {epoch},Train MSE: {train_loss_epoch:.4f} Test MSE: {test_loss_epoch:.3f}\")\n",
    "    \n",
    "    train_loss.append(train_loss_epoch)\n",
    "    test_loss.append(test_loss_epoch)"
   ]
  },
  {
   "cell_type": "code",
   "execution_count": 29,
   "metadata": {},
   "outputs": [
    {
     "data": {
      "text/plain": [
       "[<matplotlib.lines.Line2D at 0x7fe5d211be50>]"
      ]
     },
     "execution_count": 29,
     "metadata": {},
     "output_type": "execute_result"
    },
    {
     "data": {
      "image/png": "[encoded data removed]",
      "text/plain": [
       "<Figure size 1000x800 with 1 Axes>"
      ]
     },
     "metadata": {},
     "output_type": "display_data"
    }
   ],
   "source": [
    "fig = plt.figure(figsize=(10,8))\n",
    "plt.plot(range(1,len(train_loss)+1),train_loss, label='Training Loss')\n",
    "plt.plot(range(1,len(test_loss)+1),test_loss,label='Validation Loss')"
   ]
  },
  {
   "cell_type": "code",
   "execution_count": 30,
   "metadata": {
    "tags": []
   },
   "outputs": [
    {
     "name": "stdout",
     "output_type": "stream",
     "text": [
      "Starting epoch 1\n",
      "Starting epoch 2\n",
      "Starting epoch 3\n",
      "Starting epoch 4\n",
      "Starting epoch 5\n"
     ]
    }
   ],
   "source": [
    "train_loss = 0.0\n",
    "val_loss = 0.0\n",
    "\n",
    "trainingEpoch_loss = []\n",
    "validationEpoch_loss = []\n",
    "\n",
    "size = len(dg_train.data)\n",
    "\n",
    "  # Run the training loop\n",
    "for epoch in range(0, 5): # 5 epochs at maximum\n",
    "    \n",
    "    # Print epoch\n",
    "    print(f'Starting epoch {epoch+1}')\n",
    "    \n",
    "    # Set current loss value\n",
    "    current_loss = []\n",
    "    \n",
    "    # Iterate over the DataLoader for training data\n",
    "    for batch, (X,y) in enumerate(dg_train):\n",
    "        \n",
    "        Xt = torch.as_tensor(X).to(device)\n",
    "        yt = torch.as_tensor(y).to(device)\n",
    "\n",
    "        # Zero the gradients\n",
    "        optimizer.zero_grad()\n",
    "        \n",
    "        pred = model1(Xt).to(device)\n",
    "        # compute loss \n",
    "        loss = loss_fn(pred, yt).to(device)\n",
    "\n",
    "        # Perform backward pass\n",
    "        loss.backward()\n",
    "\n",
    "        # Perform optimization\n",
    "        optimizer.step()\n",
    "      \n",
    "        # Print statistics\n",
    "        current_loss.append(loss.item())\n",
    "        \n",
    "    trainingEpoch_loss.append(np.array(current_loss).mean())\n",
    "        \n",
    "\n",
    "    # Validation\n",
    "    with torch.no_grad():\n",
    "        for batch, (X,y) in enumerate(dg_valid):\n",
    "            \n",
    "                validationStep_loss = []\n",
    "                \n",
    "                Xt = torch.as_tensor(X).to(device)\n",
    "                yt = torch.as_tensor(y).to(device)\n",
    "\n",
    "                # Zero the gradients\n",
    "                optimizer.zero_grad()\n",
    "                    \n",
    "                pred_val = model1(Xt)\n",
    "                # compute loss \n",
    "                validation_loss = loss_fn(pred_val, yt).to(device)\n",
    "\n",
    "                validationStep_loss.append(validation_loss.item())\n",
    "            \n",
    "        validationEpoch_loss.append(np.array(validationStep_loss).mean())\n"
   ]
  },
  {
   "cell_type": "code",
   "execution_count": 31,
   "metadata": {
    "tags": []
   },
   "outputs": [
    {
     "data": {
      "text/plain": [
       "[<matplotlib.lines.Line2D at 0x7fe5d0c0c580>]"
      ]
     },
     "execution_count": 31,
     "metadata": {},
     "output_type": "execute_result"
    },
    {
     "data": {
      "image/png": "[encoded data removed]",
      "text/plain": [
       "<Figure size 1000x800 with 1 Axes>"
      ]
     },
     "metadata": {},
     "output_type": "display_data"
    }
   ],
   "source": [
    "# Plot results\n",
    "fig = plt.figure(figsize=(10,8))\n",
    "plt.plot(range(1,len(trainingEpoch_loss)+1),trainingEpoch_loss, label='Training Loss')\n",
    "plt.plot(range(1,len(validationEpoch_loss)+1),validationEpoch_loss,label='Validation Loss')"
   ]
  },
  {
   "cell_type": "code",
   "execution_count": 44,
   "metadata": {},
   "outputs": [],
   "source": [
    "# Look at the predictions\n",
    "#from utils_predictions import *"
   ]
  },
  {
   "cell_type": "code",
   "execution_count": 45,
   "metadata": {},
   "outputs": [],
   "source": [
    "preds = []\n",
    "for batch, (X,y) in enumerate(dg_valid):\n",
    "    Xt = torch.as_tensor(X).to(device)\n",
    "    yt = torch.as_tensor(y).to(device)\n",
    "    pred_val = model1(Xt)\n",
    "    preds.append(pred_val.cpu().detach().numpy())"
   ]
  },
  {
   "cell_type": "code",
   "execution_count": 46,
   "metadata": {
    "tags": []
   },
   "outputs": [],
   "source": [
    "all_preds = np.concatenate(preds)"
   ]
  },
  {
   "cell_type": "code",
   "execution_count": 47,
   "metadata": {},
   "outputs": [
    {
     "data": {
      "text/plain": [
       "(8783, 2, 32, 64)"
      ]
     },
     "execution_count": 47,
     "metadata": {},
     "output_type": "execute_result"
    }
   ],
   "source": [
    "all_preds.shape"
   ]
  },
  {
   "cell_type": "code",
   "execution_count": 48,
   "metadata": {},
   "outputs": [
    {
     "data": {
      "text/plain": [
       "(8784, 2, 32, 64)"
      ]
     },
     "execution_count": 48,
     "metadata": {},
     "output_type": "execute_result"
    }
   ],
   "source": [
    "dg_valid.data.shape"
   ]
  },
  {
   "cell_type": "code",
   "execution_count": 49,
   "metadata": {},
   "outputs": [],
   "source": [
    "#Let's visualize it"
   ]
  },
  {
   "cell_type": "code",
   "execution_count": 50,
   "metadata": {},
   "outputs": [
    {
     "data": {
      "text/plain": [
       "<matplotlib.image.AxesImage at 0x7f5a07cab9d0>"
      ]
     },
     "execution_count": 50,
     "metadata": {},
     "output_type": "execute_result"
    },
    {
     "data": {
      "image/png": "[encoded data removed]",
      "text/plain": [
       "<Figure size 640x480 with 1 Axes>"
      ]
     },
     "metadata": {},
     "output_type": "display_data"
    }
   ],
   "source": [
    "plt.imshow(all_preds[1,1,:,:])"
   ]
  },
  {
   "cell_type": "code",
   "execution_count": 51,
   "metadata": {},
   "outputs": [
    {
     "data": {
      "text/plain": [
       "<matplotlib.image.AxesImage at 0x7f5a04148310>"
      ]
     },
     "execution_count": 51,
     "metadata": {},
     "output_type": "execute_result"
    },
    {
     "data": {
      "image/png": "[encoded data removed]",
      "text/plain": [
       "<Figure size 640x480 with 1 Axes>"
      ]
     },
     "metadata": {},
     "output_type": "display_data"
    }
   ],
   "source": [
    "plt.imshow(dg_valid.data[0,1,:])"
   ]
  },
  {
   "cell_type": "code",
   "execution_count": null,
   "metadata": {},
   "outputs": [],
   "source": [
    "## train only VIT"
   ]
  }
 ],
 "metadata": {
  "kernelspec": {
   "display_name": "pyTT",
   "language": "python",
   "name": "pytt"
  },
  "language_info": {
   "codemirror_mode": {
    "name": "ipython",
    "version": 3
   },
   "file_extension": ".py",
   "mimetype": "text/x-python",
   "name": "python",
   "nbconvert_exporter": "python",
   "pygments_lexer": "ipython3",
   "version": "3.10.8"
  },
  "vscode": {
   "interpreter": {
    "hash": "89acc57343a2b9c233d3a03eb936ce8fe371fffead8157434df0be7232f9cdb8"
   }
  }
 },
 "nbformat": 4,
 "nbformat_minor": 4
}
