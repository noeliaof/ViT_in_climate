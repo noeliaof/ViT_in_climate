{
 "cells": [
  {
   "cell_type": "markdown",
   "id": "e163444d-c75b-4b7c-bd9a-9834ed74c10c",
   "metadata": {},
   "source": [
    "### Climatelearn testing "
   ]
  },
  {
   "cell_type": "code",
   "execution_count": null,
   "id": "5cee8bbb-d83e-4d4b-af33-704b65ffcc71",
   "metadata": {},
   "outputs": [],
   "source": [
    "# This jupyter notebook uses climatelearn tools \n",
    "# I use the same data from WeatherBench and compare the results with my implementation of ViT"
   ]
  },
  {
   "cell_type": "code",
   "execution_count": null,
   "id": "20bd8167-fc00-4dd1-b67b-2ed1d0f271fd",
   "metadata": {},
   "outputs": [],
   "source": [
    "import sys\n",
    "print(sys.version)"
   ]
  },
  {
   "cell_type": "code",
   "execution_count": null,
   "id": "c1f02ba4-4102-4f21-90ae-5f313076f0ce",
   "metadata": {},
   "outputs": [],
   "source": [
    "import torch as T\n",
    "import torch.nn as nn\n",
    "#from torchtext import data, datasets\n",
    "#from torchtext.vocab import Vocab\n",
    "import torch.optim as optim\n",
    "import time\n",
    "import copy\n",
    "import torch\n",
    "import torch.nn.functional as F\n",
    "from torchsummary import summary\n",
    "import math\n",
    "\n",
    "# Common imports\n",
    "import os\n",
    "import glob\n",
    "import numpy as np\n",
    "import pandas as pd\n",
    "import xarray as xr\n",
    "import dask\n",
    "import math\n",
    "import datetime\n",
    "from collections import OrderedDict\n",
    "\n",
    "# Custom imports\n",
    "from utils.datagenerator import *\n",
    "from utils.util_data import * \n",
    "from utils.metrics import *\n",
    "from utils.helpers import *\n",
    "from utils.drop import *"
   ]
  },
  {
   "cell_type": "code",
   "execution_count": null,
   "id": "e9225143-fa06-462d-9c74-77e9066a3f8c",
   "metadata": {},
   "outputs": [],
   "source": [
    "print(\"Cuda Avaliable :\", torch.cuda.is_available())\n",
    "\n",
    "device = torch.device('cuda' if torch.cuda.is_available() else 'cpu')\n",
    "print(device)"
   ]
  },
  {
   "cell_type": "code",
   "execution_count": null,
   "id": "2ba28c6a-cd19-47f8-b9b7-75f3ee015437",
   "metadata": {},
   "outputs": [],
   "source": [
    "from climate_learn.models import load_model"
   ]
  },
  {
   "cell_type": "code",
   "execution_count": null,
   "id": "d5b76ba5-8c82-45b4-a918-ffd6fdeef9d5",
   "metadata": {},
   "outputs": [],
   "source": [
    "# open data from WeatherBench\n",
    "DATADIR = '/storage/homefs/no21h426/WeatherBench-master/data/WeatherBench/5.625deg/'\n",
    "# Load the entire dataset\n",
    "z500 = xr.open_mfdataset(f'{DATADIR}geopotential_500/*.nc', combine='by_coords').z\n",
    "t850 = xr.open_mfdataset(f'{DATADIR}temperature_850/*.nc', combine='by_coords').t.drop('level')\n",
    "ds = xr.merge([z500, t850])\n",
    "# only load a subset of the training data\n",
    "ds_train = ds.sel(time=slice('2015', '2016'))  \n",
    "ds_test = ds.sel(time=slice('2017', '2018'))"
   ]
  },
  {
   "cell_type": "code",
   "execution_count": null,
   "id": "aca4f86c-43d7-4428-a81d-6b018b8eec33",
   "metadata": {},
   "outputs": [],
   "source": [
    "# then we need a dictionary for all the variables and levels we want to extract from the dataset\n",
    "dic = OrderedDict({'z': None, 't': None})\n",
    "lead_time =1\n",
    "bs = 32\n",
    "# Create a training and validation data generator. Use the train mean and std for validation as well.\n",
    "dg_train = DataGenerator(\n",
    "    ds_train.sel(time=slice('2015', '2015')), dic, lead_time, batch_size=bs, load=True)\n",
    "dg_valid = DataGenerator(\n",
    "    ds_train.sel(time=slice('2016', '2016')), dic, lead_time, batch_size=bs, mean=dg_train.mean, std=dg_train.std, shuffle=False)"
   ]
  },
  {
   "cell_type": "code",
   "execution_count": null,
   "id": "76978d98-a0ae-4547-a0d7-4337eb883d2b",
   "metadata": {},
   "outputs": [],
   "source": [
    "## Download from climatelearn\n",
    "from climate_learn.data import download"
   ]
  },
  {
   "cell_type": "code",
   "execution_count": null,
   "id": "cde58141-cb5e-4a7a-9f07-b6d3aaf4ca32",
   "metadata": {},
   "outputs": [],
   "source": []
  },
  {
   "cell_type": "code",
   "execution_count": null,
   "id": "648db1e5-1135-4355-940e-a1db064be6e9",
   "metadata": {},
   "outputs": [],
   "source": [
    "model_kwargs = {\n",
    "    \"in_channels\": 2,\n",
    "    \"out_channels\": 2,\n",
    "    \"n_blocks\": 4\n",
    "}\n",
    "\n",
    "optim_kwargs = {\n",
    "    \"lr\": 1e-4,\n",
    "}\n"
   ]
  },
  {
   "cell_type": "code",
   "execution_count": null,
   "id": "d6761881-56ea-4d31-9102-1edf1deaf053",
   "metadata": {},
   "outputs": [],
   "source": [
    "model_module = load_model(\n",
    "    name=\"vit\",\n",
    "    task=\"forecasting\",\n",
    "    model_kwargs=None,\n",
    "    optim_kwargs=optim_kwargs\n",
    ")\n",
    "\n"
   ]
  },
  {
   "cell_type": "code",
   "execution_count": null,
   "id": "7f8933fe-ef50-43d0-a909-f16b76dde77e",
   "metadata": {},
   "outputs": [],
   "source": []
  }
 ],
 "metadata": {
  "kernelspec": {
   "display_name": "Python climlearn",
   "language": "python",
   "name": "climlearn"
  },
  "language_info": {
   "codemirror_mode": {
    "name": "ipython",
    "version": 3
   },
   "file_extension": ".py",
   "mimetype": "text/x-python",
   "name": "python",
   "nbconvert_exporter": "python",
   "pygments_lexer": "ipython3",
   "version": "3.10.8"
  }
 },
 "nbformat": 4,
 "nbformat_minor": 5
}
