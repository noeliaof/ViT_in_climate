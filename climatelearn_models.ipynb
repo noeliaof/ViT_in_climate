{
 "cells": [
  {
   "cell_type": "markdown",
   "id": "e163444d-c75b-4b7c-bd9a-9834ed74c10c",
   "metadata": {},
   "source": [
    "### Climatelearn testing "
   ]
  },
  {
   "cell_type": "code",
   "execution_count": 1,
   "id": "5cee8bbb-d83e-4d4b-af33-704b65ffcc71",
   "metadata": {},
   "outputs": [],
   "source": [
    "# This jupyter notebook uses climatelearn tools \n",
    "# I use the same data from WeatherBench and compare the results with my implementation of ViT"
   ]
  },
  {
   "cell_type": "code",
   "execution_count": 1,
   "id": "20bd8167-fc00-4dd1-b67b-2ed1d0f271fd",
   "metadata": {},
   "outputs": [
    {
     "name": "stdout",
     "output_type": "stream",
     "text": [
      "3.10.8 (main, Nov 24 2022, 14:13:03) [GCC 11.2.0]\n"
     ]
    }
   ],
   "source": [
    "import sys\n",
    "print(sys.version)"
   ]
  },
  {
   "cell_type": "code",
   "execution_count": 2,
   "id": "c1f02ba4-4102-4f21-90ae-5f313076f0ce",
   "metadata": {},
   "outputs": [
    {
     "name": "stderr",
     "output_type": "stream",
     "text": [
      "/storage/homefs/no21h426/.conda/envs/pyTT/lib/python3.10/site-packages/tqdm/auto.py:22: TqdmWarning: IProgress not found. Please update jupyter and ipywidgets. See https://ipywidgets.readthedocs.io/en/stable/user_install.html\n",
      "  from .autonotebook import tqdm as notebook_tqdm\n"
     ]
    }
   ],
   "source": [
    "import torch as T\n",
    "import torch.nn as nn\n",
    "#from torchtext import data, datasets\n",
    "#from torchtext.vocab import Vocab\n",
    "import torch.optim as optim\n",
    "import time\n",
    "import copy\n",
    "import torch\n",
    "import torch.nn.functional as F\n",
    "#from torchsummary import summary\n",
    "import math\n",
    "\n",
    "# Common imports\n",
    "import os\n",
    "import glob\n",
    "import numpy as np\n",
    "import pandas as pd\n",
    "import xarray as xr\n",
    "import dask\n",
    "import math\n",
    "import datetime\n",
    "from collections import OrderedDict\n"
   ]
  },
  {
   "cell_type": "code",
   "execution_count": 3,
   "id": "e9225143-fa06-462d-9c74-77e9066a3f8c",
   "metadata": {},
   "outputs": [
    {
     "name": "stdout",
     "output_type": "stream",
     "text": [
      "Cuda Avaliable : True\n",
      "cuda\n"
     ]
    }
   ],
   "source": [
    "print(\"Cuda Avaliable :\", torch.cuda.is_available())\n",
    "\n",
    "device = torch.device('cuda' if torch.cuda.is_available() else 'cpu')\n",
    "print(device)"
   ]
  },
  {
   "cell_type": "code",
   "execution_count": 4,
   "id": "b8f7b7e7",
   "metadata": {},
   "outputs": [],
   "source": [
    "from climate_learn.utils.data import load_dataset, view\n",
    "\n",
    "DATADIR = '/storage/homefs/no21h426/WeatherBench-master/data/WeatherBench/5.625deg/'"
   ]
  },
  {
   "cell_type": "code",
   "execution_count": 5,
   "id": "c519baf0-acf3-4a2f-801d-c93e898d623a",
   "metadata": {},
   "outputs": [],
   "source": [
    "# Load data module for forecasting task\n",
    "from climate_learn.utils.datetime import Year, Days, Hours\n",
    "from climate_learn.data import DataModule"
   ]
  },
  {
   "cell_type": "code",
   "execution_count": 8,
   "id": "3217d4fb-1a01-4191-92e8-8648207daf02",
   "metadata": {},
   "outputs": [
    {
     "name": "stdout",
     "output_type": "stream",
     "text": [
      "Creating train dataset\n"
     ]
    },
    {
     "name": "stderr",
     "output_type": "stream",
     "text": [
      "  0%|          | 0/1 [00:00<?, ?it/s]\n"
     ]
    },
    {
     "ename": "KeyError",
     "evalue": "'geopotential'",
     "output_type": "error",
     "traceback": [
      "\u001b[0;31m---------------------------------------------------------------------------\u001b[0m",
      "\u001b[0;31mKeyError\u001b[0m                                  Traceback (most recent call last)",
      "Cell \u001b[0;32mIn[8], line 1\u001b[0m\n\u001b[0;32m----> 1\u001b[0m data_module \u001b[38;5;241m=\u001b[39m \u001b[43mDataModule\u001b[49m\u001b[43m(\u001b[49m\n\u001b[1;32m      2\u001b[0m \u001b[43m    \u001b[49m\u001b[43mdataset\u001b[49m\u001b[43m \u001b[49m\u001b[38;5;241;43m=\u001b[39;49m\u001b[43m \u001b[49m\u001b[38;5;124;43m\"\u001b[39;49m\u001b[38;5;124;43mERA5\u001b[39;49m\u001b[38;5;124;43m\"\u001b[39;49m\u001b[43m,\u001b[49m\n\u001b[1;32m      3\u001b[0m \u001b[43m    \u001b[49m\u001b[43mtask\u001b[49m\u001b[43m \u001b[49m\u001b[38;5;241;43m=\u001b[39;49m\u001b[43m \u001b[49m\u001b[38;5;124;43m\"\u001b[39;49m\u001b[38;5;124;43mforecasting\u001b[39;49m\u001b[38;5;124;43m\"\u001b[39;49m\u001b[43m,\u001b[49m\n\u001b[1;32m      4\u001b[0m \u001b[43m    \u001b[49m\u001b[43mroot_dir\u001b[49m\u001b[43m \u001b[49m\u001b[38;5;241;43m=\u001b[39;49m\u001b[43m \u001b[49m\u001b[43mDATADIR\u001b[49m\u001b[43m,\u001b[49m\n\u001b[1;32m      5\u001b[0m \u001b[43m    \u001b[49m\u001b[43min_vars\u001b[49m\u001b[43m \u001b[49m\u001b[38;5;241;43m=\u001b[39;49m\u001b[43m \u001b[49m\u001b[43m[\u001b[49m\u001b[38;5;124;43m\"\u001b[39;49m\u001b[38;5;124;43m2m_temperature\u001b[39;49m\u001b[38;5;124;43m\"\u001b[39;49m\u001b[43m]\u001b[49m\u001b[43m,\u001b[49m\n\u001b[1;32m      6\u001b[0m \u001b[43m    \u001b[49m\u001b[43mout_vars\u001b[49m\u001b[43m \u001b[49m\u001b[38;5;241;43m=\u001b[39;49m\u001b[43m \u001b[49m\u001b[43m[\u001b[49m\u001b[38;5;124;43m\"\u001b[39;49m\u001b[38;5;124;43mgeopotential\u001b[39;49m\u001b[38;5;124;43m\"\u001b[39;49m\u001b[43m]\u001b[49m\u001b[43m,\u001b[49m\n\u001b[1;32m      7\u001b[0m \u001b[43m    \u001b[49m\u001b[43mtrain_start_year\u001b[49m\u001b[43m \u001b[49m\u001b[38;5;241;43m=\u001b[39;49m\u001b[43m \u001b[49m\u001b[43mYear\u001b[49m\u001b[43m(\u001b[49m\u001b[38;5;241;43m2015\u001b[39;49m\u001b[43m)\u001b[49m\u001b[43m,\u001b[49m\n\u001b[1;32m      8\u001b[0m \u001b[43m    \u001b[49m\u001b[43mval_start_year\u001b[49m\u001b[43m \u001b[49m\u001b[38;5;241;43m=\u001b[39;49m\u001b[43m \u001b[49m\u001b[43mYear\u001b[49m\u001b[43m(\u001b[49m\u001b[38;5;241;43m2016\u001b[39;49m\u001b[43m)\u001b[49m\u001b[43m,\u001b[49m\n\u001b[1;32m      9\u001b[0m \u001b[43m    \u001b[49m\u001b[43mtest_start_year\u001b[49m\u001b[43m \u001b[49m\u001b[38;5;241;43m=\u001b[39;49m\u001b[43m \u001b[49m\u001b[43mYear\u001b[49m\u001b[43m(\u001b[49m\u001b[38;5;241;43m2017\u001b[39;49m\u001b[43m)\u001b[49m\u001b[43m,\u001b[49m\n\u001b[1;32m     10\u001b[0m \u001b[43m    \u001b[49m\u001b[43mend_year\u001b[49m\u001b[43m \u001b[49m\u001b[38;5;241;43m=\u001b[39;49m\u001b[43m \u001b[49m\u001b[43mYear\u001b[49m\u001b[43m(\u001b[49m\u001b[38;5;241;43m2018\u001b[39;49m\u001b[43m)\u001b[49m\u001b[43m,\u001b[49m\n\u001b[1;32m     11\u001b[0m \u001b[43m    \u001b[49m\u001b[43mpred_range\u001b[49m\u001b[43m \u001b[49m\u001b[38;5;241;43m=\u001b[39;49m\u001b[43m \u001b[49m\u001b[43mDays\u001b[49m\u001b[43m(\u001b[49m\u001b[38;5;241;43m3\u001b[39;49m\u001b[43m)\u001b[49m\u001b[43m,\u001b[49m\n\u001b[1;32m     12\u001b[0m \u001b[43m    \u001b[49m\u001b[43msubsample\u001b[49m\u001b[43m \u001b[49m\u001b[38;5;241;43m=\u001b[39;49m\u001b[43m \u001b[49m\u001b[43mHours\u001b[49m\u001b[43m(\u001b[49m\u001b[38;5;241;43m1\u001b[39;49m\u001b[43m)\u001b[49m\u001b[43m,\u001b[49m\n\u001b[1;32m     13\u001b[0m \u001b[43m    \u001b[49m\u001b[43mbatch_size\u001b[49m\u001b[43m \u001b[49m\u001b[38;5;241;43m=\u001b[39;49m\u001b[43m \u001b[49m\u001b[38;5;241;43m128\u001b[39;49m\u001b[43m,\u001b[49m\n\u001b[1;32m     14\u001b[0m \u001b[43m    \u001b[49m\u001b[43mnum_workers\u001b[49m\u001b[43m \u001b[49m\u001b[38;5;241;43m=\u001b[39;49m\u001b[43m \u001b[49m\u001b[38;5;241;43m1\u001b[39;49m\n\u001b[1;32m     15\u001b[0m \u001b[43m)\u001b[49m\n",
      "File \u001b[0;32m~/climate-learn/src/climate_learn/data/module.py:112\u001b[0m, in \u001b[0;36mDataModule.__init__\u001b[0;34m(self, dataset, task, root_dir, in_vars, out_vars, train_start_year, val_start_year, test_start_year, end_year, root_highres_dir, history, window, pred_range, subsample, batch_size, num_workers, pin_memory)\u001b[0m\n\u001b[1;32m    109\u001b[0m caller \u001b[38;5;241m=\u001b[39m \u001b[38;5;28meval\u001b[39m(\u001b[38;5;124mf\u001b[39m\u001b[38;5;124m\"\u001b[39m\u001b[38;5;132;01m{\u001b[39;00mdataset\u001b[38;5;241m.\u001b[39mupper()\u001b[38;5;132;01m}\u001b[39;00m\u001b[38;5;132;01m{\u001b[39;00mtask_string\u001b[38;5;132;01m}\u001b[39;00m\u001b[38;5;124m\"\u001b[39m)\n\u001b[1;32m    111\u001b[0m train_years \u001b[38;5;241m=\u001b[39m \u001b[38;5;28mrange\u001b[39m(train_start_year, val_start_year)\n\u001b[0;32m--> 112\u001b[0m \u001b[38;5;28mself\u001b[39m\u001b[38;5;241m.\u001b[39mtrain_dataset \u001b[38;5;241m=\u001b[39m \u001b[43mcaller\u001b[49m\u001b[43m(\u001b[49m\n\u001b[1;32m    113\u001b[0m \u001b[43m    \u001b[49m\u001b[43mroot_dir\u001b[49m\u001b[43m,\u001b[49m\n\u001b[1;32m    114\u001b[0m \u001b[43m    \u001b[49m\u001b[43mroot_highres_dir\u001b[49m\u001b[43m,\u001b[49m\n\u001b[1;32m    115\u001b[0m \u001b[43m    \u001b[49m\u001b[43min_vars\u001b[49m\u001b[43m,\u001b[49m\n\u001b[1;32m    116\u001b[0m \u001b[43m    \u001b[49m\u001b[43mout_vars\u001b[49m\u001b[43m,\u001b[49m\n\u001b[1;32m    117\u001b[0m \u001b[43m    \u001b[49m\u001b[43mhistory\u001b[49m\u001b[43m,\u001b[49m\n\u001b[1;32m    118\u001b[0m \u001b[43m    \u001b[49m\u001b[43mwindow\u001b[49m\u001b[43m,\u001b[49m\n\u001b[1;32m    119\u001b[0m \u001b[43m    \u001b[49m\u001b[43mpred_range\u001b[49m\u001b[38;5;241;43m.\u001b[39;49m\u001b[43mhours\u001b[49m\u001b[43m(\u001b[49m\u001b[43m)\u001b[49m\u001b[43m,\u001b[49m\n\u001b[1;32m    120\u001b[0m \u001b[43m    \u001b[49m\u001b[43mtrain_years\u001b[49m\u001b[43m,\u001b[49m\n\u001b[1;32m    121\u001b[0m \u001b[43m    \u001b[49m\u001b[43msubsample\u001b[49m\u001b[38;5;241;43m.\u001b[39;49m\u001b[43mhours\u001b[49m\u001b[43m(\u001b[49m\u001b[43m)\u001b[49m\u001b[43m,\u001b[49m\n\u001b[1;32m    122\u001b[0m \u001b[43m    \u001b[49m\u001b[38;5;124;43m\"\u001b[39;49m\u001b[38;5;124;43mtrain\u001b[39;49m\u001b[38;5;124;43m\"\u001b[39;49m\u001b[43m,\u001b[49m\n\u001b[1;32m    123\u001b[0m \u001b[43m\u001b[49m\u001b[43m)\u001b[49m\n\u001b[1;32m    125\u001b[0m val_years \u001b[38;5;241m=\u001b[39m \u001b[38;5;28mrange\u001b[39m(val_start_year, test_start_year)\n\u001b[1;32m    126\u001b[0m \u001b[38;5;28mself\u001b[39m\u001b[38;5;241m.\u001b[39mval_dataset \u001b[38;5;241m=\u001b[39m caller(\n\u001b[1;32m    127\u001b[0m     root_dir,\n\u001b[1;32m    128\u001b[0m     root_highres_dir,\n\u001b[0;32m   (...)\u001b[0m\n\u001b[1;32m    136\u001b[0m     \u001b[38;5;124m\"\u001b[39m\u001b[38;5;124mval\u001b[39m\u001b[38;5;124m\"\u001b[39m,\n\u001b[1;32m    137\u001b[0m )\n",
      "File \u001b[0;32m~/climate-learn/src/climate_learn/data/modules/era5_module.py:114\u001b[0m, in \u001b[0;36mERA5Forecasting.__init__\u001b[0;34m(self, root_dir, root_highres_dir, in_vars, out_vars, history, window, pred_range, years, subsample, split)\u001b[0m\n\u001b[1;32m    112\u001b[0m \u001b[38;5;28mprint\u001b[39m(\u001b[38;5;124mf\u001b[39m\u001b[38;5;124m\"\u001b[39m\u001b[38;5;124mCreating \u001b[39m\u001b[38;5;132;01m{\u001b[39;00msplit\u001b[38;5;132;01m}\u001b[39;00m\u001b[38;5;124m dataset\u001b[39m\u001b[38;5;124m\"\u001b[39m)\n\u001b[1;32m    113\u001b[0m unique_vars \u001b[38;5;241m=\u001b[39m \u001b[38;5;28mlist\u001b[39m(\u001b[38;5;28mset\u001b[39m(in_vars) \u001b[38;5;241m|\u001b[39m \u001b[38;5;28mset\u001b[39m(out_vars))\n\u001b[0;32m--> 114\u001b[0m \u001b[38;5;28;43msuper\u001b[39;49m\u001b[43m(\u001b[49m\u001b[43m)\u001b[49m\u001b[38;5;241;43m.\u001b[39;49m\u001b[38;5;21;43m__init__\u001b[39;49m\u001b[43m(\u001b[49m\u001b[43mroot_dir\u001b[49m\u001b[43m,\u001b[49m\u001b[43m \u001b[49m\u001b[43mroot_highres_dir\u001b[49m\u001b[43m,\u001b[49m\u001b[43m \u001b[49m\u001b[43munique_vars\u001b[49m\u001b[43m,\u001b[49m\u001b[43m \u001b[49m\u001b[43myears\u001b[49m\u001b[43m,\u001b[49m\u001b[43m \u001b[49m\u001b[43msplit\u001b[49m\u001b[43m)\u001b[49m\n\u001b[1;32m    116\u001b[0m \u001b[38;5;28mself\u001b[39m\u001b[38;5;241m.\u001b[39min_vars \u001b[38;5;241m=\u001b[39m \u001b[38;5;28mlist\u001b[39m(\u001b[38;5;28mself\u001b[39m\u001b[38;5;241m.\u001b[39mdata_dict\u001b[38;5;241m.\u001b[39mkeys())\n\u001b[1;32m    117\u001b[0m \u001b[38;5;28mself\u001b[39m\u001b[38;5;241m.\u001b[39mout_vars \u001b[38;5;241m=\u001b[39m out_vars\n",
      "File \u001b[0;32m~/climate-learn/src/climate_learn/data/modules/era5_module.py:28\u001b[0m, in \u001b[0;36mERA5.__init__\u001b[0;34m(self, root_dir, root_highres_dir, variables, years, split)\u001b[0m\n\u001b[1;32m     25\u001b[0m \u001b[38;5;28mself\u001b[39m\u001b[38;5;241m.\u001b[39myears \u001b[38;5;241m=\u001b[39m years\n\u001b[1;32m     26\u001b[0m \u001b[38;5;28mself\u001b[39m\u001b[38;5;241m.\u001b[39msplit \u001b[38;5;241m=\u001b[39m split\n\u001b[0;32m---> 28\u001b[0m \u001b[38;5;28mself\u001b[39m\u001b[38;5;241m.\u001b[39mdata_dict \u001b[38;5;241m=\u001b[39m \u001b[38;5;28;43mself\u001b[39;49m\u001b[38;5;241;43m.\u001b[39;49m\u001b[43mload_from_nc\u001b[49m\u001b[43m(\u001b[49m\u001b[38;5;28;43mself\u001b[39;49m\u001b[38;5;241;43m.\u001b[39;49m\u001b[43mroot_dir\u001b[49m\u001b[43m)\u001b[49m\n\u001b[1;32m     29\u001b[0m \u001b[38;5;28;01mif\u001b[39;00m \u001b[38;5;28mself\u001b[39m\u001b[38;5;241m.\u001b[39mroot_highres_dir \u001b[38;5;129;01mis\u001b[39;00m \u001b[38;5;129;01mnot\u001b[39;00m \u001b[38;5;28;01mNone\u001b[39;00m:\n\u001b[1;32m     30\u001b[0m     \u001b[38;5;28mself\u001b[39m\u001b[38;5;241m.\u001b[39mdata_highres_dict \u001b[38;5;241m=\u001b[39m \u001b[38;5;28mself\u001b[39m\u001b[38;5;241m.\u001b[39mload_from_nc(\u001b[38;5;28mself\u001b[39m\u001b[38;5;241m.\u001b[39mroot_highres_dir)\n",
      "File \u001b[0;32m~/climate-learn/src/climate_learn/data/modules/era5_module.py:69\u001b[0m, in \u001b[0;36mERA5.load_from_nc\u001b[0;34m(self, data_dir)\u001b[0m\n\u001b[1;32m     67\u001b[0m \u001b[38;5;28;01mif\u001b[39;00m \u001b[38;5;28mlen\u001b[39m(xr_data\u001b[38;5;241m.\u001b[39mshape) \u001b[38;5;241m==\u001b[39m \u001b[38;5;241m3\u001b[39m:  \u001b[38;5;66;03m# 8760, 32, 64\u001b[39;00m\n\u001b[1;32m     68\u001b[0m     xr_data \u001b[38;5;241m=\u001b[39m xr_data\u001b[38;5;241m.\u001b[39mexpand_dims(dim\u001b[38;5;241m=\u001b[39m\u001b[38;5;124m\"\u001b[39m\u001b[38;5;124mlevel\u001b[39m\u001b[38;5;124m\"\u001b[39m, axis\u001b[38;5;241m=\u001b[39m\u001b[38;5;241m1\u001b[39m)\n\u001b[0;32m---> 69\u001b[0m     \u001b[43mdata_dict\u001b[49m\u001b[43m[\u001b[49m\u001b[43mvar\u001b[49m\u001b[43m]\u001b[49m\u001b[38;5;241m.\u001b[39mappend(xr_data)\n\u001b[1;32m     70\u001b[0m \u001b[38;5;28;01melse\u001b[39;00m:  \u001b[38;5;66;03m# pressure level\u001b[39;00m\n\u001b[1;32m     71\u001b[0m     \u001b[38;5;28;01mfor\u001b[39;00m level \u001b[38;5;129;01min\u001b[39;00m DEFAULT_PRESSURE_LEVELS:\n",
      "\u001b[0;31mKeyError\u001b[0m: 'geopotential'"
     ]
    }
   ],
   "source": [
    "data_module = DataModule(\n",
    "    dataset = \"ERA5\",\n",
    "    task = \"forecasting\",\n",
    "    root_dir = DATADIR,\n",
    "    in_vars = [\"2m_temperature\"],\n",
    "    out_vars = [\"geopotential\"],\n",
    "    train_start_year = Year(2015),\n",
    "    val_start_year = Year(2016),\n",
    "    test_start_year = Year(2017),\n",
    "    end_year = Year(2018),\n",
    "    pred_range = Days(3),\n",
    "    subsample = Hours(1),\n",
    "    batch_size = 128,\n",
    "    num_workers = 1\n",
    ")"
   ]
  },
  {
   "cell_type": "code",
   "execution_count": 9,
   "id": "bd511daf-279a-45dd-be19-11ff4e1c6015",
   "metadata": {},
   "outputs": [],
   "source": [
    "from constants import (\n",
    "    NAME_TO_VAR,\n",
    "    DEFAULT_PRESSURE_LEVELS,\n",
    "    CONSTANTS,\n",
    "    SINGLE_LEVEL_VARS,\n",
    "    PRESSURE_LEVEL_VARS,\n",
    ")"
   ]
  },
  {
   "cell_type": "code",
   "execution_count": 10,
   "id": "3e9e9284-39bd-43a7-a02e-39e9729f765e",
   "metadata": {},
   "outputs": [],
   "source": [
    "constant_names = [\n",
    "            name for name in [\"temperature\"] if NAME_TO_VAR[name] in CONSTANTS\n",
    "        ]"
   ]
  },
  {
   "cell_type": "code",
   "execution_count": 11,
   "id": "5a44172b-2a76-4b3e-b45a-fef5c35a7f41",
   "metadata": {},
   "outputs": [],
   "source": [
    "non_const_names = [\n",
    "    name for name in [\"geopotential\"] if name not in constant_names\n",
    "]"
   ]
  },
  {
   "cell_type": "code",
   "execution_count": 16,
   "id": "64ce7a8b-178d-41da-b84a-37fdedaf543a",
   "metadata": {},
   "outputs": [],
   "source": [
    "non_const_names=['2m_temperature','temperature']"
   ]
  },
  {
   "cell_type": "code",
   "execution_count": 17,
   "id": "bcb147a3-5dab-4c2c-afc8-9cc0da58157c",
   "metadata": {},
   "outputs": [],
   "source": [
    "data_dict = {}\n",
    "for name in non_const_names:\n",
    "    if name in SINGLE_LEVEL_VARS:\n",
    "        data_dict[name] = []\n",
    "    elif name in PRESSURE_LEVEL_VARS:\n",
    "       \n",
    "        for level in DEFAULT_PRESSURE_LEVELS:\n",
    "            data_dict[f\"{name}_{level}\"] = []\n",
    "    else:\n",
    "        raise NotImplementedError(f\"{name} is not either in single-level or pressure-level dict\")"
   ]
  },
  {
   "cell_type": "code",
   "execution_count": 18,
   "id": "5b80555c-02e4-4f2c-9c4f-8d19a6b449ea",
   "metadata": {},
   "outputs": [
    {
     "data": {
      "text/plain": [
       "{'2m_temperature': [],\n",
       " 'temperature_50': [],\n",
       " 'temperature_250': [],\n",
       " 'temperature_500': [],\n",
       " 'temperature_600': [],\n",
       " 'temperature_700': [],\n",
       " 'temperature_850': [],\n",
       " 'temperature_925': []}"
      ]
     },
     "execution_count": 18,
     "metadata": {},
     "output_type": "execute_result"
    }
   ],
   "source": [
    "data_dict"
   ]
  },
  {
   "cell_type": "code",
   "execution_count": 19,
   "id": "3e865a83-9b97-4b31-8fca-c2936e57eef0",
   "metadata": {},
   "outputs": [
    {
     "name": "stdout",
     "output_type": "stream",
     "text": [
      "2m_temperature\n",
      "temperature\n"
     ]
    }
   ],
   "source": [
    "for var in non_const_names:\n",
    "    print(var)"
   ]
  },
  {
   "cell_type": "code",
   "execution_count": 20,
   "id": "eeff73a3-9567-4896-a4d3-6397af9020e3",
   "metadata": {},
   "outputs": [],
   "source": [
    "if var not in PRESSURE_LEVEL_VARS:\n",
    "    print(\"test\")"
   ]
  },
  {
   "cell_type": "code",
   "execution_count": 21,
   "id": "572e283c-3e6e-4691-81b6-d63c4ac0673b",
   "metadata": {
    "tags": []
   },
   "outputs": [
    {
     "name": "stdout",
     "output_type": "stream",
     "text": [
      "['/storage/homefs/no21h426/WeatherBench-master/data/WeatherBench/5.625deg/2m_temperature/2m_temperature_2015_5.625deg.nc']\n",
      "['/storage/homefs/no21h426/WeatherBench-master/data/WeatherBench/5.625deg/temperature/temperature_850hPa_2015_5.625deg.nc']\n"
     ]
    }
   ],
   "source": [
    "for var in non_const_names:\n",
    "    year = Year(2015)\n",
    "    dir_var = os.path.join(DATADIR, var)\n",
    "    ps = glob.glob(os.path.join(dir_var, f\"*{year}*.nc\"))\n",
    "    print(ps)\n",
    "    xr_data = xr.open_mfdataset(ps, combine=\"by_coords\")\n",
    "    xr_data = xr_data[NAME_TO_VAR[var]]\n",
    "    \n",
    "    if len(xr_data.shape) == 3:  # 8760, 32, 64\n",
    "            xr_data = xr_data.expand_dims(dim=\"level\", axis=1)\n",
    "            if var not in PRESSURE_LEVEL_VARS: \n",
    "                data_dict[var].append(xr_data)\n",
    "            else:\n",
    "                level = int(xr_data.level) # specify the level \n",
    "                data_dict[f\"{var}_{level}\"].append(xr_data)\n",
    "               # data_dict = {i:j for i,j in data_dict.items() if j != []} # remove empty entries of pressure levels\n",
    "    else:  # pressure level\n",
    "        for level in DEFAULT_PRESSURE_LEVELS:\n",
    "            print(level)\n",
    "            xr_data_level = xr_data.sel(level=[level])\n",
    "            data_dict[f\"{var}_{level}\"].append(xr_data_level)\n",
    "            \n",
    "#data_dict = {i:j for i,j in data_dict.items() if j != []}"
   ]
  },
  {
   "cell_type": "code",
   "execution_count": 22,
   "id": "c45037ad-44cf-425e-b6dd-fce4607483eb",
   "metadata": {},
   "outputs": [],
   "source": [
    "data_dict = {i:j for i,j in data_dict.items() if j != []}"
   ]
  },
  {
   "cell_type": "code",
   "execution_count": 23,
   "id": "baafaf0a-fcad-4127-8fd2-4e5ec4e80f7f",
   "metadata": {},
   "outputs": [
    {
     "data": {
      "text/plain": [
       "{'2m_temperature': [<xarray.DataArray 't2m' (time: 8760, level: 1, lat: 32, lon: 64)>\n",
       "  dask.array<transpose, shape=(8760, 1, 32, 64), dtype=float32, chunksize=(8760, 1, 32, 64), chunktype=numpy.ndarray>\n",
       "  Coordinates:\n",
       "    * lat      (lat) float64 -87.19 -81.56 -75.94 -70.31 ... 75.94 81.56 87.19\n",
       "    * lon      (lon) float64 0.0 5.625 11.25 16.88 ... 337.5 343.1 348.8 354.4\n",
       "    * time     (time) datetime64[ns] 2015-01-01 ... 2015-12-31T23:00:00\n",
       "  Dimensions without coordinates: level\n",
       "  Attributes:\n",
       "      units:      K\n",
       "      long_name:  2 metre temperature],\n",
       " 'temperature_850': [<xarray.DataArray 't' (time: 8760, level: 1, lat: 32, lon: 64)>\n",
       "  dask.array<transpose, shape=(8760, 1, 32, 64), dtype=float32, chunksize=(8760, 1, 32, 64), chunktype=numpy.ndarray>\n",
       "  Coordinates:\n",
       "    * lon      (lon) float64 0.0 5.625 11.25 16.88 ... 337.5 343.1 348.8 354.4\n",
       "    * lat      (lat) float64 -87.19 -81.56 -75.94 -70.31 ... 75.94 81.56 87.19\n",
       "    * level    (level) int32 850\n",
       "    * time     (time) datetime64[ns] 2015-01-01 ... 2015-12-31T23:00:00\n",
       "  Attributes:\n",
       "      units:          K\n",
       "      long_name:      Temperature\n",
       "      standard_name:  air_temperature]}"
      ]
     },
     "execution_count": 23,
     "metadata": {},
     "output_type": "execute_result"
    }
   ],
   "source": [
    "data_dict"
   ]
  },
  {
   "cell_type": "code",
   "execution_count": 24,
   "id": "60b74be0-b074-47e6-9e55-13bc5515d723",
   "metadata": {},
   "outputs": [],
   "source": [
    "data_dict = {k: xr.concat(data_dict[k], dim=\"time\") for k in data_dict.keys()}"
   ]
  },
  {
   "cell_type": "code",
   "execution_count": 25,
   "id": "c630e898-df44-438f-bcec-e7ea86125bef",
   "metadata": {},
   "outputs": [
    {
     "data": {
      "text/plain": [
       "{'2m_temperature': <xarray.DataArray 't2m' (time: 8760, level: 1, lat: 32, lon: 64)>\n",
       " dask.array<transpose, shape=(8760, 1, 32, 64), dtype=float32, chunksize=(8760, 1, 32, 64), chunktype=numpy.ndarray>\n",
       " Coordinates:\n",
       "   * lat      (lat) float64 -87.19 -81.56 -75.94 -70.31 ... 75.94 81.56 87.19\n",
       "   * lon      (lon) float64 0.0 5.625 11.25 16.88 ... 337.5 343.1 348.8 354.4\n",
       "   * time     (time) datetime64[ns] 2015-01-01 ... 2015-12-31T23:00:00\n",
       " Dimensions without coordinates: level\n",
       " Attributes:\n",
       "     units:      K\n",
       "     long_name:  2 metre temperature,\n",
       " 'temperature_850': <xarray.DataArray 't' (time: 8760, level: 1, lat: 32, lon: 64)>\n",
       " dask.array<transpose, shape=(8760, 1, 32, 64), dtype=float32, chunksize=(8760, 1, 32, 64), chunktype=numpy.ndarray>\n",
       " Coordinates:\n",
       "   * lon      (lon) float64 0.0 5.625 11.25 16.88 ... 337.5 343.1 348.8 354.4\n",
       "   * lat      (lat) float64 -87.19 -81.56 -75.94 -70.31 ... 75.94 81.56 87.19\n",
       "   * level    (level) int32 850\n",
       "   * time     (time) datetime64[ns] 2015-01-01 ... 2015-12-31T23:00:00\n",
       " Attributes:\n",
       "     units:          K\n",
       "     long_name:      Temperature\n",
       "     standard_name:  air_temperature}"
      ]
     },
     "execution_count": 25,
     "metadata": {},
     "output_type": "execute_result"
    }
   ],
   "source": [
    "data_dict"
   ]
  },
  {
   "cell_type": "code",
   "execution_count": 26,
   "id": "76c2790b-8461-473e-a0f6-e07703e474ce",
   "metadata": {},
   "outputs": [],
   "source": [
    "# precipitation and solar radiation miss a few data points in the beginning\n",
    "len_min = min([data_dict[k].shape[0] for k in data_dict.keys()])\n"
   ]
  },
  {
   "cell_type": "code",
   "execution_count": 27,
   "id": "a10592bf-dfa8-42c2-9e75-0825b1ff0e90",
   "metadata": {},
   "outputs": [],
   "source": [
    "data_dict = {k: data_dict[k][-len_min:] for k in data_dict.keys()}"
   ]
  },
  {
   "cell_type": "code",
   "execution_count": 28,
   "id": "441324cb-c346-4e9b-9510-32e6d0dda0f9",
   "metadata": {},
   "outputs": [
    {
     "data": {
      "text/plain": [
       "{'2m_temperature': <xarray.DataArray 't2m' (time: 8760, level: 1, lat: 32, lon: 64)>\n",
       " dask.array<transpose, shape=(8760, 1, 32, 64), dtype=float32, chunksize=(8760, 1, 32, 64), chunktype=numpy.ndarray>\n",
       " Coordinates:\n",
       "   * lat      (lat) float64 -87.19 -81.56 -75.94 -70.31 ... 75.94 81.56 87.19\n",
       "   * lon      (lon) float64 0.0 5.625 11.25 16.88 ... 337.5 343.1 348.8 354.4\n",
       "   * time     (time) datetime64[ns] 2015-01-01 ... 2015-12-31T23:00:00\n",
       " Dimensions without coordinates: level\n",
       " Attributes:\n",
       "     units:      K\n",
       "     long_name:  2 metre temperature,\n",
       " 'temperature_850': <xarray.DataArray 't' (time: 8760, level: 1, lat: 32, lon: 64)>\n",
       " dask.array<transpose, shape=(8760, 1, 32, 64), dtype=float32, chunksize=(8760, 1, 32, 64), chunktype=numpy.ndarray>\n",
       " Coordinates:\n",
       "   * lon      (lon) float64 0.0 5.625 11.25 16.88 ... 337.5 343.1 348.8 354.4\n",
       "   * lat      (lat) float64 -87.19 -81.56 -75.94 -70.31 ... 75.94 81.56 87.19\n",
       "   * level    (level) int32 850\n",
       "   * time     (time) datetime64[ns] 2015-01-01 ... 2015-12-31T23:00:00\n",
       " Attributes:\n",
       "     units:          K\n",
       "     long_name:      Temperature\n",
       "     standard_name:  air_temperature}"
      ]
     },
     "execution_count": 28,
     "metadata": {},
     "output_type": "execute_result"
    }
   ],
   "source": [
    "data_dict"
   ]
  },
  {
   "cell_type": "code",
   "execution_count": 29,
   "id": "4e515fe1-a82b-4202-a8aa-01a8fcf935aa",
   "metadata": {},
   "outputs": [
    {
     "data": {
      "text/plain": [
       "['2m_temperature', 'temperature_850']"
      ]
     },
     "execution_count": 29,
     "metadata": {},
     "output_type": "execute_result"
    }
   ],
   "source": [
    "list(data_dict.keys())"
   ]
  },
  {
   "cell_type": "code",
   "execution_count": 40,
   "id": "21473803-34d8-4ebb-83b4-00fe7bbb22bf",
   "metadata": {},
   "outputs": [
    {
     "data": {
      "text/plain": [
       "['geopotential',\n",
       " 'u_component_of_wind',\n",
       " 'v_component_of_wind',\n",
       " 'temperature',\n",
       " 'relative_humidity',\n",
       " 'specific_humidity',\n",
       " 'vorticity',\n",
       " 'potential_vorticity']"
      ]
     },
     "execution_count": 40,
     "metadata": {},
     "output_type": "execute_result"
    }
   ],
   "source": [
    "PRESSURE_LEVEL_VARS"
   ]
  },
  {
   "cell_type": "code",
   "execution_count": 33,
   "id": "50776b79-211a-4007-9bf5-a35d4ade0dbe",
   "metadata": {},
   "outputs": [],
   "source": [
    "in_vars = ['2m_temperature']"
   ]
  },
  {
   "cell_type": "code",
   "execution_count": 42,
   "id": "7b6433d9-e9ab-46bd-bd86-fca6f655152e",
   "metadata": {},
   "outputs": [],
   "source": [
    "out_vars = [\"temperature\"]"
   ]
  },
  {
   "cell_type": "code",
   "execution_count": 73,
   "id": "e6c1d24a-2a15-4805-8c86-5849e7158851",
   "metadata": {},
   "outputs": [
    {
     "name": "stdout",
     "output_type": "stream",
     "text": [
      "['temperature_850']\n"
     ]
    }
   ],
   "source": [
    "if any(x in PRESSURE_LEVEL_VARS for x in out_vars):\n",
    "    #for pat in out_vars:\n",
    "    #    print(pat + '_')\n",
    "    #    print(pat.join'_')\n",
    "    print([x for x in list(data_dict.keys()) if any(pat + '_' in x for pat in out_vars)])\n",
    "else:\n",
    "    [x for x in list(data_dict.keys()) if any(pat + '_' in x for pat in out_vars)]"
   ]
  },
  {
   "cell_type": "code",
   "execution_count": 68,
   "id": "767a7db6-127c-40fe-ac5c-6d98b58554a2",
   "metadata": {},
   "outputs": [
    {
     "name": "stdout",
     "output_type": "stream",
     "text": [
      "['2m_temperature', 'temperature_850']\n"
     ]
    }
   ],
   "source": [
    "print([x for x in list(data_dict.keys()) if any(pat in x for pat in out_vars)])"
   ]
  },
  {
   "cell_type": "code",
   "execution_count": 52,
   "id": "2c6d9d38-371f-4695-a862-e60070ee5748",
   "metadata": {},
   "outputs": [
    {
     "ename": "TypeError",
     "evalue": "'bool' object is not iterable",
     "output_type": "error",
     "traceback": [
      "\u001b[0;31m---------------------------------------------------------------------------\u001b[0m",
      "\u001b[0;31mTypeError\u001b[0m                                 Traceback (most recent call last)",
      "Cell \u001b[0;32mIn[52], line 1\u001b[0m\n\u001b[0;32m----> 1\u001b[0m \u001b[38;5;28;01mif\u001b[39;00m \u001b[38;5;28many\u001b[39m(pat \u001b[38;5;28;01mfor\u001b[39;00m pat \u001b[38;5;129;01min\u001b[39;00m out_vars \u001b[38;5;129;01min\u001b[39;00m PRESSURE_LEVEL_VARS):\n\u001b[1;32m      2\u001b[0m     \u001b[38;5;28mprint\u001b[39m(pat)\n\u001b[1;32m      3\u001b[0m \u001b[38;5;28;01melse\u001b[39;00m:\n",
      "\u001b[0;31mTypeError\u001b[0m: 'bool' object is not iterable"
     ]
    }
   ],
   "source": [
    "if any(pat for pat in out_vars in PRESSURE_LEVEL_VARS):\n",
    "    print(pat)\n",
    "else:\n",
    "    print(\"non level\")"
   ]
  },
  {
   "cell_type": "code",
   "execution_count": 35,
   "id": "d3da29b1-67ba-49f8-9314-05bf7e0a5ba6",
   "metadata": {},
   "outputs": [
    {
     "data": {
      "text/plain": [
       "['2m_temperature']"
      ]
     },
     "execution_count": 35,
     "metadata": {},
     "output_type": "execute_result"
    }
   ],
   "source": [
    "[x for x in list(data_dict.keys()) if any(pat in x for pat in in_vars)]"
   ]
  },
  {
   "cell_type": "code",
   "execution_count": 36,
   "id": "6fe49549-d2fc-4574-a608-45bd7607e760",
   "metadata": {},
   "outputs": [
    {
     "data": {
      "text/plain": [
       "['2m_temperature', 'temperature_850']"
      ]
     },
     "execution_count": 36,
     "metadata": {},
     "output_type": "execute_result"
    }
   ],
   "source": []
  },
  {
   "cell_type": "code",
   "execution_count": 30,
   "id": "f549cba5-99fa-4ff5-b013-72e3f47dd453",
   "metadata": {},
   "outputs": [],
   "source": [
    "inp_data = xr.concat([data_dict[k] for k in in_vars], dim=\"level\")\n"
   ]
  },
  {
   "cell_type": "code",
   "execution_count": 32,
   "id": "cac17a47-88a8-4c4d-8a58-c2625c981247",
   "metadata": {},
   "outputs": [
    {
     "ename": "KeyError",
     "evalue": "'geopotential'",
     "output_type": "error",
     "traceback": [
      "\u001b[0;31m---------------------------------------------------------------------------\u001b[0m",
      "\u001b[0;31mKeyError\u001b[0m                                  Traceback (most recent call last)",
      "Cell \u001b[0;32mIn[32], line 1\u001b[0m\n\u001b[0;32m----> 1\u001b[0m out_data \u001b[38;5;241m=\u001b[39m xr\u001b[38;5;241m.\u001b[39mconcat([data_dict[k] \u001b[38;5;28;01mfor\u001b[39;00m k \u001b[38;5;129;01min\u001b[39;00m out_vars], dim\u001b[38;5;241m=\u001b[39m\u001b[38;5;124m\"\u001b[39m\u001b[38;5;124mlevel\u001b[39m\u001b[38;5;124m\"\u001b[39m)\n",
      "Cell \u001b[0;32mIn[32], line 1\u001b[0m, in \u001b[0;36m<listcomp>\u001b[0;34m(.0)\u001b[0m\n\u001b[0;32m----> 1\u001b[0m out_data \u001b[38;5;241m=\u001b[39m xr\u001b[38;5;241m.\u001b[39mconcat([\u001b[43mdata_dict\u001b[49m\u001b[43m[\u001b[49m\u001b[43mk\u001b[49m\u001b[43m]\u001b[49m \u001b[38;5;28;01mfor\u001b[39;00m k \u001b[38;5;129;01min\u001b[39;00m out_vars], dim\u001b[38;5;241m=\u001b[39m\u001b[38;5;124m\"\u001b[39m\u001b[38;5;124mlevel\u001b[39m\u001b[38;5;124m\"\u001b[39m)\n",
      "\u001b[0;31mKeyError\u001b[0m: 'geopotential'"
     ]
    }
   ],
   "source": [
    "out_data = xr.concat([data_dict[k] for k in out_vars], dim=\"level\")\n",
    "    "
   ]
  },
  {
   "cell_type": "code",
   "execution_count": 33,
   "id": "01cf1eb4-3595-44f0-8b94-7947ad617c20",
   "metadata": {},
   "outputs": [
    {
     "data": {
      "text/plain": [
       "{'2m_temperature': <xarray.DataArray 't2m' (time: 8760, level: 1, lat: 32, lon: 64)>\n",
       " dask.array<transpose, shape=(8760, 1, 32, 64), dtype=float32, chunksize=(8760, 1, 32, 64), chunktype=numpy.ndarray>\n",
       " Coordinates:\n",
       "   * lat      (lat) float64 -87.19 -81.56 -75.94 -70.31 ... 75.94 81.56 87.19\n",
       "   * lon      (lon) float64 0.0 5.625 11.25 16.88 ... 337.5 343.1 348.8 354.4\n",
       "   * time     (time) datetime64[ns] 2015-01-01 ... 2015-12-31T23:00:00\n",
       " Dimensions without coordinates: level\n",
       " Attributes:\n",
       "     units:      K\n",
       "     long_name:  2 metre temperature,\n",
       " 'geopotential_500': <xarray.DataArray 'z' (time: 8760, level: 1, lat: 32, lon: 64)>\n",
       " dask.array<transpose, shape=(8760, 1, 32, 64), dtype=float32, chunksize=(8760, 1, 32, 64), chunktype=numpy.ndarray>\n",
       " Coordinates:\n",
       "   * lon      (lon) float64 0.0 5.625 11.25 16.88 ... 337.5 343.1 348.8 354.4\n",
       "   * lat      (lat) float64 -87.19 -81.56 -75.94 -70.31 ... 75.94 81.56 87.19\n",
       "   * level    (level) int32 500\n",
       "   * time     (time) datetime64[ns] 2015-01-01 ... 2015-12-31T23:00:00\n",
       " Attributes:\n",
       "     units:          m**2 s**-2\n",
       "     long_name:      Geopotential\n",
       "     standard_name:  geopotential}"
      ]
     },
     "execution_count": 33,
     "metadata": {},
     "output_type": "execute_result"
    }
   ],
   "source": [
    "data_dict"
   ]
  },
  {
   "cell_type": "code",
   "execution_count": 23,
   "id": "276e323c-0422-4628-a5fb-9dd9520e53ae",
   "metadata": {},
   "outputs": [
    {
     "ename": "KeyError",
     "evalue": "'geopotential'",
     "output_type": "error",
     "traceback": [
      "\u001b[0;31m---------------------------------------------------------------------------\u001b[0m",
      "\u001b[0;31mKeyError\u001b[0m                                  Traceback (most recent call last)",
      "Cell \u001b[0;32mIn[23], line 1\u001b[0m\n\u001b[0;32m----> 1\u001b[0m inp_data \u001b[38;5;241m=\u001b[39m xr\u001b[38;5;241m.\u001b[39mconcat([data_dict[k] \u001b[38;5;28;01mfor\u001b[39;00m k \u001b[38;5;129;01min\u001b[39;00m in_vars], dim\u001b[38;5;241m=\u001b[39m\u001b[38;5;124m\"\u001b[39m\u001b[38;5;124mlevel\u001b[39m\u001b[38;5;124m\"\u001b[39m)\n",
      "Cell \u001b[0;32mIn[23], line 1\u001b[0m, in \u001b[0;36m<listcomp>\u001b[0;34m(.0)\u001b[0m\n\u001b[0;32m----> 1\u001b[0m inp_data \u001b[38;5;241m=\u001b[39m xr\u001b[38;5;241m.\u001b[39mconcat([\u001b[43mdata_dict\u001b[49m\u001b[43m[\u001b[49m\u001b[43mk\u001b[49m\u001b[43m]\u001b[49m \u001b[38;5;28;01mfor\u001b[39;00m k \u001b[38;5;129;01min\u001b[39;00m in_vars], dim\u001b[38;5;241m=\u001b[39m\u001b[38;5;124m\"\u001b[39m\u001b[38;5;124mlevel\u001b[39m\u001b[38;5;124m\"\u001b[39m)\n",
      "\u001b[0;31mKeyError\u001b[0m: 'geopotential'"
     ]
    }
   ],
   "source": [
    "inp_data = xr.concat([data_dict[k] for k in in_vars], dim=\"level\")\n",
    "#out_data = xr.concat([data_dict[k] for k in out_vars], dim=\"level\")"
   ]
  },
  {
   "cell_type": "code",
   "execution_count": 102,
   "id": "a990e724-2ceb-4fa5-95f0-1cbc6c9b672c",
   "metadata": {},
   "outputs": [],
   "source": [
    "from tqdm import tqdm\n",
    "from torch.utils.data import Dataset\n",
    "from torchvision.transforms import transforms"
   ]
  },
  {
   "cell_type": "code",
   "execution_count": 105,
   "id": "520efbee-7929-43bc-a28d-d162f6ffe425",
   "metadata": {},
   "outputs": [],
   "source": [
    "from climate_learn.utils.datetime import Year, Hours"
   ]
  },
  {
   "cell_type": "code",
   "execution_count": 17,
   "id": "ccdc3434-c34f-49af-937a-224fb9ef1dbf",
   "metadata": {},
   "outputs": [],
   "source": [
    "# Third party\n",
    "import torch\n",
    "from torch.utils.data import DataLoader\n",
    "from pytorch_lightning import LightningDataModule\n",
    "\n",
    "# TODO: include exceptions in docstrings\n",
    "# TODO: document legal input/output variables for each dataset\n",
    "\n",
    "\n",
    "def collate_fn(batch):\n",
    "    r\"\"\"Collate function for DataLoaders.\n",
    "    :param batch: A batch of data samples.\n",
    "    :type batch: List[Tuple[torch.Tensor, torch.Tensor, List[str], List[str]]]\n",
    "    :return: A tuple of `input`, `output`, `variables`, and `out_variables`.\n",
    "    :rtype: Tuple[torch.Tensor, torch.Tensor, List[str], List[str]]\n",
    "    \"\"\"\n",
    "    inp = torch.stack([batch[i][0] for i in range(len(batch))])\n",
    "    out = torch.stack([batch[i][1] for i in range(len(batch))])\n",
    "    variables = batch[0][2]\n",
    "    out_variables = batch[0][3]\n",
    "    return inp, out, variables, out_variables\n",
    "\n",
    "\n",
    "class DataModule(LightningDataModule):\n",
    "    \"\"\"ClimateLearn's data module interface. Encapsulates dataset/task-specific\n",
    "    data modules.\"\"\"\n",
    "\n",
    "    def __init__(\n",
    "        self,\n",
    "        dataset,\n",
    "        task,\n",
    "        root_dir,\n",
    "        in_vars,\n",
    "        out_vars,\n",
    "        train_start_year,\n",
    "        val_start_year,\n",
    "        test_start_year,\n",
    "        end_year=Year(2018),\n",
    "        root_highres_dir=None,\n",
    "        history: int = 1,\n",
    "        window: int = 6,\n",
    "        pred_range=Hours(6),\n",
    "        subsample=Hours(1),\n",
    "        batch_size=64,\n",
    "        num_workers=0,\n",
    "        pin_memory=False,\n",
    "    ):\n",
    "        r\"\"\"\n",
    "        .. highlight:: python\n",
    "        :param dataset: The name of the dataset to use. Currently supported\n",
    "            options are: \"ERA5\".\n",
    "        :type dataset: str\n",
    "        :param task: The name of the task to use. Currently supported options\n",
    "            are: \"forecasting\", \"downscaling\".\n",
    "        :type task: str\n",
    "        :param root_dir: The name of the local directory containing the\n",
    "            specified dataset.\n",
    "        :type root_dir: str\n",
    "        :param in_vars: A list of input variables to use.\n",
    "        :type in_vars: List[str]\n",
    "        :param out_vars: A list of output variables to use.\n",
    "        :type out_vars: List[str]\n",
    "        :param train_start_year: The first year of the training set, inclusive.\n",
    "        :type train_start_year: Year\n",
    "        :param val_start_year: The first year of the validation set, inclusive.\n",
    "            :python:`val_start_year` must be at least\n",
    "            :python:`train_start_year+1` since the training set ends the year\n",
    "            before :python:`val_start_year`. E.g., if\n",
    "            :python:`train_start_year` is 1970, then\n",
    "            :python:`val_start_year` must be 1971 or later.\n",
    "        :type val_start_year: Year\n",
    "        :param test_start_year: The first year of the testing set, inclusive.\n",
    "            :python:`test_start_year` must be at least\n",
    "            :python:`val_start_year+1` since the validation set ends the year\n",
    "            before :python:`test_start_year`. E.g., if\n",
    "            :python:`val_start_year` is 2015, then\n",
    "            :python:`test_start_year` must be 2016 or later.\n",
    "        :type test_start_year: Year\n",
    "        :param end_year: The last year of the testing set, inclusive.\n",
    "            Default is :python:`Year(2018)`.\n",
    "        :type end_year: Year, optional\n",
    "        :param root_highres_dir: The name of the high-res data directory, which\n",
    "            is needed for downsclaing task. Default is `None`.\n",
    "        :type root_highres_dir: str, optional\n",
    "        \"\"\"\n",
    "        super().__init__()\n",
    "\n",
    "        assert (\n",
    "            end_year >= test_start_year\n",
    "            and test_start_year > val_start_year\n",
    "            and val_start_year > train_start_year\n",
    "        )\n",
    "        self.save_hyperparameters(logger=False)\n",
    "\n",
    "        if dataset != \"ERA5\":\n",
    "            raise NotImplementedError(\"Only support ERA5\")\n",
    "        if task == \"downscaling\" and root_highres_dir is None:\n",
    "            raise NotImplementedError(\n",
    "                \"High-resolution data has to be provided for downscaling\"\n",
    "            )\n",
    "\n",
    "        task_string = \"Forecasting\" if task == \"forecasting\" else \"Downscaling\"\n",
    "        caller = eval(f\"{dataset.upper()}{task_string}\")\n",
    "\n",
    "        train_years = range(train_start_year, val_start_year)\n",
    "        self.train_dataset = caller(\n",
    "            root_dir,\n",
    "            root_highres_dir,\n",
    "            in_vars,\n",
    "            out_vars,\n",
    "            history,\n",
    "            window,\n",
    "            pred_range.hours(),\n",
    "            train_years,\n",
    "            subsample.hours(),\n",
    "            \"train\",\n",
    "        )\n",
    "\n",
    "        val_years = range(val_start_year, test_start_year)\n",
    "        self.val_dataset = caller(\n",
    "            root_dir,\n",
    "            root_highres_dir,\n",
    "            in_vars,\n",
    "            out_vars,\n",
    "            history,\n",
    "            window,\n",
    "            pred_range.hours(),\n",
    "            val_years,\n",
    "            subsample.hours(),\n",
    "            \"val\",\n",
    "        )\n",
    "        self.val_dataset.set_normalize(\n",
    "            self.train_dataset.inp_transform,\n",
    "            self.train_dataset.out_transform,\n",
    "            self.train_dataset.constant_transform,\n",
    "        )\n",
    "\n",
    "        test_years = range(test_start_year, end_year + 1)\n",
    "        self.test_dataset = caller(\n",
    "            root_dir,\n",
    "            root_highres_dir,\n",
    "            in_vars,\n",
    "            out_vars,\n",
    "            history,\n",
    "            window,\n",
    "            pred_range.hours(),\n",
    "            test_years,\n",
    "            subsample.hours(),\n",
    "            \"test\",\n",
    "        )\n",
    "        self.test_dataset.set_normalize(\n",
    "            self.train_dataset.inp_transform,\n",
    "            self.train_dataset.out_transform,\n",
    "            self.train_dataset.constant_transform,\n",
    "        )\n",
    "\n",
    "    def get_lat_lon(self):\n",
    "        return self.train_dataset.lat, self.train_dataset.lon\n",
    "\n",
    "    def get_out_transforms(self):\n",
    "        return self.train_dataset.out_transform\n",
    "\n",
    "    def get_climatology(self, split=\"val\"):\n",
    "        if split == \"train\":\n",
    "            return self.train_dataset.get_climatology()\n",
    "        elif split == \"val\":\n",
    "            return self.val_dataset.get_climatology()\n",
    "        elif split == \"test\":\n",
    "            return self.test_dataset.get_climatology()\n",
    "        else:\n",
    "            raise NotImplementedError\n",
    "\n",
    "    def train_dataloader(self):\n",
    "        return DataLoader(\n",
    "            self.train_dataset,\n",
    "            shuffle=True,\n",
    "            batch_size=self.hparams.batch_size,\n",
    "            num_workers=self.hparams.num_workers,\n",
    "            pin_memory=self.hparams.pin_memory,\n",
    "            collate_fn=collate_fn,\n",
    "        )\n",
    "\n",
    "    def val_dataloader(self):\n",
    "        return DataLoader(\n",
    "            self.val_dataset,\n",
    "            shuffle=False,\n",
    "            batch_size=self.hparams.batch_size,\n",
    "            num_workers=self.hparams.num_workers,\n",
    "            pin_memory=self.hparams.pin_memory,\n",
    "            collate_fn=collate_fn,\n",
    "        )\n",
    "\n",
    "    def test_dataloader(self):\n",
    "        return DataLoader(\n",
    "            self.test_dataset,\n",
    "            shuffle=False,\n",
    "            batch_size=self.hparams.batch_size,\n",
    "            num_workers=self.hparams.num_workers,\n",
    "            pin_memory=self.hparams.pin_memory,\n",
    "            collate_fn=collate_fn,\n",
    "        )"
   ]
  },
  {
   "cell_type": "code",
   "execution_count": 84,
   "id": "254639bd-0cab-4d92-bd74-58ce97f7611b",
   "metadata": {},
   "outputs": [],
   "source": [
    "class ERA5(Dataset):\n",
    "    def __init__(self, root_dir, root_highres_dir, variables, years, split=\"train\"):\n",
    "        super().__init__()\n",
    "        self.root_dir = root_dir\n",
    "        self.root_highres_dir = root_highres_dir\n",
    "        self.variables = variables\n",
    "        self.years = years\n",
    "        self.split = split\n",
    "\n",
    "        self.data_dict = self.load_from_nc(self.root_dir)\n",
    "       \n",
    "        \n",
    "        if self.root_highres_dir is not None:\n",
    "            self.data_highres_dict = self.load_from_nc(self.root_highres_dir)\n",
    "\n",
    "        self.get_lat_lon()\n",
    "      \n",
    "       \n",
    "    def load_from_nc(self, data_dir):\n",
    "        #print(data_dir)\n",
    "        #print(self.variables)\n",
    "        #print(CONSTANTS)\n",
    "        \n",
    "        constant_names = [\n",
    "            name for name in self.variables if NAME_TO_VAR[name] in CONSTANTS\n",
    "        ]\n",
    "        self.constants = {}\n",
    "        if len(constant_names) > 0:\n",
    "            ps = glob.glob(os.path.join(data_dir, \"constants\", \"*.nc\"))\n",
    "            all_constants = xr.open_mfdataset(ps, combine=\"by_coords\")\n",
    "            for name in constant_names:\n",
    "                self.constants[name] = all_constants[NAME_TO_VAR[name]]\n",
    "\n",
    "        non_const_names = [\n",
    "            name for name in self.variables if name not in constant_names\n",
    "        ]\n",
    "        data_dict = {}\n",
    "        for name in non_const_names:\n",
    "            if name in SINGLE_LEVEL_VARS:\n",
    "                data_dict[name] = []\n",
    "            elif name in PRESSURE_LEVEL_VARS:\n",
    "                for level in DEFAULT_PRESSURE_LEVELS:\n",
    "                    data_dict[f\"{name}_{level}\"] = []\n",
    "            else:\n",
    "                raise NotImplementedError(\n",
    "                    f\"{name} is not either in single-level or pressure-level dict\"\n",
    "                )\n",
    "\n",
    "        for year in tqdm(self.years):\n",
    "            for var in non_const_names:\n",
    "                \n",
    "                dir_var = os.path.join(data_dir, var)\n",
    "                ps = glob.glob(os.path.join(dir_var, f\"*{year}*.nc\"))\n",
    "                \n",
    "                print(dir_var)\n",
    "                print(ps)\n",
    "                print(data_dict)\n",
    "                \n",
    "                xr_data = xr.open_mfdataset(ps, combine=\"by_coords\")\n",
    "                #print(xr_data)\n",
    "                data_dict[var]\n",
    "                xr_data = xr_data[NAME_TO_VAR[var]]\n",
    "                # np_data = xr_data.to_numpy()\n",
    "                if len(xr_data.shape) == 3:  # 8760, 32, 64\n",
    "                    xr_data = xr_data.expand_dims(dim=\"level\", axis=1)\n",
    "                    data_dict[var].append(xr_data)\n",
    "                else:  # pressure level\n",
    "                    for level in DEFAULT_PRESSURE_LEVELS:\n",
    "                        xr_data_level = xr_data.sel(level=[level])\n",
    "                        data_dict[f\"{var}_{level}\"].append(xr_data_level)\n",
    "\n",
    "        data_dict = {k: xr.concat(data_dict[k], dim=\"time\") for k in data_dict.keys()}\n",
    "        # precipitation and solar radiation miss a few data points in the beginning\n",
    "        len_min = min([data_dict[k].shape[0] for k in data_dict.keys()])\n",
    "        data_dict = {k: data_dict[k][-len_min:] for k in data_dict.keys()}\n",
    "\n",
    "        return data_dict\n",
    "\n",
    "    def get_lat_lon(self):\n",
    "        # lat lon is stored in each of the nc files, just need to load one and extract\n",
    "        dir_var = os.path.join(self.root_dir, self.variables[0])\n",
    "        year = self.years[0]\n",
    "        ps = glob.glob(os.path.join(dir_var, f\"*{year}*.nc\"))\n",
    "        xr_data = xr.open_mfdataset(ps, combine=\"by_coords\")\n",
    "        self.lat = xr_data[\"lat\"].to_numpy()\n",
    "        self.lon = xr_data[\"lon\"].to_numpy()\n",
    "\n",
    "    def __getitem__(self, index):\n",
    "        pass\n",
    "\n",
    "    def __len__(self):\n",
    "        pass\n",
    "\n"
   ]
  },
  {
   "cell_type": "code",
   "execution_count": 94,
   "id": "e22f1d18-d72b-4d4c-93fc-9988d9d5c140",
   "metadata": {},
   "outputs": [],
   "source": [
    "variables=[\"geopotential\"]"
   ]
  },
  {
   "cell_type": "code",
   "execution_count": 95,
   "id": "8b402a5d-9147-413f-9183-edc1af25b528",
   "metadata": {},
   "outputs": [
    {
     "data": {
      "text/plain": [
       "'geopotential'"
      ]
     },
     "execution_count": 95,
     "metadata": {},
     "output_type": "execute_result"
    }
   ],
   "source": [
    "VAR_TO_NAME['z']"
   ]
  },
  {
   "cell_type": "code",
   "execution_count": 96,
   "id": "3b850d6f-ac25-45a1-851c-ee6d6e87f601",
   "metadata": {},
   "outputs": [],
   "source": [
    "constant_names = [name for name in variables if NAME_TO_VAR[name] in CONSTANTS]\n",
    "        "
   ]
  },
  {
   "cell_type": "code",
   "execution_count": 98,
   "id": "9c3528c0-94a9-4026-ad4f-37df127c9620",
   "metadata": {},
   "outputs": [
    {
     "name": "stderr",
     "output_type": "stream",
     "text": [
      "  0%|          | 0/2 [00:00<?, ?it/s]\n"
     ]
    },
    {
     "name": "stdout",
     "output_type": "stream",
     "text": [
      "/storage/homefs/no21h426/WeatherBench-master/data/WeatherBench/5.625deg/geopotential\n",
      "['/storage/homefs/no21h426/WeatherBench-master/data/WeatherBench/5.625deg/geopotential/geopotential_500hPa_2015_5.625deg.nc']\n",
      "{'geopotential_50': [], 'geopotential_250': [], 'geopotential_500': [], 'geopotential_600': [], 'geopotential_700': [], 'geopotential_850': [], 'geopotential_925': []}\n"
     ]
    },
    {
     "ename": "FileNotFoundError",
     "evalue": "[Errno 2] No such file or directory: b'/storage/homefs/no21h426/WeatherBench-master/data/WeatherBench/5.625deg/geopotential/geopotential_500hPa_2015_5.625deg.nc'",
     "output_type": "error",
     "traceback": [
      "\u001b[0;31m---------------------------------------------------------------------------\u001b[0m",
      "\u001b[0;31mKeyError\u001b[0m                                  Traceback (most recent call last)",
      "File \u001b[0;32m~/.conda/envs/pyTT/lib/python3.10/site-packages/xarray/backends/file_manager.py:209\u001b[0m, in \u001b[0;36mCachingFileManager._acquire_with_cache_info\u001b[0;34m(self, needs_lock)\u001b[0m\n\u001b[1;32m    208\u001b[0m \u001b[38;5;28;01mtry\u001b[39;00m:\n\u001b[0;32m--> 209\u001b[0m     file \u001b[38;5;241m=\u001b[39m \u001b[38;5;28;43mself\u001b[39;49m\u001b[38;5;241;43m.\u001b[39;49m\u001b[43m_cache\u001b[49m\u001b[43m[\u001b[49m\u001b[38;5;28;43mself\u001b[39;49m\u001b[38;5;241;43m.\u001b[39;49m\u001b[43m_key\u001b[49m\u001b[43m]\u001b[49m\n\u001b[1;32m    210\u001b[0m \u001b[38;5;28;01mexcept\u001b[39;00m \u001b[38;5;167;01mKeyError\u001b[39;00m:\n",
      "File \u001b[0;32m~/.conda/envs/pyTT/lib/python3.10/site-packages/xarray/backends/lru_cache.py:55\u001b[0m, in \u001b[0;36mLRUCache.__getitem__\u001b[0;34m(self, key)\u001b[0m\n\u001b[1;32m     54\u001b[0m \u001b[38;5;28;01mwith\u001b[39;00m \u001b[38;5;28mself\u001b[39m\u001b[38;5;241m.\u001b[39m_lock:\n\u001b[0;32m---> 55\u001b[0m     value \u001b[38;5;241m=\u001b[39m \u001b[38;5;28;43mself\u001b[39;49m\u001b[38;5;241;43m.\u001b[39;49m\u001b[43m_cache\u001b[49m\u001b[43m[\u001b[49m\u001b[43mkey\u001b[49m\u001b[43m]\u001b[49m\n\u001b[1;32m     56\u001b[0m     \u001b[38;5;28mself\u001b[39m\u001b[38;5;241m.\u001b[39m_cache\u001b[38;5;241m.\u001b[39mmove_to_end(key)\n",
      "\u001b[0;31mKeyError\u001b[0m: [<class 'netCDF4._netCDF4.Dataset'>, ('/storage/homefs/no21h426/WeatherBench-master/data/WeatherBench/5.625deg/geopotential/geopotential_500hPa_2015_5.625deg.nc',), 'r', (('clobber', True), ('diskless', False), ('format', 'NETCDF4'), ('persist', False)), '9d9b07cb-45d6-434d-9d84-016159142a83']",
      "\nDuring handling of the above exception, another exception occurred:\n",
      "\u001b[0;31mFileNotFoundError\u001b[0m                         Traceback (most recent call last)",
      "Cell \u001b[0;32mIn[98], line 1\u001b[0m\n\u001b[0;32m----> 1\u001b[0m test \u001b[38;5;241m=\u001b[39m \u001b[43mERA5\u001b[49m\u001b[43m(\u001b[49m\u001b[43mDATADIR\u001b[49m\u001b[43m,\u001b[49m\u001b[43m \u001b[49m\u001b[38;5;28;43;01mNone\u001b[39;49;00m\u001b[43m,\u001b[49m\u001b[43m[\u001b[49m\u001b[38;5;124;43m\"\u001b[39;49m\u001b[38;5;124;43mgeopotential\u001b[39;49m\u001b[38;5;124;43m\"\u001b[39;49m\u001b[43m]\u001b[49m\u001b[43m,\u001b[49m\u001b[43m \u001b[49m\u001b[43m[\u001b[49m\u001b[43mYear\u001b[49m\u001b[43m(\u001b[49m\u001b[38;5;241;43m2015\u001b[39;49m\u001b[43m)\u001b[49m\u001b[43m,\u001b[49m\u001b[43mYear\u001b[49m\u001b[43m(\u001b[49m\u001b[38;5;241;43m2018\u001b[39;49m\u001b[43m)\u001b[49m\u001b[43m]\u001b[49m\u001b[43m)\u001b[49m\n",
      "Cell \u001b[0;32mIn[84], line 10\u001b[0m, in \u001b[0;36mERA5.__init__\u001b[0;34m(self, root_dir, root_highres_dir, variables, years, split)\u001b[0m\n\u001b[1;32m      7\u001b[0m \u001b[38;5;28mself\u001b[39m\u001b[38;5;241m.\u001b[39myears \u001b[38;5;241m=\u001b[39m years\n\u001b[1;32m      8\u001b[0m \u001b[38;5;28mself\u001b[39m\u001b[38;5;241m.\u001b[39msplit \u001b[38;5;241m=\u001b[39m split\n\u001b[0;32m---> 10\u001b[0m \u001b[38;5;28mself\u001b[39m\u001b[38;5;241m.\u001b[39mdata_dict \u001b[38;5;241m=\u001b[39m \u001b[38;5;28;43mself\u001b[39;49m\u001b[38;5;241;43m.\u001b[39;49m\u001b[43mload_from_nc\u001b[49m\u001b[43m(\u001b[49m\u001b[38;5;28;43mself\u001b[39;49m\u001b[38;5;241;43m.\u001b[39;49m\u001b[43mroot_dir\u001b[49m\u001b[43m)\u001b[49m\n\u001b[1;32m     13\u001b[0m \u001b[38;5;28;01mif\u001b[39;00m \u001b[38;5;28mself\u001b[39m\u001b[38;5;241m.\u001b[39mroot_highres_dir \u001b[38;5;129;01mis\u001b[39;00m \u001b[38;5;129;01mnot\u001b[39;00m \u001b[38;5;28;01mNone\u001b[39;00m:\n\u001b[1;32m     14\u001b[0m     \u001b[38;5;28mself\u001b[39m\u001b[38;5;241m.\u001b[39mdata_highres_dict \u001b[38;5;241m=\u001b[39m \u001b[38;5;28mself\u001b[39m\u001b[38;5;241m.\u001b[39mload_from_nc(\u001b[38;5;28mself\u001b[39m\u001b[38;5;241m.\u001b[39mroot_highres_dir)\n",
      "Cell \u001b[0;32mIn[84], line 59\u001b[0m, in \u001b[0;36mERA5.load_from_nc\u001b[0;34m(self, data_dir)\u001b[0m\n\u001b[1;32m     56\u001b[0m \u001b[38;5;28mprint\u001b[39m(ps)\n\u001b[1;32m     57\u001b[0m \u001b[38;5;28mprint\u001b[39m(data_dict)\n\u001b[0;32m---> 59\u001b[0m xr_data \u001b[38;5;241m=\u001b[39m \u001b[43mxr\u001b[49m\u001b[38;5;241;43m.\u001b[39;49m\u001b[43mopen_mfdataset\u001b[49m\u001b[43m(\u001b[49m\u001b[43mps\u001b[49m\u001b[43m,\u001b[49m\u001b[43m \u001b[49m\u001b[43mcombine\u001b[49m\u001b[38;5;241;43m=\u001b[39;49m\u001b[38;5;124;43m\"\u001b[39;49m\u001b[38;5;124;43mby_coords\u001b[39;49m\u001b[38;5;124;43m\"\u001b[39;49m\u001b[43m)\u001b[49m\n\u001b[1;32m     60\u001b[0m \u001b[38;5;66;03m#print(xr_data)\u001b[39;00m\n\u001b[1;32m     61\u001b[0m data_dict[var]\n",
      "File \u001b[0;32m~/.conda/envs/pyTT/lib/python3.10/site-packages/xarray/backends/api.py:998\u001b[0m, in \u001b[0;36mopen_mfdataset\u001b[0;34m(paths, chunks, concat_dim, compat, preprocess, engine, data_vars, coords, combine, parallel, join, attrs_file, combine_attrs, **kwargs)\u001b[0m\n\u001b[1;32m    995\u001b[0m     open_ \u001b[38;5;241m=\u001b[39m open_dataset\n\u001b[1;32m    996\u001b[0m     getattr_ \u001b[38;5;241m=\u001b[39m \u001b[38;5;28mgetattr\u001b[39m\n\u001b[0;32m--> 998\u001b[0m datasets \u001b[38;5;241m=\u001b[39m [open_(p, \u001b[38;5;241m*\u001b[39m\u001b[38;5;241m*\u001b[39mopen_kwargs) \u001b[38;5;28;01mfor\u001b[39;00m p \u001b[38;5;129;01min\u001b[39;00m paths]\n\u001b[1;32m    999\u001b[0m closers \u001b[38;5;241m=\u001b[39m [getattr_(ds, \u001b[38;5;124m\"\u001b[39m\u001b[38;5;124m_close\u001b[39m\u001b[38;5;124m\"\u001b[39m) \u001b[38;5;28;01mfor\u001b[39;00m ds \u001b[38;5;129;01min\u001b[39;00m datasets]\n\u001b[1;32m   1000\u001b[0m \u001b[38;5;28;01mif\u001b[39;00m preprocess \u001b[38;5;129;01mis\u001b[39;00m \u001b[38;5;129;01mnot\u001b[39;00m \u001b[38;5;28;01mNone\u001b[39;00m:\n",
      "File \u001b[0;32m~/.conda/envs/pyTT/lib/python3.10/site-packages/xarray/backends/api.py:998\u001b[0m, in \u001b[0;36m<listcomp>\u001b[0;34m(.0)\u001b[0m\n\u001b[1;32m    995\u001b[0m     open_ \u001b[38;5;241m=\u001b[39m open_dataset\n\u001b[1;32m    996\u001b[0m     getattr_ \u001b[38;5;241m=\u001b[39m \u001b[38;5;28mgetattr\u001b[39m\n\u001b[0;32m--> 998\u001b[0m datasets \u001b[38;5;241m=\u001b[39m [\u001b[43mopen_\u001b[49m\u001b[43m(\u001b[49m\u001b[43mp\u001b[49m\u001b[43m,\u001b[49m\u001b[43m \u001b[49m\u001b[38;5;241;43m*\u001b[39;49m\u001b[38;5;241;43m*\u001b[39;49m\u001b[43mopen_kwargs\u001b[49m\u001b[43m)\u001b[49m \u001b[38;5;28;01mfor\u001b[39;00m p \u001b[38;5;129;01min\u001b[39;00m paths]\n\u001b[1;32m    999\u001b[0m closers \u001b[38;5;241m=\u001b[39m [getattr_(ds, \u001b[38;5;124m\"\u001b[39m\u001b[38;5;124m_close\u001b[39m\u001b[38;5;124m\"\u001b[39m) \u001b[38;5;28;01mfor\u001b[39;00m ds \u001b[38;5;129;01min\u001b[39;00m datasets]\n\u001b[1;32m   1000\u001b[0m \u001b[38;5;28;01mif\u001b[39;00m preprocess \u001b[38;5;129;01mis\u001b[39;00m \u001b[38;5;129;01mnot\u001b[39;00m \u001b[38;5;28;01mNone\u001b[39;00m:\n",
      "File \u001b[0;32m~/.conda/envs/pyTT/lib/python3.10/site-packages/xarray/backends/api.py:541\u001b[0m, in \u001b[0;36mopen_dataset\u001b[0;34m(filename_or_obj, engine, chunks, cache, decode_cf, mask_and_scale, decode_times, decode_timedelta, use_cftime, concat_characters, decode_coords, drop_variables, inline_array, backend_kwargs, **kwargs)\u001b[0m\n\u001b[1;32m    529\u001b[0m decoders \u001b[38;5;241m=\u001b[39m _resolve_decoders_kwargs(\n\u001b[1;32m    530\u001b[0m     decode_cf,\n\u001b[1;32m    531\u001b[0m     open_backend_dataset_parameters\u001b[38;5;241m=\u001b[39mbackend\u001b[38;5;241m.\u001b[39mopen_dataset_parameters,\n\u001b[0;32m   (...)\u001b[0m\n\u001b[1;32m    537\u001b[0m     decode_coords\u001b[38;5;241m=\u001b[39mdecode_coords,\n\u001b[1;32m    538\u001b[0m )\n\u001b[1;32m    540\u001b[0m overwrite_encoded_chunks \u001b[38;5;241m=\u001b[39m kwargs\u001b[38;5;241m.\u001b[39mpop(\u001b[38;5;124m\"\u001b[39m\u001b[38;5;124moverwrite_encoded_chunks\u001b[39m\u001b[38;5;124m\"\u001b[39m, \u001b[38;5;28;01mNone\u001b[39;00m)\n\u001b[0;32m--> 541\u001b[0m backend_ds \u001b[38;5;241m=\u001b[39m \u001b[43mbackend\u001b[49m\u001b[38;5;241;43m.\u001b[39;49m\u001b[43mopen_dataset\u001b[49m\u001b[43m(\u001b[49m\n\u001b[1;32m    542\u001b[0m \u001b[43m    \u001b[49m\u001b[43mfilename_or_obj\u001b[49m\u001b[43m,\u001b[49m\n\u001b[1;32m    543\u001b[0m \u001b[43m    \u001b[49m\u001b[43mdrop_variables\u001b[49m\u001b[38;5;241;43m=\u001b[39;49m\u001b[43mdrop_variables\u001b[49m\u001b[43m,\u001b[49m\n\u001b[1;32m    544\u001b[0m \u001b[43m    \u001b[49m\u001b[38;5;241;43m*\u001b[39;49m\u001b[38;5;241;43m*\u001b[39;49m\u001b[43mdecoders\u001b[49m\u001b[43m,\u001b[49m\n\u001b[1;32m    545\u001b[0m \u001b[43m    \u001b[49m\u001b[38;5;241;43m*\u001b[39;49m\u001b[38;5;241;43m*\u001b[39;49m\u001b[43mkwargs\u001b[49m\u001b[43m,\u001b[49m\n\u001b[1;32m    546\u001b[0m \u001b[43m\u001b[49m\u001b[43m)\u001b[49m\n\u001b[1;32m    547\u001b[0m ds \u001b[38;5;241m=\u001b[39m _dataset_from_backend_dataset(\n\u001b[1;32m    548\u001b[0m     backend_ds,\n\u001b[1;32m    549\u001b[0m     filename_or_obj,\n\u001b[0;32m   (...)\u001b[0m\n\u001b[1;32m    557\u001b[0m     \u001b[38;5;241m*\u001b[39m\u001b[38;5;241m*\u001b[39mkwargs,\n\u001b[1;32m    558\u001b[0m )\n\u001b[1;32m    559\u001b[0m \u001b[38;5;28;01mreturn\u001b[39;00m ds\n",
      "File \u001b[0;32m~/.conda/envs/pyTT/lib/python3.10/site-packages/xarray/backends/netCDF4_.py:578\u001b[0m, in \u001b[0;36mNetCDF4BackendEntrypoint.open_dataset\u001b[0;34m(self, filename_or_obj, mask_and_scale, decode_times, concat_characters, decode_coords, drop_variables, use_cftime, decode_timedelta, group, mode, format, clobber, diskless, persist, lock, autoclose)\u001b[0m\n\u001b[1;32m    557\u001b[0m \u001b[38;5;28;01mdef\u001b[39;00m \u001b[38;5;21mopen_dataset\u001b[39m(\n\u001b[1;32m    558\u001b[0m     \u001b[38;5;28mself\u001b[39m,\n\u001b[1;32m    559\u001b[0m     filename_or_obj,\n\u001b[0;32m   (...)\u001b[0m\n\u001b[1;32m    574\u001b[0m     autoclose\u001b[38;5;241m=\u001b[39m\u001b[38;5;28;01mFalse\u001b[39;00m,\n\u001b[1;32m    575\u001b[0m ):\n\u001b[1;32m    577\u001b[0m     filename_or_obj \u001b[38;5;241m=\u001b[39m _normalize_path(filename_or_obj)\n\u001b[0;32m--> 578\u001b[0m     store \u001b[38;5;241m=\u001b[39m \u001b[43mNetCDF4DataStore\u001b[49m\u001b[38;5;241;43m.\u001b[39;49m\u001b[43mopen\u001b[49m\u001b[43m(\u001b[49m\n\u001b[1;32m    579\u001b[0m \u001b[43m        \u001b[49m\u001b[43mfilename_or_obj\u001b[49m\u001b[43m,\u001b[49m\n\u001b[1;32m    580\u001b[0m \u001b[43m        \u001b[49m\u001b[43mmode\u001b[49m\u001b[38;5;241;43m=\u001b[39;49m\u001b[43mmode\u001b[49m\u001b[43m,\u001b[49m\n\u001b[1;32m    581\u001b[0m \u001b[43m        \u001b[49m\u001b[38;5;28;43mformat\u001b[39;49m\u001b[38;5;241;43m=\u001b[39;49m\u001b[38;5;28;43mformat\u001b[39;49m\u001b[43m,\u001b[49m\n\u001b[1;32m    582\u001b[0m \u001b[43m        \u001b[49m\u001b[43mgroup\u001b[49m\u001b[38;5;241;43m=\u001b[39;49m\u001b[43mgroup\u001b[49m\u001b[43m,\u001b[49m\n\u001b[1;32m    583\u001b[0m \u001b[43m        \u001b[49m\u001b[43mclobber\u001b[49m\u001b[38;5;241;43m=\u001b[39;49m\u001b[43mclobber\u001b[49m\u001b[43m,\u001b[49m\n\u001b[1;32m    584\u001b[0m \u001b[43m        \u001b[49m\u001b[43mdiskless\u001b[49m\u001b[38;5;241;43m=\u001b[39;49m\u001b[43mdiskless\u001b[49m\u001b[43m,\u001b[49m\n\u001b[1;32m    585\u001b[0m \u001b[43m        \u001b[49m\u001b[43mpersist\u001b[49m\u001b[38;5;241;43m=\u001b[39;49m\u001b[43mpersist\u001b[49m\u001b[43m,\u001b[49m\n\u001b[1;32m    586\u001b[0m \u001b[43m        \u001b[49m\u001b[43mlock\u001b[49m\u001b[38;5;241;43m=\u001b[39;49m\u001b[43mlock\u001b[49m\u001b[43m,\u001b[49m\n\u001b[1;32m    587\u001b[0m \u001b[43m        \u001b[49m\u001b[43mautoclose\u001b[49m\u001b[38;5;241;43m=\u001b[39;49m\u001b[43mautoclose\u001b[49m\u001b[43m,\u001b[49m\n\u001b[1;32m    588\u001b[0m \u001b[43m    \u001b[49m\u001b[43m)\u001b[49m\n\u001b[1;32m    590\u001b[0m     store_entrypoint \u001b[38;5;241m=\u001b[39m StoreBackendEntrypoint()\n\u001b[1;32m    591\u001b[0m     \u001b[38;5;28;01mwith\u001b[39;00m close_on_error(store):\n",
      "File \u001b[0;32m~/.conda/envs/pyTT/lib/python3.10/site-packages/xarray/backends/netCDF4_.py:382\u001b[0m, in \u001b[0;36mNetCDF4DataStore.open\u001b[0;34m(cls, filename, mode, format, group, clobber, diskless, persist, lock, lock_maker, autoclose)\u001b[0m\n\u001b[1;32m    376\u001b[0m kwargs \u001b[38;5;241m=\u001b[39m \u001b[38;5;28mdict\u001b[39m(\n\u001b[1;32m    377\u001b[0m     clobber\u001b[38;5;241m=\u001b[39mclobber, diskless\u001b[38;5;241m=\u001b[39mdiskless, persist\u001b[38;5;241m=\u001b[39mpersist, \u001b[38;5;28mformat\u001b[39m\u001b[38;5;241m=\u001b[39m\u001b[38;5;28mformat\u001b[39m\n\u001b[1;32m    378\u001b[0m )\n\u001b[1;32m    379\u001b[0m manager \u001b[38;5;241m=\u001b[39m CachingFileManager(\n\u001b[1;32m    380\u001b[0m     netCDF4\u001b[38;5;241m.\u001b[39mDataset, filename, mode\u001b[38;5;241m=\u001b[39mmode, kwargs\u001b[38;5;241m=\u001b[39mkwargs\n\u001b[1;32m    381\u001b[0m )\n\u001b[0;32m--> 382\u001b[0m \u001b[38;5;28;01mreturn\u001b[39;00m \u001b[38;5;28;43mcls\u001b[39;49m\u001b[43m(\u001b[49m\u001b[43mmanager\u001b[49m\u001b[43m,\u001b[49m\u001b[43m \u001b[49m\u001b[43mgroup\u001b[49m\u001b[38;5;241;43m=\u001b[39;49m\u001b[43mgroup\u001b[49m\u001b[43m,\u001b[49m\u001b[43m \u001b[49m\u001b[43mmode\u001b[49m\u001b[38;5;241;43m=\u001b[39;49m\u001b[43mmode\u001b[49m\u001b[43m,\u001b[49m\u001b[43m \u001b[49m\u001b[43mlock\u001b[49m\u001b[38;5;241;43m=\u001b[39;49m\u001b[43mlock\u001b[49m\u001b[43m,\u001b[49m\u001b[43m \u001b[49m\u001b[43mautoclose\u001b[49m\u001b[38;5;241;43m=\u001b[39;49m\u001b[43mautoclose\u001b[49m\u001b[43m)\u001b[49m\n",
      "File \u001b[0;32m~/.conda/envs/pyTT/lib/python3.10/site-packages/xarray/backends/netCDF4_.py:329\u001b[0m, in \u001b[0;36mNetCDF4DataStore.__init__\u001b[0;34m(self, manager, group, mode, lock, autoclose)\u001b[0m\n\u001b[1;32m    327\u001b[0m \u001b[38;5;28mself\u001b[39m\u001b[38;5;241m.\u001b[39m_group \u001b[38;5;241m=\u001b[39m group\n\u001b[1;32m    328\u001b[0m \u001b[38;5;28mself\u001b[39m\u001b[38;5;241m.\u001b[39m_mode \u001b[38;5;241m=\u001b[39m mode\n\u001b[0;32m--> 329\u001b[0m \u001b[38;5;28mself\u001b[39m\u001b[38;5;241m.\u001b[39mformat \u001b[38;5;241m=\u001b[39m \u001b[38;5;28;43mself\u001b[39;49m\u001b[38;5;241;43m.\u001b[39;49m\u001b[43mds\u001b[49m\u001b[38;5;241m.\u001b[39mdata_model\n\u001b[1;32m    330\u001b[0m \u001b[38;5;28mself\u001b[39m\u001b[38;5;241m.\u001b[39m_filename \u001b[38;5;241m=\u001b[39m \u001b[38;5;28mself\u001b[39m\u001b[38;5;241m.\u001b[39mds\u001b[38;5;241m.\u001b[39mfilepath()\n\u001b[1;32m    331\u001b[0m \u001b[38;5;28mself\u001b[39m\u001b[38;5;241m.\u001b[39mis_remote \u001b[38;5;241m=\u001b[39m is_remote_uri(\u001b[38;5;28mself\u001b[39m\u001b[38;5;241m.\u001b[39m_filename)\n",
      "File \u001b[0;32m~/.conda/envs/pyTT/lib/python3.10/site-packages/xarray/backends/netCDF4_.py:391\u001b[0m, in \u001b[0;36mNetCDF4DataStore.ds\u001b[0;34m(self)\u001b[0m\n\u001b[1;32m    389\u001b[0m \u001b[38;5;129m@property\u001b[39m\n\u001b[1;32m    390\u001b[0m \u001b[38;5;28;01mdef\u001b[39;00m \u001b[38;5;21mds\u001b[39m(\u001b[38;5;28mself\u001b[39m):\n\u001b[0;32m--> 391\u001b[0m     \u001b[38;5;28;01mreturn\u001b[39;00m \u001b[38;5;28;43mself\u001b[39;49m\u001b[38;5;241;43m.\u001b[39;49m\u001b[43m_acquire\u001b[49m\u001b[43m(\u001b[49m\u001b[43m)\u001b[49m\n",
      "File \u001b[0;32m~/.conda/envs/pyTT/lib/python3.10/site-packages/xarray/backends/netCDF4_.py:385\u001b[0m, in \u001b[0;36mNetCDF4DataStore._acquire\u001b[0;34m(self, needs_lock)\u001b[0m\n\u001b[1;32m    384\u001b[0m \u001b[38;5;28;01mdef\u001b[39;00m \u001b[38;5;21m_acquire\u001b[39m(\u001b[38;5;28mself\u001b[39m, needs_lock\u001b[38;5;241m=\u001b[39m\u001b[38;5;28;01mTrue\u001b[39;00m):\n\u001b[0;32m--> 385\u001b[0m     \u001b[38;5;28;01mwith\u001b[39;00m \u001b[38;5;28mself\u001b[39m\u001b[38;5;241m.\u001b[39m_manager\u001b[38;5;241m.\u001b[39macquire_context(needs_lock) \u001b[38;5;28;01mas\u001b[39;00m root:\n\u001b[1;32m    386\u001b[0m         ds \u001b[38;5;241m=\u001b[39m _nc4_require_group(root, \u001b[38;5;28mself\u001b[39m\u001b[38;5;241m.\u001b[39m_group, \u001b[38;5;28mself\u001b[39m\u001b[38;5;241m.\u001b[39m_mode)\n\u001b[1;32m    387\u001b[0m     \u001b[38;5;28;01mreturn\u001b[39;00m ds\n",
      "File \u001b[0;32m~/.conda/envs/pyTT/lib/python3.10/contextlib.py:135\u001b[0m, in \u001b[0;36m_GeneratorContextManager.__enter__\u001b[0;34m(self)\u001b[0m\n\u001b[1;32m    133\u001b[0m \u001b[38;5;28;01mdel\u001b[39;00m \u001b[38;5;28mself\u001b[39m\u001b[38;5;241m.\u001b[39margs, \u001b[38;5;28mself\u001b[39m\u001b[38;5;241m.\u001b[39mkwds, \u001b[38;5;28mself\u001b[39m\u001b[38;5;241m.\u001b[39mfunc\n\u001b[1;32m    134\u001b[0m \u001b[38;5;28;01mtry\u001b[39;00m:\n\u001b[0;32m--> 135\u001b[0m     \u001b[38;5;28;01mreturn\u001b[39;00m \u001b[38;5;28;43mnext\u001b[39;49m\u001b[43m(\u001b[49m\u001b[38;5;28;43mself\u001b[39;49m\u001b[38;5;241;43m.\u001b[39;49m\u001b[43mgen\u001b[49m\u001b[43m)\u001b[49m\n\u001b[1;32m    136\u001b[0m \u001b[38;5;28;01mexcept\u001b[39;00m \u001b[38;5;167;01mStopIteration\u001b[39;00m:\n\u001b[1;32m    137\u001b[0m     \u001b[38;5;28;01mraise\u001b[39;00m \u001b[38;5;167;01mRuntimeError\u001b[39;00m(\u001b[38;5;124m\"\u001b[39m\u001b[38;5;124mgenerator didn\u001b[39m\u001b[38;5;124m'\u001b[39m\u001b[38;5;124mt yield\u001b[39m\u001b[38;5;124m\"\u001b[39m) \u001b[38;5;28;01mfrom\u001b[39;00m \u001b[38;5;28mNone\u001b[39m\n",
      "File \u001b[0;32m~/.conda/envs/pyTT/lib/python3.10/site-packages/xarray/backends/file_manager.py:197\u001b[0m, in \u001b[0;36mCachingFileManager.acquire_context\u001b[0;34m(self, needs_lock)\u001b[0m\n\u001b[1;32m    194\u001b[0m \u001b[38;5;129m@contextlib\u001b[39m\u001b[38;5;241m.\u001b[39mcontextmanager\n\u001b[1;32m    195\u001b[0m \u001b[38;5;28;01mdef\u001b[39;00m \u001b[38;5;21macquire_context\u001b[39m(\u001b[38;5;28mself\u001b[39m, needs_lock\u001b[38;5;241m=\u001b[39m\u001b[38;5;28;01mTrue\u001b[39;00m):\n\u001b[1;32m    196\u001b[0m \u001b[38;5;250m    \u001b[39m\u001b[38;5;124;03m\"\"\"Context manager for acquiring a file.\"\"\"\u001b[39;00m\n\u001b[0;32m--> 197\u001b[0m     file, cached \u001b[38;5;241m=\u001b[39m \u001b[38;5;28;43mself\u001b[39;49m\u001b[38;5;241;43m.\u001b[39;49m\u001b[43m_acquire_with_cache_info\u001b[49m\u001b[43m(\u001b[49m\u001b[43mneeds_lock\u001b[49m\u001b[43m)\u001b[49m\n\u001b[1;32m    198\u001b[0m     \u001b[38;5;28;01mtry\u001b[39;00m:\n\u001b[1;32m    199\u001b[0m         \u001b[38;5;28;01myield\u001b[39;00m file\n",
      "File \u001b[0;32m~/.conda/envs/pyTT/lib/python3.10/site-packages/xarray/backends/file_manager.py:215\u001b[0m, in \u001b[0;36mCachingFileManager._acquire_with_cache_info\u001b[0;34m(self, needs_lock)\u001b[0m\n\u001b[1;32m    213\u001b[0m     kwargs \u001b[38;5;241m=\u001b[39m kwargs\u001b[38;5;241m.\u001b[39mcopy()\n\u001b[1;32m    214\u001b[0m     kwargs[\u001b[38;5;124m\"\u001b[39m\u001b[38;5;124mmode\u001b[39m\u001b[38;5;124m\"\u001b[39m] \u001b[38;5;241m=\u001b[39m \u001b[38;5;28mself\u001b[39m\u001b[38;5;241m.\u001b[39m_mode\n\u001b[0;32m--> 215\u001b[0m file \u001b[38;5;241m=\u001b[39m \u001b[38;5;28;43mself\u001b[39;49m\u001b[38;5;241;43m.\u001b[39;49m\u001b[43m_opener\u001b[49m\u001b[43m(\u001b[49m\u001b[38;5;241;43m*\u001b[39;49m\u001b[38;5;28;43mself\u001b[39;49m\u001b[38;5;241;43m.\u001b[39;49m\u001b[43m_args\u001b[49m\u001b[43m,\u001b[49m\u001b[43m \u001b[49m\u001b[38;5;241;43m*\u001b[39;49m\u001b[38;5;241;43m*\u001b[39;49m\u001b[43mkwargs\u001b[49m\u001b[43m)\u001b[49m\n\u001b[1;32m    216\u001b[0m \u001b[38;5;28;01mif\u001b[39;00m \u001b[38;5;28mself\u001b[39m\u001b[38;5;241m.\u001b[39m_mode \u001b[38;5;241m==\u001b[39m \u001b[38;5;124m\"\u001b[39m\u001b[38;5;124mw\u001b[39m\u001b[38;5;124m\"\u001b[39m:\n\u001b[1;32m    217\u001b[0m     \u001b[38;5;66;03m# ensure file doesn't get overridden when opened again\u001b[39;00m\n\u001b[1;32m    218\u001b[0m     \u001b[38;5;28mself\u001b[39m\u001b[38;5;241m.\u001b[39m_mode \u001b[38;5;241m=\u001b[39m \u001b[38;5;124m\"\u001b[39m\u001b[38;5;124ma\u001b[39m\u001b[38;5;124m\"\u001b[39m\n",
      "File \u001b[0;32msrc/netCDF4/_netCDF4.pyx:2463\u001b[0m, in \u001b[0;36mnetCDF4._netCDF4.Dataset.__init__\u001b[0;34m()\u001b[0m\n",
      "File \u001b[0;32msrc/netCDF4/_netCDF4.pyx:2026\u001b[0m, in \u001b[0;36mnetCDF4._netCDF4._ensure_nc_success\u001b[0;34m()\u001b[0m\n",
      "\u001b[0;31mFileNotFoundError\u001b[0m: [Errno 2] No such file or directory: b'/storage/homefs/no21h426/WeatherBench-master/data/WeatherBench/5.625deg/geopotential/geopotential_500hPa_2015_5.625deg.nc'"
     ]
    }
   ],
   "source": [
    "test = ERA5(DATADIR, None,[\"geopotential\"], [Year(2015),Year(2018)])"
   ]
  },
  {
   "cell_type": "code",
   "execution_count": null,
   "id": "5d595f63-cc43-4fd9-bbe4-822ee8be8ebb",
   "metadata": {},
   "outputs": [],
   "source": []
  },
  {
   "cell_type": "code",
   "execution_count": 7,
   "id": "d7fc9fdd",
   "metadata": {},
   "outputs": [
    {
     "data": {
      "text/plain": [
       "array(['2015-01-01T00:00:00.000000000', '2015-01-01T01:00:00.000000000',\n",
       "       '2015-01-01T02:00:00.000000000', ...,\n",
       "       '2015-12-28T21:00:00.000000000', '2015-12-28T22:00:00.000000000',\n",
       "       '2015-12-28T23:00:00.000000000'], dtype='datetime64[ns]')"
      ]
     },
     "execution_count": 7,
     "metadata": {},
     "output_type": "execute_result"
    }
   ],
   "source": [
    "data_module.train_dataset.time"
   ]
  },
  {
   "cell_type": "code",
   "execution_count": 8,
   "id": "53584b23",
   "metadata": {},
   "outputs": [
    {
     "data": {
      "text/plain": [
       "<matplotlib.image.AxesImage at 0x7f0c27bfcbe0>"
      ]
     },
     "execution_count": 8,
     "metadata": {},
     "output_type": "execute_result"
    },
    {
     "data": {
      "image/png": "[encoded data removed]",
      "text/plain": [
       "<Figure size 640x480 with 1 Axes>"
      ]
     },
     "metadata": {},
     "output_type": "display_data"
    }
   ],
   "source": [
    "import matplotlib.pyplot as plt\n",
    "plt.imshow(data_module.train_dataset.inp_data[0,0,:,:])"
   ]
  },
  {
   "cell_type": "code",
   "execution_count": 9,
   "id": "0973dcd2",
   "metadata": {},
   "outputs": [
    {
     "name": "stdout",
     "output_type": "stream",
     "text": [
      "['2m_temperature']\n"
     ]
    }
   ],
   "source": [
    "print(data_module.hparams.in_vars)"
   ]
  },
  {
   "cell_type": "code",
   "execution_count": 10,
   "id": "2ba28c6a-cd19-47f8-b9b7-75f3ee015437",
   "metadata": {},
   "outputs": [],
   "source": [
    "from climate_learn.models import load_model"
   ]
  },
  {
   "cell_type": "code",
   "execution_count": 12,
   "id": "d6761881-56ea-4d31-9102-1edf1deaf053",
   "metadata": {},
   "outputs": [],
   "source": [
    "# for ViT\n",
    "model_kwargs = {\n",
    "     \"img_size\": [32, 64],\n",
    "     \"patch_size\": 2,\n",
    "     \"drop_path\": 0.1,\n",
    "     \"drop_rate\": 0.1,\n",
    "    \"in_vars\": data_module.hparams.in_vars,\n",
    "     \"learn_pos_emb\": True,\n",
    "     \"out_vars\": data_module.hparams.out_vars,\n",
    "     \"embed_dim\": 128,\n",
    "     \"depth\": 8,\n",
    "     \"decoder_depth\": 0,\n",
    "     \"num_heads\": 4,\n",
    "     \"mlp_ratio\": 4,\n",
    " }\n",
    "\n",
    "# for resnet\n",
    "#model_kwargs = {\n",
    "#    \"in_channels\": len(data_module.hparams.in_vars),\n",
    "#    \"out_channels\": len(data_module.hparams.out_vars),\n",
    "#    \"n_blocks\": 4\n",
    "#}\n",
    "\n",
    "optim_kwargs = {\n",
    "    \"lr\": 1e-4,\n",
    "    \"weight_decay\": 1e-5,\n",
    "    \"warmup_epochs\": 1,\n",
    "    \"max_epochs\": 2,\n",
    "}\n",
    "\n",
    "model_module = load_model(name = \"vit\", task = \"forecasting\", model_kwargs = model_kwargs, optim_kwargs = optim_kwargs)\n",
    "#model_module = load_model(name = \"resnet\", task = \"forecasting\", model_kwargs = model_kwargs, optim_kwargs = optim_kwargs)"
   ]
  },
  {
   "cell_type": "code",
   "execution_count": 16,
   "id": "7af63ef4",
   "metadata": {},
   "outputs": [
    {
     "data": {
      "text/plain": [
       "VisionTransformer(\n",
       "  (patch_embed): PatchEmbed(\n",
       "    (proj): Conv2d(1, 128, kernel_size=(2, 2), stride=(2, 2))\n",
       "    (norm): Identity()\n",
       "  )\n",
       "  (pos_drop): Dropout(p=0.1, inplace=False)\n",
       "  (blocks): ModuleList(\n",
       "    (0): Block(\n",
       "      (norm1): LayerNorm((128,), eps=1e-05, elementwise_affine=True)\n",
       "      (attn): Attention(\n",
       "        (qkv): Linear(in_features=128, out_features=384, bias=True)\n",
       "        (attn_drop): Dropout(p=0.0, inplace=False)\n",
       "        (proj): Linear(in_features=128, out_features=128, bias=True)\n",
       "        (proj_drop): Dropout(p=0.1, inplace=False)\n",
       "      )\n",
       "      (ls1): Identity()\n",
       "      (drop_path1): Identity()\n",
       "      (norm2): LayerNorm((128,), eps=1e-05, elementwise_affine=True)\n",
       "      (mlp): Mlp(\n",
       "        (fc1): Linear(in_features=128, out_features=512, bias=True)\n",
       "        (act): GELU(approximate=none)\n",
       "        (drop1): Dropout(p=0.1, inplace=False)\n",
       "        (fc2): Linear(in_features=512, out_features=128, bias=True)\n",
       "        (drop2): Dropout(p=0.1, inplace=False)\n",
       "      )\n",
       "      (ls2): Identity()\n",
       "      (drop_path2): Identity()\n",
       "    )\n",
       "    (1): Block(\n",
       "      (norm1): LayerNorm((128,), eps=1e-05, elementwise_affine=True)\n",
       "      (attn): Attention(\n",
       "        (qkv): Linear(in_features=128, out_features=384, bias=True)\n",
       "        (attn_drop): Dropout(p=0.0, inplace=False)\n",
       "        (proj): Linear(in_features=128, out_features=128, bias=True)\n",
       "        (proj_drop): Dropout(p=0.1, inplace=False)\n",
       "      )\n",
       "      (ls1): Identity()\n",
       "      (drop_path1): DropPath(drop_prob=0.014)\n",
       "      (norm2): LayerNorm((128,), eps=1e-05, elementwise_affine=True)\n",
       "      (mlp): Mlp(\n",
       "        (fc1): Linear(in_features=128, out_features=512, bias=True)\n",
       "        (act): GELU(approximate=none)\n",
       "        (drop1): Dropout(p=0.1, inplace=False)\n",
       "        (fc2): Linear(in_features=512, out_features=128, bias=True)\n",
       "        (drop2): Dropout(p=0.1, inplace=False)\n",
       "      )\n",
       "      (ls2): Identity()\n",
       "      (drop_path2): DropPath(drop_prob=0.014)\n",
       "    )\n",
       "    (2): Block(\n",
       "      (norm1): LayerNorm((128,), eps=1e-05, elementwise_affine=True)\n",
       "      (attn): Attention(\n",
       "        (qkv): Linear(in_features=128, out_features=384, bias=True)\n",
       "        (attn_drop): Dropout(p=0.0, inplace=False)\n",
       "        (proj): Linear(in_features=128, out_features=128, bias=True)\n",
       "        (proj_drop): Dropout(p=0.1, inplace=False)\n",
       "      )\n",
       "      (ls1): Identity()\n",
       "      (drop_path1): DropPath(drop_prob=0.029)\n",
       "      (norm2): LayerNorm((128,), eps=1e-05, elementwise_affine=True)\n",
       "      (mlp): Mlp(\n",
       "        (fc1): Linear(in_features=128, out_features=512, bias=True)\n",
       "        (act): GELU(approximate=none)\n",
       "        (drop1): Dropout(p=0.1, inplace=False)\n",
       "        (fc2): Linear(in_features=512, out_features=128, bias=True)\n",
       "        (drop2): Dropout(p=0.1, inplace=False)\n",
       "      )\n",
       "      (ls2): Identity()\n",
       "      (drop_path2): DropPath(drop_prob=0.029)\n",
       "    )\n",
       "    (3): Block(\n",
       "      (norm1): LayerNorm((128,), eps=1e-05, elementwise_affine=True)\n",
       "      (attn): Attention(\n",
       "        (qkv): Linear(in_features=128, out_features=384, bias=True)\n",
       "        (attn_drop): Dropout(p=0.0, inplace=False)\n",
       "        (proj): Linear(in_features=128, out_features=128, bias=True)\n",
       "        (proj_drop): Dropout(p=0.1, inplace=False)\n",
       "      )\n",
       "      (ls1): Identity()\n",
       "      (drop_path1): DropPath(drop_prob=0.043)\n",
       "      (norm2): LayerNorm((128,), eps=1e-05, elementwise_affine=True)\n",
       "      (mlp): Mlp(\n",
       "        (fc1): Linear(in_features=128, out_features=512, bias=True)\n",
       "        (act): GELU(approximate=none)\n",
       "        (drop1): Dropout(p=0.1, inplace=False)\n",
       "        (fc2): Linear(in_features=512, out_features=128, bias=True)\n",
       "        (drop2): Dropout(p=0.1, inplace=False)\n",
       "      )\n",
       "      (ls2): Identity()\n",
       "      (drop_path2): DropPath(drop_prob=0.043)\n",
       "    )\n",
       "    (4): Block(\n",
       "      (norm1): LayerNorm((128,), eps=1e-05, elementwise_affine=True)\n",
       "      (attn): Attention(\n",
       "        (qkv): Linear(in_features=128, out_features=384, bias=True)\n",
       "        (attn_drop): Dropout(p=0.0, inplace=False)\n",
       "        (proj): Linear(in_features=128, out_features=128, bias=True)\n",
       "        (proj_drop): Dropout(p=0.1, inplace=False)\n",
       "      )\n",
       "      (ls1): Identity()\n",
       "      (drop_path1): DropPath(drop_prob=0.057)\n",
       "      (norm2): LayerNorm((128,), eps=1e-05, elementwise_affine=True)\n",
       "      (mlp): Mlp(\n",
       "        (fc1): Linear(in_features=128, out_features=512, bias=True)\n",
       "        (act): GELU(approximate=none)\n",
       "        (drop1): Dropout(p=0.1, inplace=False)\n",
       "        (fc2): Linear(in_features=512, out_features=128, bias=True)\n",
       "        (drop2): Dropout(p=0.1, inplace=False)\n",
       "      )\n",
       "      (ls2): Identity()\n",
       "      (drop_path2): DropPath(drop_prob=0.057)\n",
       "    )\n",
       "    (5): Block(\n",
       "      (norm1): LayerNorm((128,), eps=1e-05, elementwise_affine=True)\n",
       "      (attn): Attention(\n",
       "        (qkv): Linear(in_features=128, out_features=384, bias=True)\n",
       "        (attn_drop): Dropout(p=0.0, inplace=False)\n",
       "        (proj): Linear(in_features=128, out_features=128, bias=True)\n",
       "        (proj_drop): Dropout(p=0.1, inplace=False)\n",
       "      )\n",
       "      (ls1): Identity()\n",
       "      (drop_path1): DropPath(drop_prob=0.071)\n",
       "      (norm2): LayerNorm((128,), eps=1e-05, elementwise_affine=True)\n",
       "      (mlp): Mlp(\n",
       "        (fc1): Linear(in_features=128, out_features=512, bias=True)\n",
       "        (act): GELU(approximate=none)\n",
       "        (drop1): Dropout(p=0.1, inplace=False)\n",
       "        (fc2): Linear(in_features=512, out_features=128, bias=True)\n",
       "        (drop2): Dropout(p=0.1, inplace=False)\n",
       "      )\n",
       "      (ls2): Identity()\n",
       "      (drop_path2): DropPath(drop_prob=0.071)\n",
       "    )\n",
       "    (6): Block(\n",
       "      (norm1): LayerNorm((128,), eps=1e-05, elementwise_affine=True)\n",
       "      (attn): Attention(\n",
       "        (qkv): Linear(in_features=128, out_features=384, bias=True)\n",
       "        (attn_drop): Dropout(p=0.0, inplace=False)\n",
       "        (proj): Linear(in_features=128, out_features=128, bias=True)\n",
       "        (proj_drop): Dropout(p=0.1, inplace=False)\n",
       "      )\n",
       "      (ls1): Identity()\n",
       "      (drop_path1): DropPath(drop_prob=0.086)\n",
       "      (norm2): LayerNorm((128,), eps=1e-05, elementwise_affine=True)\n",
       "      (mlp): Mlp(\n",
       "        (fc1): Linear(in_features=128, out_features=512, bias=True)\n",
       "        (act): GELU(approximate=none)\n",
       "        (drop1): Dropout(p=0.1, inplace=False)\n",
       "        (fc2): Linear(in_features=512, out_features=128, bias=True)\n",
       "        (drop2): Dropout(p=0.1, inplace=False)\n",
       "      )\n",
       "      (ls2): Identity()\n",
       "      (drop_path2): DropPath(drop_prob=0.086)\n",
       "    )\n",
       "    (7): Block(\n",
       "      (norm1): LayerNorm((128,), eps=1e-05, elementwise_affine=True)\n",
       "      (attn): Attention(\n",
       "        (qkv): Linear(in_features=128, out_features=384, bias=True)\n",
       "        (attn_drop): Dropout(p=0.0, inplace=False)\n",
       "        (proj): Linear(in_features=128, out_features=128, bias=True)\n",
       "        (proj_drop): Dropout(p=0.1, inplace=False)\n",
       "      )\n",
       "      (ls1): Identity()\n",
       "      (drop_path1): DropPath(drop_prob=0.100)\n",
       "      (norm2): LayerNorm((128,), eps=1e-05, elementwise_affine=True)\n",
       "      (mlp): Mlp(\n",
       "        (fc1): Linear(in_features=128, out_features=512, bias=True)\n",
       "        (act): GELU(approximate=none)\n",
       "        (drop1): Dropout(p=0.1, inplace=False)\n",
       "        (fc2): Linear(in_features=512, out_features=128, bias=True)\n",
       "        (drop2): Dropout(p=0.1, inplace=False)\n",
       "      )\n",
       "      (ls2): Identity()\n",
       "      (drop_path2): DropPath(drop_prob=0.100)\n",
       "    )\n",
       "  )\n",
       "  (norm): LayerNorm((128,), eps=1e-05, elementwise_affine=True)\n",
       "  (head): Sequential()\n",
       ")"
      ]
     },
     "execution_count": 16,
     "metadata": {},
     "output_type": "execute_result"
    }
   ],
   "source": [
    "model_module.net"
   ]
  },
  {
   "cell_type": "code",
   "execution_count": null,
   "id": "8a11b2a8",
   "metadata": {},
   "outputs": [
    {
     "name": "stderr",
     "output_type": "stream",
     "text": [
      "\u001b[34m\u001b[1mwandb\u001b[0m: \u001b[33mWARNING\u001b[0m WANDB_NOTEBOOK_NAME should be a path to a notebook file, couldn't find CCAI Tutorial.\n",
      "\u001b[34m\u001b[1mwandb\u001b[0m: Logging into wandb.ai. (Learn how to deploy a W&B server locally: https://wandb.me/wandb-server)\n",
      "\u001b[34m\u001b[1mwandb\u001b[0m: You can find your API key in your browser here: https://wandb.ai/authorize\n",
      "\u001b[34m\u001b[1mwandb\u001b[0m: Paste an API key from your profile and hit enter, or press ctrl+c to quit:"
     ]
    }
   ],
   "source": [
    "from climate_learn.training import Trainer, WandbLogger\n",
    "from rich.progress import track\n",
    "\n",
    "trainer = Trainer(\n",
    "    seed = 0,\n",
    "    accelerator = \"gpu\",\n",
    "    precision = 16,\n",
    "    max_epochs = 5,\n",
    "    logger = WandbLogger(project = \"climate_tutorial\", name = \"forecast-vit\")\n",
    ")"
   ]
  },
  {
   "cell_type": "code",
   "execution_count": null,
   "id": "fadf820c",
   "metadata": {},
   "outputs": [],
   "source": [
    "# At the moment there are some issues when running some functions of climate_learn, need to check it out! "
   ]
  }
 ],
 "metadata": {
  "kernelspec": {
   "display_name": "pyTT",
   "language": "python",
   "name": "pytt"
  },
  "language_info": {
   "codemirror_mode": {
    "name": "ipython",
    "version": 3
   },
   "file_extension": ".py",
   "mimetype": "text/x-python",
   "name": "python",
   "nbconvert_exporter": "python",
   "pygments_lexer": "ipython3",
   "version": "3.10.8"
  },
  "vscode": {
   "interpreter": {
    "hash": "a2b4a94c050f7ef1ec91a134f52f9c780837f2160bcd6800fc44293dcad42a24"
   }
  }
 },
 "nbformat": 4,
 "nbformat_minor": 5
}
