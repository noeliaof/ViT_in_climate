{
 "cells": [
  {
   "cell_type": "markdown",
   "id": "e163444d-c75b-4b7c-bd9a-9834ed74c10c",
   "metadata": {},
   "source": [
    "### Climatelearn testing "
   ]
  },
  {
   "cell_type": "code",
   "execution_count": null,
   "id": "5cee8bbb-d83e-4d4b-af33-704b65ffcc71",
   "metadata": {},
   "outputs": [],
   "source": [
    "# This jupyter notebook uses climatelearn tools \n",
    "# I use the same data from WeatherBench and compare the results with my implementation of ViT"
   ]
  },
  {
   "cell_type": "code",
   "execution_count": 1,
   "id": "20bd8167-fc00-4dd1-b67b-2ed1d0f271fd",
   "metadata": {},
   "outputs": [
    {
     "name": "stdout",
     "output_type": "stream",
     "text": [
      "3.10.8 | packaged by conda-forge | (main, Nov 22 2022, 08:27:35) [Clang 14.0.6 ]\n"
     ]
    }
   ],
   "source": [
    "import sys\n",
    "print(sys.version)"
   ]
  },
  {
   "cell_type": "code",
   "execution_count": 2,
   "id": "c1f02ba4-4102-4f21-90ae-5f313076f0ce",
   "metadata": {},
   "outputs": [],
   "source": [
    "import torch as T\n",
    "import torch.nn as nn\n",
    "#from torchtext import data, datasets\n",
    "#from torchtext.vocab import Vocab\n",
    "import torch.optim as optim\n",
    "import time\n",
    "import copy\n",
    "import torch\n",
    "import torch.nn.functional as F\n",
    "#from torchsummary import summary\n",
    "import math\n",
    "\n",
    "# Common imports\n",
    "import os\n",
    "import glob\n",
    "import numpy as np\n",
    "import pandas as pd\n",
    "import xarray as xr\n",
    "import dask\n",
    "import math\n",
    "import datetime\n",
    "from collections import OrderedDict\n"
   ]
  },
  {
   "cell_type": "code",
   "execution_count": 3,
   "id": "e9225143-fa06-462d-9c74-77e9066a3f8c",
   "metadata": {},
   "outputs": [
    {
     "name": "stdout",
     "output_type": "stream",
     "text": [
      "Cuda Avaliable : False\n",
      "cpu\n"
     ]
    }
   ],
   "source": [
    "print(\"Cuda Avaliable :\", torch.cuda.is_available())\n",
    "\n",
    "device = torch.device('cuda' if torch.cuda.is_available() else 'cpu')\n",
    "print(device)"
   ]
  },
  {
   "cell_type": "code",
   "execution_count": 30,
   "id": "b8f7b7e7",
   "metadata": {},
   "outputs": [],
   "source": [
    "from climate_learn.utils.data import load_dataset, view\n",
    "\n",
    "DATADIR = '/Users/noeliaotero/Documents/CAS_ML/WeatherBench-master/data/WeatherBench/5.625deg/'"
   ]
  },
  {
   "cell_type": "code",
   "execution_count": 32,
   "id": "4db44e63",
   "metadata": {},
   "outputs": [
    {
     "name": "stdout",
     "output_type": "stream",
     "text": [
      "Creating train dataset\n"
     ]
    },
    {
     "data": {
      "application/vnd.jupyter.widget-view+json": {
       "model_id": "cf4cb59244af437fb2127b6d6d6a3953",
       "version_major": 2,
       "version_minor": 0
      },
      "text/plain": [
       "  0%|          | 0/1 [00:00<?, ?it/s]"
      ]
     },
     "metadata": {},
     "output_type": "display_data"
    },
    {
     "name": "stdout",
     "output_type": "stream",
     "text": [
      "Creating val dataset\n"
     ]
    },
    {
     "data": {
      "application/vnd.jupyter.widget-view+json": {
       "model_id": "c0a5b21109424a56a316ec5342bad794",
       "version_major": 2,
       "version_minor": 0
      },
      "text/plain": [
       "  0%|          | 0/1 [00:00<?, ?it/s]"
      ]
     },
     "metadata": {},
     "output_type": "display_data"
    },
    {
     "name": "stdout",
     "output_type": "stream",
     "text": [
      "Creating test dataset\n"
     ]
    },
    {
     "data": {
      "application/vnd.jupyter.widget-view+json": {
       "model_id": "f1411e8627a142c99dfaf6129fca6ed6",
       "version_major": 2,
       "version_minor": 0
      },
      "text/plain": [
       "  0%|          | 0/2 [00:00<?, ?it/s]"
      ]
     },
     "metadata": {},
     "output_type": "display_data"
    }
   ],
   "source": [
    "# Load data module for forecasting task\n",
    "from climate_learn.utils.datetime import Year, Days, Hours\n",
    "from climate_learn.data import DataModule\n",
    "\n",
    "data_module = DataModule(\n",
    "    dataset = \"ERA5\",\n",
    "    task = \"forecasting\",\n",
    "    root_dir = DATADIR,\n",
    "    in_vars = [\"2m_temperature\"],\n",
    "    out_vars = [\"2m_temperature\"],\n",
    "    train_start_year = Year(2015),\n",
    "    val_start_year = Year(2016),\n",
    "    test_start_year = Year(2017),\n",
    "    end_year = Year(2018),\n",
    "    pred_range = Days(3),\n",
    "    subsample = Hours(1),\n",
    "    batch_size = 128,\n",
    "    num_workers = 1\n",
    ")"
   ]
  },
  {
   "cell_type": "code",
   "execution_count": 33,
   "id": "d7fc9fdd",
   "metadata": {},
   "outputs": [
    {
     "data": {
      "text/plain": [
       "array(['2015-01-01T00:00:00.000000000', '2015-01-01T01:00:00.000000000',\n",
       "       '2015-01-01T02:00:00.000000000', ...,\n",
       "       '2015-12-28T21:00:00.000000000', '2015-12-28T22:00:00.000000000',\n",
       "       '2015-12-28T23:00:00.000000000'], dtype='datetime64[ns]')"
      ]
     },
     "execution_count": 33,
     "metadata": {},
     "output_type": "execute_result"
    }
   ],
   "source": [
    "data_module.train_dataset.time"
   ]
  },
  {
   "cell_type": "code",
   "execution_count": 35,
   "id": "53584b23",
   "metadata": {},
   "outputs": [
    {
     "data": {
      "text/plain": [
       "<matplotlib.image.AxesImage at 0x187b578b0>"
      ]
     },
     "execution_count": 35,
     "metadata": {},
     "output_type": "execute_result"
    },
    {
     "data": {
      "image/png": "[encoded data removed]",
      "text/plain": [
       "<Figure size 640x480 with 1 Axes>"
      ]
     },
     "metadata": {},
     "output_type": "display_data"
    }
   ],
   "source": [
    "import matplotlib.pyplot as plt\n",
    "plt.imshow(data_module.train_dataset.inp_data[0,0,:,:])"
   ]
  },
  {
   "cell_type": "code",
   "execution_count": 45,
   "id": "0973dcd2",
   "metadata": {},
   "outputs": [
    {
     "name": "stdout",
     "output_type": "stream",
     "text": [
      "['2m_temperature']\n"
     ]
    }
   ],
   "source": [
    "print(data_module.hparams.in_vars)"
   ]
  },
  {
   "cell_type": "code",
   "execution_count": 36,
   "id": "2ba28c6a-cd19-47f8-b9b7-75f3ee015437",
   "metadata": {},
   "outputs": [],
   "source": [
    "from climate_learn.models import load_model"
   ]
  },
  {
   "cell_type": "code",
   "execution_count": 62,
   "id": "d6761881-56ea-4d31-9102-1edf1deaf053",
   "metadata": {},
   "outputs": [],
   "source": [
    "# for ViT\n",
    "#model_kwargs = {\n",
    "#     \"img_size\": [32, 64],\n",
    "#     \"patch_size\": 2,\n",
    "#     \"drop_path\": 0.1,\n",
    "#     \"drop_rate\": 0.1,\n",
    "#    \"in_vars\": data_module.hparams.in_vars,\n",
    "#     \"learn_pos_emb\": True,\n",
    "#     \"out_vars\": data_module.hparams.out_vars,\n",
    "#     \"embed_dim\": 128,\n",
    "#     \"depth\": 8,\n",
    "#     \"decoder_depth\": 0,\n",
    "#     \"num_heads\": 4,\n",
    "#     \"mlp_ratio\": 4,\n",
    "# }\n",
    "\n",
    "# for resnet\n",
    "model_kwargs = {\n",
    "    \"in_channels\": len(data_module.hparams.in_vars),\n",
    "    \"out_channels\": len(data_module.hparams.out_vars),\n",
    "    \"n_blocks\": 4\n",
    "}\n",
    "\n",
    "optim_kwargs = {\n",
    "    \"lr\": 1e-4,\n",
    "    \"weight_decay\": 1e-5,\n",
    "    \"warmup_epochs\": 1,\n",
    "    \"max_epochs\": 5,\n",
    "}\n",
    "\n",
    "# model_module = load_model(name = \"vit\", task = \"forecasting\", model_kwargs = model_kwargs, optim_kwargs = optim_kwargs)\n",
    "model_module = load_model(name = \"resnet\", task = \"forecasting\", model_kwargs = model_kwargs, optim_kwargs = optim_kwargs)"
   ]
  },
  {
   "cell_type": "code",
   "execution_count": 63,
   "id": "7af63ef4",
   "metadata": {},
   "outputs": [
    {
     "data": {
      "text/plain": [
       "ResNet(\n",
       "  (activation): LeakyReLU(negative_slope=0.3)\n",
       "  (image_proj): PeriodicConv2D(\n",
       "    (padding): PeriodicPadding2D()\n",
       "    (conv): Conv2d(1, 128, kernel_size=(7, 7), stride=(1, 1))\n",
       "  )\n",
       "  (blocks): ModuleList(\n",
       "    (0): ResidualBlock(\n",
       "      (activation): LeakyReLU(negative_slope=0.3)\n",
       "      (conv1): PeriodicConv2D(\n",
       "        (padding): PeriodicPadding2D()\n",
       "        (conv): Conv2d(128, 128, kernel_size=(3, 3), stride=(1, 1))\n",
       "      )\n",
       "      (conv2): PeriodicConv2D(\n",
       "        (padding): PeriodicPadding2D()\n",
       "        (conv): Conv2d(128, 128, kernel_size=(3, 3), stride=(1, 1))\n",
       "      )\n",
       "      (shortcut): Identity()\n",
       "      (norm1): BatchNorm2d(128, eps=1e-05, momentum=0.1, affine=True, track_running_stats=True)\n",
       "      (norm2): BatchNorm2d(128, eps=1e-05, momentum=0.1, affine=True, track_running_stats=True)\n",
       "      (drop): Dropout(p=0.1, inplace=False)\n",
       "    )\n",
       "    (1): ResidualBlock(\n",
       "      (activation): LeakyReLU(negative_slope=0.3)\n",
       "      (conv1): PeriodicConv2D(\n",
       "        (padding): PeriodicPadding2D()\n",
       "        (conv): Conv2d(128, 128, kernel_size=(3, 3), stride=(1, 1))\n",
       "      )\n",
       "      (conv2): PeriodicConv2D(\n",
       "        (padding): PeriodicPadding2D()\n",
       "        (conv): Conv2d(128, 128, kernel_size=(3, 3), stride=(1, 1))\n",
       "      )\n",
       "      (shortcut): Identity()\n",
       "      (norm1): BatchNorm2d(128, eps=1e-05, momentum=0.1, affine=True, track_running_stats=True)\n",
       "      (norm2): BatchNorm2d(128, eps=1e-05, momentum=0.1, affine=True, track_running_stats=True)\n",
       "      (drop): Dropout(p=0.1, inplace=False)\n",
       "    )\n",
       "    (2): ResidualBlock(\n",
       "      (activation): LeakyReLU(negative_slope=0.3)\n",
       "      (conv1): PeriodicConv2D(\n",
       "        (padding): PeriodicPadding2D()\n",
       "        (conv): Conv2d(128, 128, kernel_size=(3, 3), stride=(1, 1))\n",
       "      )\n",
       "      (conv2): PeriodicConv2D(\n",
       "        (padding): PeriodicPadding2D()\n",
       "        (conv): Conv2d(128, 128, kernel_size=(3, 3), stride=(1, 1))\n",
       "      )\n",
       "      (shortcut): Identity()\n",
       "      (norm1): BatchNorm2d(128, eps=1e-05, momentum=0.1, affine=True, track_running_stats=True)\n",
       "      (norm2): BatchNorm2d(128, eps=1e-05, momentum=0.1, affine=True, track_running_stats=True)\n",
       "      (drop): Dropout(p=0.1, inplace=False)\n",
       "    )\n",
       "    (3): ResidualBlock(\n",
       "      (activation): LeakyReLU(negative_slope=0.3)\n",
       "      (conv1): PeriodicConv2D(\n",
       "        (padding): PeriodicPadding2D()\n",
       "        (conv): Conv2d(128, 128, kernel_size=(3, 3), stride=(1, 1))\n",
       "      )\n",
       "      (conv2): PeriodicConv2D(\n",
       "        (padding): PeriodicPadding2D()\n",
       "        (conv): Conv2d(128, 128, kernel_size=(3, 3), stride=(1, 1))\n",
       "      )\n",
       "      (shortcut): Identity()\n",
       "      (norm1): BatchNorm2d(128, eps=1e-05, momentum=0.1, affine=True, track_running_stats=True)\n",
       "      (norm2): BatchNorm2d(128, eps=1e-05, momentum=0.1, affine=True, track_running_stats=True)\n",
       "      (drop): Dropout(p=0.1, inplace=False)\n",
       "    )\n",
       "  )\n",
       "  (norm): BatchNorm2d(128, eps=1e-05, momentum=0.1, affine=True, track_running_stats=True)\n",
       "  (final): PeriodicConv2D(\n",
       "    (padding): PeriodicPadding2D()\n",
       "    (conv): Conv2d(128, 1, kernel_size=(7, 7), stride=(1, 1))\n",
       "  )\n",
       ")"
      ]
     },
     "execution_count": 63,
     "metadata": {},
     "output_type": "execute_result"
    }
   ],
   "source": [
    "model_module.net"
   ]
  },
  {
   "cell_type": "code",
   "execution_count": 68,
   "id": "8a11b2a8",
   "metadata": {},
   "outputs": [
    {
     "name": "stderr",
     "output_type": "stream",
     "text": [
      "Global seed set to 0\n"
     ]
    },
    {
     "ename": "ModuleNotFoundError",
     "evalue": "`RichProgressBar` requires `rich` >= 10.2.2. Install it by running `pip install -U rich`.",
     "output_type": "error",
     "traceback": [
      "\u001b[0;31m---------------------------------------------------------------------------\u001b[0m",
      "\u001b[0;31mModuleNotFoundError\u001b[0m                       Traceback (most recent call last)",
      "Cell \u001b[0;32mIn[68], line 4\u001b[0m\n\u001b[1;32m      1\u001b[0m \u001b[39mfrom\u001b[39;00m \u001b[39mclimate_learn\u001b[39;00m\u001b[39m.\u001b[39;00m\u001b[39mtraining\u001b[39;00m \u001b[39mimport\u001b[39;00m Trainer, WandbLogger\n\u001b[1;32m      2\u001b[0m \u001b[39mfrom\u001b[39;00m \u001b[39mrich\u001b[39;00m\u001b[39m.\u001b[39;00m\u001b[39mprogress\u001b[39;00m \u001b[39mimport\u001b[39;00m track\n\u001b[0;32m----> 4\u001b[0m trainer \u001b[39m=\u001b[39m Trainer(\n\u001b[1;32m      5\u001b[0m     seed \u001b[39m=\u001b[39;49m \u001b[39m0\u001b[39;49m,\n\u001b[1;32m      6\u001b[0m     accelerator \u001b[39m=\u001b[39;49m \u001b[39m\"\u001b[39;49m\u001b[39mgpu\u001b[39;49m\u001b[39m\"\u001b[39;49m,\n\u001b[1;32m      7\u001b[0m     precision \u001b[39m=\u001b[39;49m \u001b[39m16\u001b[39;49m,\n\u001b[1;32m      8\u001b[0m     max_epochs \u001b[39m=\u001b[39;49m \u001b[39m5\u001b[39;49m,\n\u001b[1;32m      9\u001b[0m     \u001b[39m# logger = WandbLogger(project = \"climate_tutorial\", name = \"forecast-vit\")\u001b[39;49;00m\n\u001b[1;32m     10\u001b[0m )\n",
      "File \u001b[0;32m~/Documents/climate-learn/src/climate_learn/training/train.py:34\u001b[0m, in \u001b[0;36mTrainer.__init__\u001b[0;34m(self, seed, accelerator, devices, precision, max_epochs, logger)\u001b[0m\n\u001b[1;32m     27\u001b[0m checkpoint_callback \u001b[39m=\u001b[39m ModelCheckpoint(\n\u001b[1;32m     28\u001b[0m     save_last\u001b[39m=\u001b[39m\u001b[39mTrue\u001b[39;00m,\n\u001b[1;32m     29\u001b[0m     verbose\u001b[39m=\u001b[39m\u001b[39mFalse\u001b[39;00m,\n\u001b[1;32m     30\u001b[0m     filename\u001b[39m=\u001b[39m\u001b[39m\"\u001b[39m\u001b[39mepoch_\u001b[39m\u001b[39m{epoch:03d}\u001b[39;00m\u001b[39m\"\u001b[39m,\n\u001b[1;32m     31\u001b[0m     auto_insert_metric_name\u001b[39m=\u001b[39m\u001b[39mFalse\u001b[39;00m,\n\u001b[1;32m     32\u001b[0m )\n\u001b[1;32m     33\u001b[0m summary_callback \u001b[39m=\u001b[39m RichModelSummary(max_depth\u001b[39m=\u001b[39m\u001b[39m-\u001b[39m\u001b[39m1\u001b[39m)\n\u001b[0;32m---> 34\u001b[0m progress_callback \u001b[39m=\u001b[39m RichProgressBar()\n\u001b[1;32m     36\u001b[0m \u001b[39mself\u001b[39m\u001b[39m.\u001b[39mtrainer \u001b[39m=\u001b[39m LitTrainer(\n\u001b[1;32m     37\u001b[0m     logger\u001b[39m=\u001b[39mlogger,\n\u001b[1;32m     38\u001b[0m     accelerator\u001b[39m=\u001b[39maccelerator,\n\u001b[0;32m   (...)\u001b[0m\n\u001b[1;32m     42\u001b[0m     callbacks\u001b[39m=\u001b[39m[checkpoint_callback, summary_callback, progress_callback],\n\u001b[1;32m     43\u001b[0m )\n",
      "File \u001b[0;32m~/opt/anaconda3/envs/cl_env/lib/python3.10/site-packages/pytorch_lightning/callbacks/progress/rich_progress.py:248\u001b[0m, in \u001b[0;36mRichProgressBar.__init__\u001b[0;34m(self, refresh_rate, leave, theme, console_kwargs)\u001b[0m\n\u001b[1;32m    240\u001b[0m \u001b[39mdef\u001b[39;00m \u001b[39m__init__\u001b[39m(\n\u001b[1;32m    241\u001b[0m     \u001b[39mself\u001b[39m,\n\u001b[1;32m    242\u001b[0m     refresh_rate: \u001b[39mint\u001b[39m \u001b[39m=\u001b[39m \u001b[39m1\u001b[39m,\n\u001b[0;32m   (...)\u001b[0m\n\u001b[1;32m    245\u001b[0m     console_kwargs: Optional[Dict[\u001b[39mstr\u001b[39m, Any]] \u001b[39m=\u001b[39m \u001b[39mNone\u001b[39;00m,\n\u001b[1;32m    246\u001b[0m ) \u001b[39m-\u001b[39m\u001b[39m>\u001b[39m \u001b[39mNone\u001b[39;00m:\n\u001b[1;32m    247\u001b[0m     \u001b[39mif\u001b[39;00m \u001b[39mnot\u001b[39;00m _RICH_AVAILABLE:\n\u001b[0;32m--> 248\u001b[0m         \u001b[39mraise\u001b[39;00m \u001b[39mModuleNotFoundError\u001b[39;00m(\n\u001b[1;32m    249\u001b[0m             \u001b[39m\"\u001b[39m\u001b[39m`RichProgressBar` requires `rich` >= 10.2.2. Install it by running `pip install -U rich`.\u001b[39m\u001b[39m\"\u001b[39m\n\u001b[1;32m    250\u001b[0m         )\n\u001b[1;32m    252\u001b[0m     \u001b[39msuper\u001b[39m()\u001b[39m.\u001b[39m\u001b[39m__init__\u001b[39m()\n\u001b[1;32m    253\u001b[0m     \u001b[39mself\u001b[39m\u001b[39m.\u001b[39m_refresh_rate: \u001b[39mint\u001b[39m \u001b[39m=\u001b[39m refresh_rate\n",
      "\u001b[0;31mModuleNotFoundError\u001b[0m: `RichProgressBar` requires `rich` >= 10.2.2. Install it by running `pip install -U rich`."
     ]
    }
   ],
   "source": [
    "from climate_learn.training import Trainer, WandbLogger\n",
    "from rich.progress import track\n",
    "\n",
    "trainer = Trainer(\n",
    "    seed = 0,\n",
    "    accelerator = \"gpu\",\n",
    "    precision = 16,\n",
    "    max_epochs = 5,\n",
    "    # logger = WandbLogger(project = \"climate_tutorial\", name = \"forecast-vit\")\n",
    ")"
   ]
  },
  {
   "cell_type": "code",
   "execution_count": null,
   "id": "fadf820c",
   "metadata": {},
   "outputs": [],
   "source": [
    "# At the moment there are some issues when running some functions of climate_learn, need to check it out! "
   ]
  }
 ],
 "metadata": {
  "kernelspec": {
   "display_name": "cl_env",
   "language": "python",
   "name": "python3"
  },
  "language_info": {
   "codemirror_mode": {
    "name": "ipython",
    "version": 3
   },
   "file_extension": ".py",
   "mimetype": "text/x-python",
   "name": "python",
   "nbconvert_exporter": "python",
   "pygments_lexer": "ipython3",
   "version": "3.10.8"
  },
  "vscode": {
   "interpreter": {
    "hash": "a2b4a94c050f7ef1ec91a134f52f9c780837f2160bcd6800fc44293dcad42a24"
   }
  }
 },
 "nbformat": 4,
 "nbformat_minor": 5
}
